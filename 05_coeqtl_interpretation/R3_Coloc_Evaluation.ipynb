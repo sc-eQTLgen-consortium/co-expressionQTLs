{
 "cells": [
  {
   "cell_type": "code",
   "execution_count": 42,
   "id": "253ab18f-d2dc-4dee-a9db-5255571056d6",
   "metadata": {},
   "outputs": [],
   "source": [
    "### Evaluate colocalization results\n",
    "### Load the results saved in R2 script and check out some summaries"
   ]
  },
  {
   "cell_type": "markdown",
   "id": "802f0d1c-925e-480b-a547-865cc6d997b2",
   "metadata": {
    "tags": []
   },
   "source": [
    "# Libraries"
   ]
  },
  {
   "cell_type": "code",
   "execution_count": 43,
   "id": "d187711e-139c-4eaf-bcaf-5795174c795d",
   "metadata": {
    "tags": []
   },
   "outputs": [],
   "source": [
    "source('MS1_Libraries.r')"
   ]
  },
  {
   "cell_type": "markdown",
   "id": "e59e15e0-23cd-457b-b704-05dbfe404876",
   "metadata": {},
   "source": [
    "# Parameters"
   ]
  },
  {
   "cell_type": "code",
   "execution_count": 44,
   "id": "535e2290-2e3b-4cca-880f-8ce2d00f55b7",
   "metadata": {},
   "outputs": [],
   "source": [
    "path<-\"\"\n",
    "outdir<-\"\""
   ]
  },
  {
   "cell_type": "code",
   "execution_count": 45,
   "id": "bfac0756-8f6a-4388-93a1-3e76a178b56e",
   "metadata": {},
   "outputs": [],
   "source": [
    "cell_type_var = c(\"CD4T\",\"CD8T\",\"monocyte\",\"NK\",\"B\",\"DC\")\n",
    "# c(\"CD4T\",\"CD8T\",\"monocyte\",\"NK\",\"B\",\"DC\")"
   ]
  },
  {
   "cell_type": "markdown",
   "id": "96ec5300-7663-481d-b632-a0d23a9f5093",
   "metadata": {},
   "source": [
    "# Data "
   ]
  },
  {
   "cell_type": "markdown",
   "id": "9333eff6-72ae-4d8f-85a0-6030d4a6320c",
   "metadata": {
    "tags": []
   },
   "source": [
    "## Summaries"
   ]
  },
  {
   "cell_type": "code",
   "execution_count": 46,
   "id": "9cbb9461-52d2-43e6-8027-9f2afb401615",
   "metadata": {},
   "outputs": [],
   "source": [
    "### EQTL coloclaization summaries"
   ]
  },
  {
   "cell_type": "code",
   "execution_count": 47,
   "id": "8bb77e4e-8642-4bdc-a5d0-0c194374034b",
   "metadata": {},
   "outputs": [],
   "source": [
    "eqtl_summary = read.table(paste0(path, '/colocalization_results/EQTL_summary_update.csv'), row.names = NULL, sep = \",\", header = TRUE)"
   ]
  },
  {
   "cell_type": "code",
   "execution_count": 48,
   "id": "40f8a037-6668-41f4-b681-605a7a89e211",
   "metadata": {},
   "outputs": [],
   "source": [
    "eqtl_summary$X = NULL"
   ]
  },
  {
   "cell_type": "code",
   "execution_count": 49,
   "id": "060ad489-167f-46a5-b56d-15d87c406773",
   "metadata": {},
   "outputs": [
    {
     "data": {
      "text/html": [
       "648"
      ],
      "text/latex": [
       "648"
      ],
      "text/markdown": [
       "648"
      ],
      "text/plain": [
       "[1] 648"
      ]
     },
     "metadata": {},
     "output_type": "display_data"
    }
   ],
   "source": [
    "nrow(eqtl_summary)"
   ]
  },
  {
   "cell_type": "code",
   "execution_count": 50,
   "id": "204331e6-b4ee-4b70-adc6-7c3d617bf01f",
   "metadata": {},
   "outputs": [
    {
     "data": {
      "text/html": [
       "<table class=\"dataframe\">\n",
       "<caption>A data.frame: 2 × 4</caption>\n",
       "<thead>\n",
       "\t<tr><th></th><th scope=col>parameter</th><th scope=col>value</th><th scope=col>trait</th><th scope=col>identifier</th></tr>\n",
       "\t<tr><th></th><th scope=col>&lt;chr&gt;</th><th scope=col>&lt;dbl&gt;</th><th scope=col>&lt;chr&gt;</th><th scope=col>&lt;chr&gt;</th></tr>\n",
       "</thead>\n",
       "<tbody>\n",
       "\t<tr><th scope=row>1</th><td>nsnps    </td><td>2.561000e+03</td><td>Crohn's Disease</td><td>DC1MB_TMEM176A</td></tr>\n",
       "\t<tr><th scope=row>2</th><td>PP.H0.abf</td><td>7.520034e-04</td><td>Crohn's Disease</td><td>DC1MB_TMEM176A</td></tr>\n",
       "</tbody>\n",
       "</table>\n"
      ],
      "text/latex": [
       "A data.frame: 2 × 4\n",
       "\\begin{tabular}{r|llll}\n",
       "  & parameter & value & trait & identifier\\\\\n",
       "  & <chr> & <dbl> & <chr> & <chr>\\\\\n",
       "\\hline\n",
       "\t1 & nsnps     & 2.561000e+03 & Crohn's Disease & DC1MB\\_TMEM176A\\\\\n",
       "\t2 & PP.H0.abf & 7.520034e-04 & Crohn's Disease & DC1MB\\_TMEM176A\\\\\n",
       "\\end{tabular}\n"
      ],
      "text/markdown": [
       "\n",
       "A data.frame: 2 × 4\n",
       "\n",
       "| <!--/--> | parameter &lt;chr&gt; | value &lt;dbl&gt; | trait &lt;chr&gt; | identifier &lt;chr&gt; |\n",
       "|---|---|---|---|---|\n",
       "| 1 | nsnps     | 2.561000e+03 | Crohn's Disease | DC1MB_TMEM176A |\n",
       "| 2 | PP.H0.abf | 7.520034e-04 | Crohn's Disease | DC1MB_TMEM176A |\n",
       "\n"
      ],
      "text/plain": [
       "  parameter value        trait           identifier    \n",
       "1 nsnps     2.561000e+03 Crohn's Disease DC1MB_TMEM176A\n",
       "2 PP.H0.abf 7.520034e-04 Crohn's Disease DC1MB_TMEM176A"
      ]
     },
     "metadata": {},
     "output_type": "display_data"
    }
   ],
   "source": [
    "head(eqtl_summary,2)"
   ]
  },
  {
   "cell_type": "code",
   "execution_count": 51,
   "id": "c2a206a2-6df9-4748-a5e8-9faf15dce2fa",
   "metadata": {},
   "outputs": [
    {
     "data": {
      "text/html": [
       "<style>\n",
       ".list-inline {list-style: none; margin:0; padding: 0}\n",
       ".list-inline>li {display: inline-block}\n",
       ".list-inline>li:not(:last-child)::after {content: \"\\00b7\"; padding: 0 .5ex}\n",
       "</style>\n",
       "<ol class=list-inline><li>'Crohn\\'s Disease'</li><li>'Inflammatory Bowel Disease'</li><li>'Multiple Sclerosis'</li><li>'Rheumatoid Arthritis'</li><li>'Asthma'</li><li>'Type_1_Diabetes'</li></ol>\n"
      ],
      "text/latex": [
       "\\begin{enumerate*}\n",
       "\\item 'Crohn\\textbackslash{}'s Disease'\n",
       "\\item 'Inflammatory Bowel Disease'\n",
       "\\item 'Multiple Sclerosis'\n",
       "\\item 'Rheumatoid Arthritis'\n",
       "\\item 'Asthma'\n",
       "\\item 'Type\\_1\\_Diabetes'\n",
       "\\end{enumerate*}\n"
      ],
      "text/markdown": [
       "1. 'Crohn\\'s Disease'\n",
       "2. 'Inflammatory Bowel Disease'\n",
       "3. 'Multiple Sclerosis'\n",
       "4. 'Rheumatoid Arthritis'\n",
       "5. 'Asthma'\n",
       "6. 'Type_1_Diabetes'\n",
       "\n",
       "\n"
      ],
      "text/plain": [
       "[1] \"Crohn's Disease\"            \"Inflammatory Bowel Disease\"\n",
       "[3] \"Multiple Sclerosis\"         \"Rheumatoid Arthritis\"      \n",
       "[5] \"Asthma\"                     \"Type_1_Diabetes\"           "
      ]
     },
     "metadata": {},
     "output_type": "display_data"
    }
   ],
   "source": [
    "unique(eqtl_summary$trait)"
   ]
  },
  {
   "cell_type": "code",
   "execution_count": 52,
   "id": "ac50d287-9b5d-4556-ada8-6048d1d16386",
   "metadata": {},
   "outputs": [],
   "source": [
    "eqtl_summary = unique(eqtl_summary)"
   ]
  },
  {
   "cell_type": "code",
   "execution_count": 53,
   "id": "0c57ec7e-f676-4fce-b0d4-65c2dffb2960",
   "metadata": {},
   "outputs": [],
   "source": [
    "duplicates = eqtl_summary %>% group_by(parameter, trait, identifier) %>% count() %>% filter(n>= 2)"
   ]
  },
  {
   "cell_type": "code",
   "execution_count": 54,
   "id": "83f668f5-507d-4ea9-9423-ceca78858a10",
   "metadata": {},
   "outputs": [
    {
     "data": {
      "text/html": [],
      "text/latex": [],
      "text/markdown": [],
      "text/plain": [
       "character(0)"
      ]
     },
     "metadata": {},
     "output_type": "display_data"
    }
   ],
   "source": [
    "unique(duplicates$trait)"
   ]
  },
  {
   "cell_type": "code",
   "execution_count": 55,
   "id": "909e941b-5c5c-4d46-88ed-66327f54c6e3",
   "metadata": {},
   "outputs": [],
   "source": [
    "# Co-EQTL colocalization summaries"
   ]
  },
  {
   "cell_type": "code",
   "execution_count": 56,
   "id": "74c85e40-2a30-4306-ad8e-778bd62b3a52",
   "metadata": {},
   "outputs": [],
   "source": [
    "coeqtl_summary = read.table(paste0(path, '/colocalization_results/COEQTL_summary_update.csv'), row.names = NULL, sep = \",\", header = TRUE)"
   ]
  },
  {
   "cell_type": "code",
   "execution_count": 57,
   "id": "2e60f497-0d9c-4ccf-b00e-be12c19c998e",
   "metadata": {},
   "outputs": [],
   "source": [
    "coeqtl_summary$X = NULL"
   ]
  },
  {
   "cell_type": "code",
   "execution_count": 58,
   "id": "62aede66-8929-4efd-b76e-5145490f3fde",
   "metadata": {},
   "outputs": [
    {
     "data": {
      "text/html": [
       "44688"
      ],
      "text/latex": [
       "44688"
      ],
      "text/markdown": [
       "44688"
      ],
      "text/plain": [
       "[1] 44688"
      ]
     },
     "metadata": {},
     "output_type": "display_data"
    }
   ],
   "source": [
    "nrow(coeqtl_summary)"
   ]
  },
  {
   "cell_type": "code",
   "execution_count": 59,
   "id": "414849c2-215a-414f-af15-a5dbc9b32016",
   "metadata": {},
   "outputs": [
    {
     "data": {
      "text/html": [
       "<table class=\"dataframe\">\n",
       "<caption>A data.frame: 2 × 4</caption>\n",
       "<thead>\n",
       "\t<tr><th></th><th scope=col>parameter</th><th scope=col>value</th><th scope=col>trait</th><th scope=col>identifier</th></tr>\n",
       "\t<tr><th></th><th scope=col>&lt;chr&gt;</th><th scope=col>&lt;dbl&gt;</th><th scope=col>&lt;chr&gt;</th><th scope=col>&lt;chr&gt;</th></tr>\n",
       "</thead>\n",
       "<tbody>\n",
       "\t<tr><th scope=row>1</th><td>nsnps    </td><td>2.560000e+03</td><td>Crohn's Disease</td><td>monocyte_TMEM176A___CAPG__TMEM176A</td></tr>\n",
       "\t<tr><th scope=row>2</th><td>PP.H0.abf</td><td>2.350241e-02</td><td>Crohn's Disease</td><td>monocyte_TMEM176A___CAPG__TMEM176A</td></tr>\n",
       "</tbody>\n",
       "</table>\n"
      ],
      "text/latex": [
       "A data.frame: 2 × 4\n",
       "\\begin{tabular}{r|llll}\n",
       "  & parameter & value & trait & identifier\\\\\n",
       "  & <chr> & <dbl> & <chr> & <chr>\\\\\n",
       "\\hline\n",
       "\t1 & nsnps     & 2.560000e+03 & Crohn's Disease & monocyte\\_TMEM176A\\_\\_\\_CAPG\\_\\_TMEM176A\\\\\n",
       "\t2 & PP.H0.abf & 2.350241e-02 & Crohn's Disease & monocyte\\_TMEM176A\\_\\_\\_CAPG\\_\\_TMEM176A\\\\\n",
       "\\end{tabular}\n"
      ],
      "text/markdown": [
       "\n",
       "A data.frame: 2 × 4\n",
       "\n",
       "| <!--/--> | parameter &lt;chr&gt; | value &lt;dbl&gt; | trait &lt;chr&gt; | identifier &lt;chr&gt; |\n",
       "|---|---|---|---|---|\n",
       "| 1 | nsnps     | 2.560000e+03 | Crohn's Disease | monocyte_TMEM176A___CAPG__TMEM176A |\n",
       "| 2 | PP.H0.abf | 2.350241e-02 | Crohn's Disease | monocyte_TMEM176A___CAPG__TMEM176A |\n",
       "\n"
      ],
      "text/plain": [
       "  parameter value        trait           identifier                        \n",
       "1 nsnps     2.560000e+03 Crohn's Disease monocyte_TMEM176A___CAPG__TMEM176A\n",
       "2 PP.H0.abf 2.350241e-02 Crohn's Disease monocyte_TMEM176A___CAPG__TMEM176A"
      ]
     },
     "metadata": {},
     "output_type": "display_data"
    }
   ],
   "source": [
    "head(coeqtl_summary,2)"
   ]
  },
  {
   "cell_type": "code",
   "execution_count": 60,
   "id": "bbe38511-c264-4bc6-a756-9752bcadf19d",
   "metadata": {},
   "outputs": [],
   "source": [
    "coeqtl_summary = unique(coeqtl_summary)"
   ]
  },
  {
   "cell_type": "code",
   "execution_count": 61,
   "id": "a9c7f658-f3d3-4f73-81d8-0bc498bf0b4b",
   "metadata": {},
   "outputs": [],
   "source": [
    "duplicates = coeqtl_summary %>% group_by(parameter, trait, identifier) %>% count() %>% filter(n>= 2)"
   ]
  },
  {
   "cell_type": "code",
   "execution_count": 62,
   "id": "289a0d48-77c4-4db7-ac5c-32d61bd7f4d6",
   "metadata": {},
   "outputs": [
    {
     "data": {
      "text/html": [],
      "text/latex": [],
      "text/markdown": [],
      "text/plain": [
       "character(0)"
      ]
     },
     "metadata": {},
     "output_type": "display_data"
    }
   ],
   "source": [
    "unique(duplicates$trait)"
   ]
  },
  {
   "cell_type": "code",
   "execution_count": 63,
   "id": "8925b1ae-e0fe-4c96-8c61-d4003d06a2fb",
   "metadata": {},
   "outputs": [],
   "source": [
    "#unique(duplicates$parameter)"
   ]
  },
  {
   "cell_type": "code",
   "execution_count": 64,
   "id": "f2ade7f4-16e7-4018-9b14-f1f4c85c6b0f",
   "metadata": {},
   "outputs": [
    {
     "data": {
      "text/html": [
       "<table class=\"dataframe\">\n",
       "<caption>A grouped_df: 0 × 4</caption>\n",
       "<thead>\n",
       "\t<tr><th scope=col>parameter</th><th scope=col>trait</th><th scope=col>identifier</th><th scope=col>n</th></tr>\n",
       "\t<tr><th scope=col>&lt;chr&gt;</th><th scope=col>&lt;chr&gt;</th><th scope=col>&lt;chr&gt;</th><th scope=col>&lt;int&gt;</th></tr>\n",
       "</thead>\n",
       "<tbody>\n",
       "</tbody>\n",
       "</table>\n"
      ],
      "text/latex": [
       "A grouped\\_df: 0 × 4\n",
       "\\begin{tabular}{llll}\n",
       " parameter & trait & identifier & n\\\\\n",
       " <chr> & <chr> & <chr> & <int>\\\\\n",
       "\\hline\n",
       "\\end{tabular}\n"
      ],
      "text/markdown": [
       "\n",
       "A grouped_df: 0 × 4\n",
       "\n",
       "| parameter &lt;chr&gt; | trait &lt;chr&gt; | identifier &lt;chr&gt; | n &lt;int&gt; |\n",
       "|---|---|---|---|\n",
       "\n"
      ],
      "text/plain": [
       "     parameter trait identifier n"
      ]
     },
     "metadata": {},
     "output_type": "display_data"
    }
   ],
   "source": [
    "head(duplicates,2)"
   ]
  },
  {
   "cell_type": "code",
   "execution_count": 65,
   "id": "e035efd4-9848-4a64-919f-7a48b79bcafd",
   "metadata": {},
   "outputs": [],
   "source": [
    "### Extract egene"
   ]
  },
  {
   "cell_type": "code",
   "execution_count": 66,
   "id": "dc53ab43-4ab9-4f52-8c35-458e10b23406",
   "metadata": {},
   "outputs": [],
   "source": [
    "coeqtl_summary$egene = str_extract(coeqtl_summary$identifier, '.*___')\n",
    "coeqtl_summary$egene = str_replace(coeqtl_summary$egene, '___', '')"
   ]
  },
  {
   "cell_type": "markdown",
   "id": "b5e259ac-c2b6-4888-ae21-a4e6b4dabec0",
   "metadata": {
    "tags": []
   },
   "source": [
    "# Evaluate summaries"
   ]
  },
  {
   "cell_type": "markdown",
   "id": "a3c11cc1-129a-4313-a4b9-5e57278343d9",
   "metadata": {
    "tags": []
   },
   "source": [
    "## For EQTLs"
   ]
  },
  {
   "cell_type": "code",
   "execution_count": 67,
   "id": "f357d86b-10c4-403b-a79d-907ea09f4947",
   "metadata": {},
   "outputs": [
    {
     "data": {
      "text/html": [
       "<table class=\"dataframe\">\n",
       "<caption>A data.frame: 2 × 4</caption>\n",
       "<thead>\n",
       "\t<tr><th></th><th scope=col>parameter</th><th scope=col>value</th><th scope=col>trait</th><th scope=col>identifier</th></tr>\n",
       "\t<tr><th></th><th scope=col>&lt;chr&gt;</th><th scope=col>&lt;dbl&gt;</th><th scope=col>&lt;chr&gt;</th><th scope=col>&lt;chr&gt;</th></tr>\n",
       "</thead>\n",
       "<tbody>\n",
       "\t<tr><th scope=row>1</th><td>nsnps    </td><td>2.561000e+03</td><td>Crohn's Disease</td><td>DC1MB_TMEM176A</td></tr>\n",
       "\t<tr><th scope=row>2</th><td>PP.H0.abf</td><td>7.520034e-04</td><td>Crohn's Disease</td><td>DC1MB_TMEM176A</td></tr>\n",
       "</tbody>\n",
       "</table>\n"
      ],
      "text/latex": [
       "A data.frame: 2 × 4\n",
       "\\begin{tabular}{r|llll}\n",
       "  & parameter & value & trait & identifier\\\\\n",
       "  & <chr> & <dbl> & <chr> & <chr>\\\\\n",
       "\\hline\n",
       "\t1 & nsnps     & 2.561000e+03 & Crohn's Disease & DC1MB\\_TMEM176A\\\\\n",
       "\t2 & PP.H0.abf & 7.520034e-04 & Crohn's Disease & DC1MB\\_TMEM176A\\\\\n",
       "\\end{tabular}\n"
      ],
      "text/markdown": [
       "\n",
       "A data.frame: 2 × 4\n",
       "\n",
       "| <!--/--> | parameter &lt;chr&gt; | value &lt;dbl&gt; | trait &lt;chr&gt; | identifier &lt;chr&gt; |\n",
       "|---|---|---|---|---|\n",
       "| 1 | nsnps     | 2.561000e+03 | Crohn's Disease | DC1MB_TMEM176A |\n",
       "| 2 | PP.H0.abf | 7.520034e-04 | Crohn's Disease | DC1MB_TMEM176A |\n",
       "\n"
      ],
      "text/plain": [
       "  parameter value        trait           identifier    \n",
       "1 nsnps     2.561000e+03 Crohn's Disease DC1MB_TMEM176A\n",
       "2 PP.H0.abf 7.520034e-04 Crohn's Disease DC1MB_TMEM176A"
      ]
     },
     "metadata": {},
     "output_type": "display_data"
    }
   ],
   "source": [
    "head(eqtl_summary,2)"
   ]
  },
  {
   "cell_type": "code",
   "execution_count": 68,
   "id": "28ebc623-2ba4-4382-95cb-d8b652ba881e",
   "metadata": {},
   "outputs": [],
   "source": [
    "## Extract amount of SNPS"
   ]
  },
  {
   "cell_type": "code",
   "execution_count": 69,
   "id": "79bafba6-9302-49ff-b9a3-caa818c18655",
   "metadata": {},
   "outputs": [],
   "source": [
    "n_snps = eqtl_summary[eqtl_summary$parameter == 'nsnps',]\n",
    "n_snps$overlapping_snps = n_snps$value\n",
    "n_snps$parameter = NULL\n",
    "n_snps$value = NULL"
   ]
  },
  {
   "cell_type": "code",
   "execution_count": 70,
   "id": "e5e7f024-b1fb-4e22-8828-cc3cf531de98",
   "metadata": {},
   "outputs": [],
   "source": [
    "#eqtl_summary = eqtl_summary[eqtl_summary$parameter != 'nsnps',]"
   ]
  },
  {
   "cell_type": "code",
   "execution_count": 71,
   "id": "77624013-cc23-4fdb-bce3-b867be56b8ca",
   "metadata": {},
   "outputs": [],
   "source": [
    "## Extract cell-type, gene etc"
   ]
  },
  {
   "cell_type": "code",
   "execution_count": 72,
   "id": "d64fe822-3b10-476b-a132-a49ce34e5449",
   "metadata": {},
   "outputs": [],
   "source": [
    "eqtl_summary$cell_type = str_replace(eqtl_summary$identifier, '_.*', '')"
   ]
  },
  {
   "cell_type": "code",
   "execution_count": 73,
   "id": "ad06f965-dc2e-42c2-aa1c-19ae04cfdadf",
   "metadata": {},
   "outputs": [],
   "source": [
    "eqtl_summary$gene = str_replace(eqtl_summary$identifier, '.*_', '')"
   ]
  },
  {
   "cell_type": "code",
   "execution_count": 74,
   "id": "d5a3d03e-50d1-4429-a6ec-dd636f510609",
   "metadata": {},
   "outputs": [
    {
     "data": {
      "text/html": [
       "<style>\n",
       ".list-inline {list-style: none; margin:0; padding: 0}\n",
       ".list-inline>li {display: inline-block}\n",
       ".list-inline>li:not(:last-child)::after {content: \"\\00b7\"; padding: 0 .5ex}\n",
       "</style>\n",
       "<ol class=list-inline><li>'DC1MB'</li><li>'B1MB'</li><li>'NK1MB'</li><li>'monocyte1MB'</li><li>'CD8T1MB'</li><li>'CD4T1MB'</li></ol>\n"
      ],
      "text/latex": [
       "\\begin{enumerate*}\n",
       "\\item 'DC1MB'\n",
       "\\item 'B1MB'\n",
       "\\item 'NK1MB'\n",
       "\\item 'monocyte1MB'\n",
       "\\item 'CD8T1MB'\n",
       "\\item 'CD4T1MB'\n",
       "\\end{enumerate*}\n"
      ],
      "text/markdown": [
       "1. 'DC1MB'\n",
       "2. 'B1MB'\n",
       "3. 'NK1MB'\n",
       "4. 'monocyte1MB'\n",
       "5. 'CD8T1MB'\n",
       "6. 'CD4T1MB'\n",
       "\n",
       "\n"
      ],
      "text/plain": [
       "[1] \"DC1MB\"       \"B1MB\"        \"NK1MB\"       \"monocyte1MB\" \"CD8T1MB\"    \n",
       "[6] \"CD4T1MB\"    "
      ]
     },
     "metadata": {},
     "output_type": "display_data"
    }
   ],
   "source": [
    "unique(eqtl_summary$cell_type)"
   ]
  },
  {
   "cell_type": "code",
   "execution_count": 75,
   "id": "c7e6fc78-ac1a-451f-bc14-e6dce54f61cb",
   "metadata": {},
   "outputs": [],
   "source": [
    "## Add number of SNPS"
   ]
  },
  {
   "cell_type": "code",
   "execution_count": 76,
   "id": "7d80cf0c-4730-44b8-b678-50f3e5958a29",
   "metadata": {},
   "outputs": [],
   "source": [
    "eqtl_summary = merge(eqtl_summary, n_snps, by.x = c('trait', 'identifier'), by.y = c('trait', 'identifier'))"
   ]
  },
  {
   "cell_type": "code",
   "execution_count": 77,
   "id": "a5e3f9ca-c3d2-445e-ba82-ed242f6a01a3",
   "metadata": {},
   "outputs": [
    {
     "data": {
      "text/html": [
       "<table class=\"dataframe\">\n",
       "<caption>A data.frame: 2 × 7</caption>\n",
       "<thead>\n",
       "\t<tr><th></th><th scope=col>trait</th><th scope=col>identifier</th><th scope=col>parameter</th><th scope=col>value</th><th scope=col>cell_type</th><th scope=col>gene</th><th scope=col>overlapping_snps</th></tr>\n",
       "\t<tr><th></th><th scope=col>&lt;chr&gt;</th><th scope=col>&lt;chr&gt;</th><th scope=col>&lt;chr&gt;</th><th scope=col>&lt;dbl&gt;</th><th scope=col>&lt;chr&gt;</th><th scope=col>&lt;chr&gt;</th><th scope=col>&lt;dbl&gt;</th></tr>\n",
       "</thead>\n",
       "<tbody>\n",
       "\t<tr><th scope=row>1</th><td>Asthma</td><td>B1MB_RNASET2</td><td>nsnps    </td><td>1133.0000000</td><td>B1MB</td><td>RNASET2</td><td>1133</td></tr>\n",
       "\t<tr><th scope=row>2</th><td>Asthma</td><td>B1MB_RNASET2</td><td>PP.H0.abf</td><td>   0.8915183</td><td>B1MB</td><td>RNASET2</td><td>1133</td></tr>\n",
       "</tbody>\n",
       "</table>\n"
      ],
      "text/latex": [
       "A data.frame: 2 × 7\n",
       "\\begin{tabular}{r|lllllll}\n",
       "  & trait & identifier & parameter & value & cell\\_type & gene & overlapping\\_snps\\\\\n",
       "  & <chr> & <chr> & <chr> & <dbl> & <chr> & <chr> & <dbl>\\\\\n",
       "\\hline\n",
       "\t1 & Asthma & B1MB\\_RNASET2 & nsnps     & 1133.0000000 & B1MB & RNASET2 & 1133\\\\\n",
       "\t2 & Asthma & B1MB\\_RNASET2 & PP.H0.abf &    0.8915183 & B1MB & RNASET2 & 1133\\\\\n",
       "\\end{tabular}\n"
      ],
      "text/markdown": [
       "\n",
       "A data.frame: 2 × 7\n",
       "\n",
       "| <!--/--> | trait &lt;chr&gt; | identifier &lt;chr&gt; | parameter &lt;chr&gt; | value &lt;dbl&gt; | cell_type &lt;chr&gt; | gene &lt;chr&gt; | overlapping_snps &lt;dbl&gt; |\n",
       "|---|---|---|---|---|---|---|---|\n",
       "| 1 | Asthma | B1MB_RNASET2 | nsnps     | 1133.0000000 | B1MB | RNASET2 | 1133 |\n",
       "| 2 | Asthma | B1MB_RNASET2 | PP.H0.abf |    0.8915183 | B1MB | RNASET2 | 1133 |\n",
       "\n"
      ],
      "text/plain": [
       "  trait  identifier   parameter value        cell_type gene    overlapping_snps\n",
       "1 Asthma B1MB_RNASET2 nsnps     1133.0000000 B1MB      RNASET2 1133            \n",
       "2 Asthma B1MB_RNASET2 PP.H0.abf    0.8915183 B1MB      RNASET2 1133            "
      ]
     },
     "metadata": {},
     "output_type": "display_data"
    }
   ],
   "source": [
    "head(eqtl_summary,2)"
   ]
  },
  {
   "cell_type": "code",
   "execution_count": 78,
   "id": "b4dcc4f2-deb6-49d5-b737-6dab933a6f21",
   "metadata": {},
   "outputs": [],
   "source": [
    "### Maximum probability per identifier and trait"
   ]
  },
  {
   "cell_type": "code",
   "execution_count": 79,
   "id": "6fbce627-914d-4a99-a610-34fa11114dbd",
   "metadata": {},
   "outputs": [
    {
     "name": "stderr",
     "output_type": "stream",
     "text": [
      "\u001b[1m\u001b[22m`summarise()` has grouped output by 'trait', 'identifier', 'cell_type'. You can\n",
      "override using the `.groups` argument.\n"
     ]
    }
   ],
   "source": [
    "max_prob = eqtl_summary[eqtl_summary$parameter != 'nsnps',] %>% group_by(trait, identifier, cell_type, gene) %>% summarise(value = max(value))"
   ]
  },
  {
   "cell_type": "code",
   "execution_count": 80,
   "id": "e44b29b1-259b-4774-a6ba-3b32e7ffe47a",
   "metadata": {},
   "outputs": [],
   "source": [
    "eqtl_summary_filtered = merge(eqtl_summary, max_prob)"
   ]
  },
  {
   "cell_type": "code",
   "execution_count": 82,
   "id": "79ab3696-b199-4999-a43b-40f08288fc43",
   "metadata": {},
   "outputs": [
    {
     "name": "stderr",
     "output_type": "stream",
     "text": [
      "\u001b[1m\u001b[22m`summarise()` has grouped output by 'parameter'. You can override using the\n",
      "`.groups` argument.\n"
     ]
    }
   ],
   "source": [
    "overview_h_amounts = eqtl_summary_filtered %>% group_by(parameter, trait) %>% summarise(n = n(), mean_value = mean(value), amount_greater_0.9 = sum(value > 0.9), amount_greater_0.75 = sum(value > 0.75),amount_greater_0.5 = sum(value > 0.5))"
   ]
  },
  {
   "cell_type": "code",
   "execution_count": 83,
   "id": "42d9bc14-d39c-4514-8db8-c6a25d0ba778",
   "metadata": {},
   "outputs": [],
   "source": [
    "## Add snp information"
   ]
  },
  {
   "cell_type": "code",
   "execution_count": 84,
   "id": "418546a6-526f-4478-a6d5-75bd891fad4d",
   "metadata": {},
   "outputs": [],
   "source": [
    "n_snps = n_snps %>% group_by(trait) %>% summarise(average_overlapping_snps = mean(overlapping_snps), min_overlapping_snps = min(overlapping_snps), max_overlapping_snps = max(overlapping_snps))"
   ]
  },
  {
   "cell_type": "code",
   "execution_count": 85,
   "id": "a6fd814e-abfd-4b2a-9857-23600340fe97",
   "metadata": {},
   "outputs": [],
   "source": [
    "#n_snps = unique(n_snps[,c('trait', 'overlapping_snps')])"
   ]
  },
  {
   "cell_type": "code",
   "execution_count": 86,
   "id": "410c5391-6f89-4699-a0da-20eda9e82d37",
   "metadata": {},
   "outputs": [],
   "source": [
    "overview_h_amounts = merge(overview_h_amounts, n_snps, by.x = c('trait'), by.y = c('trait'))"
   ]
  },
  {
   "cell_type": "code",
   "execution_count": 87,
   "id": "bc03666e-598c-4ea1-a03f-042cd0136e4c",
   "metadata": {},
   "outputs": [],
   "source": [
    "#head(n_snps,3)"
   ]
  },
  {
   "cell_type": "code",
   "execution_count": 88,
   "id": "2f7826aa-c5cf-4ddc-9745-1c1b72236235",
   "metadata": {},
   "outputs": [
    {
     "data": {
      "text/html": [
       "<table class=\"dataframe\">\n",
       "<caption>A data.frame: 5 × 10</caption>\n",
       "<thead>\n",
       "\t<tr><th></th><th scope=col>trait</th><th scope=col>parameter</th><th scope=col>n</th><th scope=col>mean_value</th><th scope=col>amount_greater_0.9</th><th scope=col>amount_greater_0.75</th><th scope=col>amount_greater_0.5</th><th scope=col>average_overlapping_snps</th><th scope=col>min_overlapping_snps</th><th scope=col>max_overlapping_snps</th></tr>\n",
       "\t<tr><th></th><th scope=col>&lt;chr&gt;</th><th scope=col>&lt;chr&gt;</th><th scope=col>&lt;int&gt;</th><th scope=col>&lt;dbl&gt;</th><th scope=col>&lt;int&gt;</th><th scope=col>&lt;int&gt;</th><th scope=col>&lt;int&gt;</th><th scope=col>&lt;dbl&gt;</th><th scope=col>&lt;dbl&gt;</th><th scope=col>&lt;dbl&gt;</th></tr>\n",
       "</thead>\n",
       "<tbody>\n",
       "\t<tr><th scope=row>21</th><td>Type_1_Diabetes     </td><td>PP.H2.abf</td><td>5</td><td>0.8546132</td><td>2</td><td>4</td><td>5</td><td>2487.000</td><td>1341</td><td>3161</td></tr>\n",
       "\t<tr><th scope=row>22</th><td>Type_1_Diabetes     </td><td>PP.H0.abf</td><td>7</td><td>0.6675308</td><td>0</td><td>0</td><td>6</td><td>2487.000</td><td>1341</td><td>3161</td></tr>\n",
       "\t<tr><th scope=row>23</th><td>Type_1_Diabetes     </td><td>PP.H3.abf</td><td>6</td><td>0.9997167</td><td>6</td><td>6</td><td>6</td><td>2487.000</td><td>1341</td><td>3161</td></tr>\n",
       "\t<tr><th scope=row>16</th><td>Rheumatoid Arthritis</td><td>PP.H2.abf</td><td>2</td><td>0.8751799</td><td>0</td><td>2</td><td>2</td><td>1603.667</td><td> 882</td><td>2031</td></tr>\n",
       "\t<tr><th scope=row>17</th><td>Rheumatoid Arthritis</td><td>PP.H4.abf</td><td>6</td><td>0.7536935</td><td>0</td><td>6</td><td>6</td><td>1603.667</td><td> 882</td><td>2031</td></tr>\n",
       "</tbody>\n",
       "</table>\n"
      ],
      "text/latex": [
       "A data.frame: 5 × 10\n",
       "\\begin{tabular}{r|llllllllll}\n",
       "  & trait & parameter & n & mean\\_value & amount\\_greater\\_0.9 & amount\\_greater\\_0.75 & amount\\_greater\\_0.5 & average\\_overlapping\\_snps & min\\_overlapping\\_snps & max\\_overlapping\\_snps\\\\\n",
       "  & <chr> & <chr> & <int> & <dbl> & <int> & <int> & <int> & <dbl> & <dbl> & <dbl>\\\\\n",
       "\\hline\n",
       "\t21 & Type\\_1\\_Diabetes      & PP.H2.abf & 5 & 0.8546132 & 2 & 4 & 5 & 2487.000 & 1341 & 3161\\\\\n",
       "\t22 & Type\\_1\\_Diabetes      & PP.H0.abf & 7 & 0.6675308 & 0 & 0 & 6 & 2487.000 & 1341 & 3161\\\\\n",
       "\t23 & Type\\_1\\_Diabetes      & PP.H3.abf & 6 & 0.9997167 & 6 & 6 & 6 & 2487.000 & 1341 & 3161\\\\\n",
       "\t16 & Rheumatoid Arthritis & PP.H2.abf & 2 & 0.8751799 & 0 & 2 & 2 & 1603.667 &  882 & 2031\\\\\n",
       "\t17 & Rheumatoid Arthritis & PP.H4.abf & 6 & 0.7536935 & 0 & 6 & 6 & 1603.667 &  882 & 2031\\\\\n",
       "\\end{tabular}\n"
      ],
      "text/markdown": [
       "\n",
       "A data.frame: 5 × 10\n",
       "\n",
       "| <!--/--> | trait &lt;chr&gt; | parameter &lt;chr&gt; | n &lt;int&gt; | mean_value &lt;dbl&gt; | amount_greater_0.9 &lt;int&gt; | amount_greater_0.75 &lt;int&gt; | amount_greater_0.5 &lt;int&gt; | average_overlapping_snps &lt;dbl&gt; | min_overlapping_snps &lt;dbl&gt; | max_overlapping_snps &lt;dbl&gt; |\n",
       "|---|---|---|---|---|---|---|---|---|---|---|\n",
       "| 21 | Type_1_Diabetes      | PP.H2.abf | 5 | 0.8546132 | 2 | 4 | 5 | 2487.000 | 1341 | 3161 |\n",
       "| 22 | Type_1_Diabetes      | PP.H0.abf | 7 | 0.6675308 | 0 | 0 | 6 | 2487.000 | 1341 | 3161 |\n",
       "| 23 | Type_1_Diabetes      | PP.H3.abf | 6 | 0.9997167 | 6 | 6 | 6 | 2487.000 | 1341 | 3161 |\n",
       "| 16 | Rheumatoid Arthritis | PP.H2.abf | 2 | 0.8751799 | 0 | 2 | 2 | 1603.667 |  882 | 2031 |\n",
       "| 17 | Rheumatoid Arthritis | PP.H4.abf | 6 | 0.7536935 | 0 | 6 | 6 | 1603.667 |  882 | 2031 |\n",
       "\n"
      ],
      "text/plain": [
       "   trait                parameter n mean_value amount_greater_0.9\n",
       "21 Type_1_Diabetes      PP.H2.abf 5 0.8546132  2                 \n",
       "22 Type_1_Diabetes      PP.H0.abf 7 0.6675308  0                 \n",
       "23 Type_1_Diabetes      PP.H3.abf 6 0.9997167  6                 \n",
       "16 Rheumatoid Arthritis PP.H2.abf 2 0.8751799  0                 \n",
       "17 Rheumatoid Arthritis PP.H4.abf 6 0.7536935  0                 \n",
       "   amount_greater_0.75 amount_greater_0.5 average_overlapping_snps\n",
       "21 4                   5                  2487.000                \n",
       "22 0                   6                  2487.000                \n",
       "23 6                   6                  2487.000                \n",
       "16 2                   2                  1603.667                \n",
       "17 6                   6                  1603.667                \n",
       "   min_overlapping_snps max_overlapping_snps\n",
       "21 1341                 3161                \n",
       "22 1341                 3161                \n",
       "23 1341                 3161                \n",
       "16  882                 2031                \n",
       "17  882                 2031                "
      ]
     },
     "metadata": {},
     "output_type": "display_data"
    }
   ],
   "source": [
    "head(overview_h_amounts[order(overview_h_amounts$trait, decreasing = TRUE),],5)"
   ]
  },
  {
   "cell_type": "code",
   "execution_count": null,
   "id": "12afd501-1018-4ffd-a512-7ebca28dd146",
   "metadata": {},
   "outputs": [],
   "source": []
  },
  {
   "cell_type": "code",
   "execution_count": 89,
   "id": "61d3bee9-9b7d-4477-a8fe-8ad131aa3b8e",
   "metadata": {},
   "outputs": [],
   "source": [
    "### Inspect interesting hypothesis"
   ]
  },
  {
   "cell_type": "code",
   "execution_count": 90,
   "id": "e88a2cfb-7f69-4f17-805e-87f8f4896b76",
   "metadata": {},
   "outputs": [],
   "source": [
    "parameter_var = 'PP.H4.abf'"
   ]
  },
  {
   "cell_type": "code",
   "execution_count": 92,
   "id": "5dd1d320-92d1-48f6-a318-c8e90f782c6e",
   "metadata": {},
   "outputs": [
    {
     "data": {
      "text/html": [
       "<table class=\"dataframe\">\n",
       "<caption>A data.frame: 15 × 7</caption>\n",
       "<thead>\n",
       "\t<tr><th></th><th scope=col>trait</th><th scope=col>identifier</th><th scope=col>value</th><th scope=col>cell_type</th><th scope=col>gene</th><th scope=col>parameter</th><th scope=col>overlapping_snps</th></tr>\n",
       "\t<tr><th></th><th scope=col>&lt;chr&gt;</th><th scope=col>&lt;chr&gt;</th><th scope=col>&lt;dbl&gt;</th><th scope=col>&lt;chr&gt;</th><th scope=col>&lt;chr&gt;</th><th scope=col>&lt;chr&gt;</th><th scope=col>&lt;dbl&gt;</th></tr>\n",
       "</thead>\n",
       "<tbody>\n",
       "\t<tr><th scope=row>2</th><td>Asthma                    </td><td>B1MB_RPS26       </td><td>0.5349101</td><td>B1MB       </td><td>RPS26  </td><td>PP.H4.abf</td><td> 381</td></tr>\n",
       "\t<tr><th scope=row>5</th><td>Asthma                    </td><td>CD4T1MB_RPS26    </td><td>0.5349363</td><td>CD4T1MB    </td><td>RPS26  </td><td>PP.H4.abf</td><td> 381</td></tr>\n",
       "\t<tr><th scope=row>8</th><td>Asthma                    </td><td>CD8T1MB_RPS26    </td><td>0.5350001</td><td>CD8T1MB    </td><td>RPS26  </td><td>PP.H4.abf</td><td> 381</td></tr>\n",
       "\t<tr><th scope=row>11</th><td>Asthma                    </td><td>DC1MB_RPS26      </td><td>0.5349096</td><td>DC1MB      </td><td>RPS26  </td><td>PP.H4.abf</td><td> 381</td></tr>\n",
       "\t<tr><th scope=row>14</th><td>Asthma                    </td><td>monocyte1MB_RPS26</td><td>0.5349095</td><td>monocyte1MB</td><td>RPS26  </td><td>PP.H4.abf</td><td> 381</td></tr>\n",
       "\t<tr><th scope=row>17</th><td>Asthma                    </td><td>NK1MB_RPS26      </td><td>0.5429194</td><td>NK1MB      </td><td>RPS26  </td><td>PP.H4.abf</td><td> 381</td></tr>\n",
       "\t<tr><th scope=row>22</th><td>Crohn's Disease           </td><td>CD4T1MB_RNASET2  </td><td>0.9046377</td><td>CD4T1MB    </td><td>RNASET2</td><td>PP.H4.abf</td><td>2707</td></tr>\n",
       "\t<tr><th scope=row>25</th><td>Crohn's Disease           </td><td>CD8T1MB_RNASET2  </td><td>0.5453104</td><td>CD8T1MB    </td><td>RNASET2</td><td>PP.H4.abf</td><td>2707</td></tr>\n",
       "\t<tr><th scope=row>40</th><td>Inflammatory Bowel Disease</td><td>CD4T1MB_RNASET2  </td><td>0.9309073</td><td>CD4T1MB    </td><td>RNASET2</td><td>PP.H4.abf</td><td>2704</td></tr>\n",
       "\t<tr><th scope=row>74</th><td>Rheumatoid Arthritis      </td><td>B1MB_RPS26       </td><td>0.7520723</td><td>B1MB       </td><td>RPS26  </td><td>PP.H4.abf</td><td> 882</td></tr>\n",
       "\t<tr><th scope=row>77</th><td>Rheumatoid Arthritis      </td><td>CD4T1MB_RPS26    </td><td>0.7536740</td><td>CD4T1MB    </td><td>RPS26  </td><td>PP.H4.abf</td><td> 882</td></tr>\n",
       "\t<tr><th scope=row>80</th><td>Rheumatoid Arthritis      </td><td>CD8T1MB_RPS26    </td><td>0.7532601</td><td>CD8T1MB    </td><td>RPS26  </td><td>PP.H4.abf</td><td> 882</td></tr>\n",
       "\t<tr><th scope=row>83</th><td>Rheumatoid Arthritis      </td><td>DC1MB_RPS26      </td><td>0.7534094</td><td>DC1MB      </td><td>RPS26  </td><td>PP.H4.abf</td><td> 882</td></tr>\n",
       "\t<tr><th scope=row>86</th><td>Rheumatoid Arthritis      </td><td>monocyte1MB_RPS26</td><td>0.7551725</td><td>monocyte1MB</td><td>RPS26  </td><td>PP.H4.abf</td><td> 882</td></tr>\n",
       "\t<tr><th scope=row>89</th><td>Rheumatoid Arthritis      </td><td>NK1MB_RPS26      </td><td>0.7545729</td><td>NK1MB      </td><td>RPS26  </td><td>PP.H4.abf</td><td> 882</td></tr>\n",
       "</tbody>\n",
       "</table>\n"
      ],
      "text/latex": [
       "A data.frame: 15 × 7\n",
       "\\begin{tabular}{r|lllllll}\n",
       "  & trait & identifier & value & cell\\_type & gene & parameter & overlapping\\_snps\\\\\n",
       "  & <chr> & <chr> & <dbl> & <chr> & <chr> & <chr> & <dbl>\\\\\n",
       "\\hline\n",
       "\t2 & Asthma                     & B1MB\\_RPS26        & 0.5349101 & B1MB        & RPS26   & PP.H4.abf &  381\\\\\n",
       "\t5 & Asthma                     & CD4T1MB\\_RPS26     & 0.5349363 & CD4T1MB     & RPS26   & PP.H4.abf &  381\\\\\n",
       "\t8 & Asthma                     & CD8T1MB\\_RPS26     & 0.5350001 & CD8T1MB     & RPS26   & PP.H4.abf &  381\\\\\n",
       "\t11 & Asthma                     & DC1MB\\_RPS26       & 0.5349096 & DC1MB       & RPS26   & PP.H4.abf &  381\\\\\n",
       "\t14 & Asthma                     & monocyte1MB\\_RPS26 & 0.5349095 & monocyte1MB & RPS26   & PP.H4.abf &  381\\\\\n",
       "\t17 & Asthma                     & NK1MB\\_RPS26       & 0.5429194 & NK1MB       & RPS26   & PP.H4.abf &  381\\\\\n",
       "\t22 & Crohn's Disease            & CD4T1MB\\_RNASET2   & 0.9046377 & CD4T1MB     & RNASET2 & PP.H4.abf & 2707\\\\\n",
       "\t25 & Crohn's Disease            & CD8T1MB\\_RNASET2   & 0.5453104 & CD8T1MB     & RNASET2 & PP.H4.abf & 2707\\\\\n",
       "\t40 & Inflammatory Bowel Disease & CD4T1MB\\_RNASET2   & 0.9309073 & CD4T1MB     & RNASET2 & PP.H4.abf & 2704\\\\\n",
       "\t74 & Rheumatoid Arthritis       & B1MB\\_RPS26        & 0.7520723 & B1MB        & RPS26   & PP.H4.abf &  882\\\\\n",
       "\t77 & Rheumatoid Arthritis       & CD4T1MB\\_RPS26     & 0.7536740 & CD4T1MB     & RPS26   & PP.H4.abf &  882\\\\\n",
       "\t80 & Rheumatoid Arthritis       & CD8T1MB\\_RPS26     & 0.7532601 & CD8T1MB     & RPS26   & PP.H4.abf &  882\\\\\n",
       "\t83 & Rheumatoid Arthritis       & DC1MB\\_RPS26       & 0.7534094 & DC1MB       & RPS26   & PP.H4.abf &  882\\\\\n",
       "\t86 & Rheumatoid Arthritis       & monocyte1MB\\_RPS26 & 0.7551725 & monocyte1MB & RPS26   & PP.H4.abf &  882\\\\\n",
       "\t89 & Rheumatoid Arthritis       & NK1MB\\_RPS26       & 0.7545729 & NK1MB       & RPS26   & PP.H4.abf &  882\\\\\n",
       "\\end{tabular}\n"
      ],
      "text/markdown": [
       "\n",
       "A data.frame: 15 × 7\n",
       "\n",
       "| <!--/--> | trait &lt;chr&gt; | identifier &lt;chr&gt; | value &lt;dbl&gt; | cell_type &lt;chr&gt; | gene &lt;chr&gt; | parameter &lt;chr&gt; | overlapping_snps &lt;dbl&gt; |\n",
       "|---|---|---|---|---|---|---|---|\n",
       "| 2 | Asthma                     | B1MB_RPS26        | 0.5349101 | B1MB        | RPS26   | PP.H4.abf |  381 |\n",
       "| 5 | Asthma                     | CD4T1MB_RPS26     | 0.5349363 | CD4T1MB     | RPS26   | PP.H4.abf |  381 |\n",
       "| 8 | Asthma                     | CD8T1MB_RPS26     | 0.5350001 | CD8T1MB     | RPS26   | PP.H4.abf |  381 |\n",
       "| 11 | Asthma                     | DC1MB_RPS26       | 0.5349096 | DC1MB       | RPS26   | PP.H4.abf |  381 |\n",
       "| 14 | Asthma                     | monocyte1MB_RPS26 | 0.5349095 | monocyte1MB | RPS26   | PP.H4.abf |  381 |\n",
       "| 17 | Asthma                     | NK1MB_RPS26       | 0.5429194 | NK1MB       | RPS26   | PP.H4.abf |  381 |\n",
       "| 22 | Crohn's Disease            | CD4T1MB_RNASET2   | 0.9046377 | CD4T1MB     | RNASET2 | PP.H4.abf | 2707 |\n",
       "| 25 | Crohn's Disease            | CD8T1MB_RNASET2   | 0.5453104 | CD8T1MB     | RNASET2 | PP.H4.abf | 2707 |\n",
       "| 40 | Inflammatory Bowel Disease | CD4T1MB_RNASET2   | 0.9309073 | CD4T1MB     | RNASET2 | PP.H4.abf | 2704 |\n",
       "| 74 | Rheumatoid Arthritis       | B1MB_RPS26        | 0.7520723 | B1MB        | RPS26   | PP.H4.abf |  882 |\n",
       "| 77 | Rheumatoid Arthritis       | CD4T1MB_RPS26     | 0.7536740 | CD4T1MB     | RPS26   | PP.H4.abf |  882 |\n",
       "| 80 | Rheumatoid Arthritis       | CD8T1MB_RPS26     | 0.7532601 | CD8T1MB     | RPS26   | PP.H4.abf |  882 |\n",
       "| 83 | Rheumatoid Arthritis       | DC1MB_RPS26       | 0.7534094 | DC1MB       | RPS26   | PP.H4.abf |  882 |\n",
       "| 86 | Rheumatoid Arthritis       | monocyte1MB_RPS26 | 0.7551725 | monocyte1MB | RPS26   | PP.H4.abf |  882 |\n",
       "| 89 | Rheumatoid Arthritis       | NK1MB_RPS26       | 0.7545729 | NK1MB       | RPS26   | PP.H4.abf |  882 |\n",
       "\n"
      ],
      "text/plain": [
       "   trait                      identifier        value     cell_type   gene   \n",
       "2  Asthma                     B1MB_RPS26        0.5349101 B1MB        RPS26  \n",
       "5  Asthma                     CD4T1MB_RPS26     0.5349363 CD4T1MB     RPS26  \n",
       "8  Asthma                     CD8T1MB_RPS26     0.5350001 CD8T1MB     RPS26  \n",
       "11 Asthma                     DC1MB_RPS26       0.5349096 DC1MB       RPS26  \n",
       "14 Asthma                     monocyte1MB_RPS26 0.5349095 monocyte1MB RPS26  \n",
       "17 Asthma                     NK1MB_RPS26       0.5429194 NK1MB       RPS26  \n",
       "22 Crohn's Disease            CD4T1MB_RNASET2   0.9046377 CD4T1MB     RNASET2\n",
       "25 Crohn's Disease            CD8T1MB_RNASET2   0.5453104 CD8T1MB     RNASET2\n",
       "40 Inflammatory Bowel Disease CD4T1MB_RNASET2   0.9309073 CD4T1MB     RNASET2\n",
       "74 Rheumatoid Arthritis       B1MB_RPS26        0.7520723 B1MB        RPS26  \n",
       "77 Rheumatoid Arthritis       CD4T1MB_RPS26     0.7536740 CD4T1MB     RPS26  \n",
       "80 Rheumatoid Arthritis       CD8T1MB_RPS26     0.7532601 CD8T1MB     RPS26  \n",
       "83 Rheumatoid Arthritis       DC1MB_RPS26       0.7534094 DC1MB       RPS26  \n",
       "86 Rheumatoid Arthritis       monocyte1MB_RPS26 0.7551725 monocyte1MB RPS26  \n",
       "89 Rheumatoid Arthritis       NK1MB_RPS26       0.7545729 NK1MB       RPS26  \n",
       "   parameter overlapping_snps\n",
       "2  PP.H4.abf  381            \n",
       "5  PP.H4.abf  381            \n",
       "8  PP.H4.abf  381            \n",
       "11 PP.H4.abf  381            \n",
       "14 PP.H4.abf  381            \n",
       "17 PP.H4.abf  381            \n",
       "22 PP.H4.abf 2707            \n",
       "25 PP.H4.abf 2707            \n",
       "40 PP.H4.abf 2704            \n",
       "74 PP.H4.abf  882            \n",
       "77 PP.H4.abf  882            \n",
       "80 PP.H4.abf  882            \n",
       "83 PP.H4.abf  882            \n",
       "86 PP.H4.abf  882            \n",
       "89 PP.H4.abf  882            "
      ]
     },
     "metadata": {},
     "output_type": "display_data"
    }
   ],
   "source": [
    "eqtl_summary_filtered[(eqtl_summary_filtered$parameter == parameter_var) ,]"
   ]
  },
  {
   "cell_type": "code",
   "execution_count": 93,
   "id": "511df027-bdf8-45d0-9e06-c789a47a810a",
   "metadata": {},
   "outputs": [],
   "source": [
    "parameter_var = 'PP.H3.abf'"
   ]
  },
  {
   "cell_type": "code",
   "execution_count": 94,
   "id": "663e5826-d961-4933-ba17-d2096e8b1b37",
   "metadata": {},
   "outputs": [],
   "source": [
    "#trait = c('Rheumatoid Arthritis', 'Type_1_Diabetes', 'Crohn\\'s Disease')"
   ]
  },
  {
   "cell_type": "code",
   "execution_count": 95,
   "id": "3656aff9-7838-4c4e-86c8-a2fcfe9b558c",
   "metadata": {},
   "outputs": [
    {
     "data": {
      "text/html": [
       "<table class=\"dataframe\">\n",
       "<caption>A data.frame: 12 × 7</caption>\n",
       "<thead>\n",
       "\t<tr><th></th><th scope=col>trait</th><th scope=col>identifier</th><th scope=col>value</th><th scope=col>cell_type</th><th scope=col>gene</th><th scope=col>parameter</th><th scope=col>overlapping_snps</th></tr>\n",
       "\t<tr><th></th><th scope=col>&lt;chr&gt;</th><th scope=col>&lt;chr&gt;</th><th scope=col>&lt;dbl&gt;</th><th scope=col>&lt;chr&gt;</th><th scope=col>&lt;chr&gt;</th><th scope=col>&lt;chr&gt;</th><th scope=col>&lt;dbl&gt;</th></tr>\n",
       "</thead>\n",
       "<tbody>\n",
       "\t<tr><th scope=row>34</th><td>Crohn's Disease           </td><td>NK1MB_RNASET2    </td><td>0.5016812</td><td>NK1MB      </td><td>RNASET2</td><td>PP.H3.abf</td><td>2707</td></tr>\n",
       "\t<tr><th scope=row>43</th><td>Inflammatory Bowel Disease</td><td>CD8T1MB_RNASET2  </td><td>0.6274067</td><td>CD8T1MB    </td><td>RNASET2</td><td>PP.H3.abf</td><td>2704</td></tr>\n",
       "\t<tr><th scope=row>52</th><td>Inflammatory Bowel Disease</td><td>NK1MB_RNASET2    </td><td>0.4851461</td><td>NK1MB      </td><td>RNASET2</td><td>PP.H3.abf</td><td>2704</td></tr>\n",
       "\t<tr><th scope=row>76</th><td>Rheumatoid Arthritis      </td><td>CD4T1MB_RNASET2  </td><td>1.0000000</td><td>CD4T1MB    </td><td>RNASET2</td><td>PP.H3.abf</td><td>2031</td></tr>\n",
       "\t<tr><th scope=row>79</th><td>Rheumatoid Arthritis      </td><td>CD8T1MB_RNASET2  </td><td>0.9994734</td><td>CD8T1MB    </td><td>RNASET2</td><td>PP.H3.abf</td><td>2031</td></tr>\n",
       "\t<tr><th scope=row>88</th><td>Rheumatoid Arthritis      </td><td>NK1MB_RNASET2    </td><td>0.7544265</td><td>NK1MB      </td><td>RNASET2</td><td>PP.H3.abf</td><td>2031</td></tr>\n",
       "\t<tr><th scope=row>92</th><td>Type_1_Diabetes           </td><td>B1MB_RPS26       </td><td>0.9998778</td><td>B1MB       </td><td>RPS26  </td><td>PP.H3.abf</td><td>1341</td></tr>\n",
       "\t<tr><th scope=row>95</th><td>Type_1_Diabetes           </td><td>CD4T1MB_RPS26    </td><td>0.9997676</td><td>CD4T1MB    </td><td>RPS26  </td><td>PP.H3.abf</td><td>1341</td></tr>\n",
       "\t<tr><th scope=row>98</th><td>Type_1_Diabetes           </td><td>CD8T1MB_RPS26    </td><td>0.9995874</td><td>CD8T1MB    </td><td>RPS26  </td><td>PP.H3.abf</td><td>1341</td></tr>\n",
       "\t<tr><th scope=row>101</th><td>Type_1_Diabetes           </td><td>DC1MB_RPS26      </td><td>0.9995863</td><td>DC1MB      </td><td>RPS26  </td><td>PP.H3.abf</td><td>1341</td></tr>\n",
       "\t<tr><th scope=row>104</th><td>Type_1_Diabetes           </td><td>monocyte1MB_RPS26</td><td>0.9998459</td><td>monocyte1MB</td><td>RPS26  </td><td>PP.H3.abf</td><td>1341</td></tr>\n",
       "\t<tr><th scope=row>107</th><td>Type_1_Diabetes           </td><td>NK1MB_RPS26      </td><td>0.9996350</td><td>NK1MB      </td><td>RPS26  </td><td>PP.H3.abf</td><td>1341</td></tr>\n",
       "</tbody>\n",
       "</table>\n"
      ],
      "text/latex": [
       "A data.frame: 12 × 7\n",
       "\\begin{tabular}{r|lllllll}\n",
       "  & trait & identifier & value & cell\\_type & gene & parameter & overlapping\\_snps\\\\\n",
       "  & <chr> & <chr> & <dbl> & <chr> & <chr> & <chr> & <dbl>\\\\\n",
       "\\hline\n",
       "\t34 & Crohn's Disease            & NK1MB\\_RNASET2     & 0.5016812 & NK1MB       & RNASET2 & PP.H3.abf & 2707\\\\\n",
       "\t43 & Inflammatory Bowel Disease & CD8T1MB\\_RNASET2   & 0.6274067 & CD8T1MB     & RNASET2 & PP.H3.abf & 2704\\\\\n",
       "\t52 & Inflammatory Bowel Disease & NK1MB\\_RNASET2     & 0.4851461 & NK1MB       & RNASET2 & PP.H3.abf & 2704\\\\\n",
       "\t76 & Rheumatoid Arthritis       & CD4T1MB\\_RNASET2   & 1.0000000 & CD4T1MB     & RNASET2 & PP.H3.abf & 2031\\\\\n",
       "\t79 & Rheumatoid Arthritis       & CD8T1MB\\_RNASET2   & 0.9994734 & CD8T1MB     & RNASET2 & PP.H3.abf & 2031\\\\\n",
       "\t88 & Rheumatoid Arthritis       & NK1MB\\_RNASET2     & 0.7544265 & NK1MB       & RNASET2 & PP.H3.abf & 2031\\\\\n",
       "\t92 & Type\\_1\\_Diabetes            & B1MB\\_RPS26        & 0.9998778 & B1MB        & RPS26   & PP.H3.abf & 1341\\\\\n",
       "\t95 & Type\\_1\\_Diabetes            & CD4T1MB\\_RPS26     & 0.9997676 & CD4T1MB     & RPS26   & PP.H3.abf & 1341\\\\\n",
       "\t98 & Type\\_1\\_Diabetes            & CD8T1MB\\_RPS26     & 0.9995874 & CD8T1MB     & RPS26   & PP.H3.abf & 1341\\\\\n",
       "\t101 & Type\\_1\\_Diabetes            & DC1MB\\_RPS26       & 0.9995863 & DC1MB       & RPS26   & PP.H3.abf & 1341\\\\\n",
       "\t104 & Type\\_1\\_Diabetes            & monocyte1MB\\_RPS26 & 0.9998459 & monocyte1MB & RPS26   & PP.H3.abf & 1341\\\\\n",
       "\t107 & Type\\_1\\_Diabetes            & NK1MB\\_RPS26       & 0.9996350 & NK1MB       & RPS26   & PP.H3.abf & 1341\\\\\n",
       "\\end{tabular}\n"
      ],
      "text/markdown": [
       "\n",
       "A data.frame: 12 × 7\n",
       "\n",
       "| <!--/--> | trait &lt;chr&gt; | identifier &lt;chr&gt; | value &lt;dbl&gt; | cell_type &lt;chr&gt; | gene &lt;chr&gt; | parameter &lt;chr&gt; | overlapping_snps &lt;dbl&gt; |\n",
       "|---|---|---|---|---|---|---|---|\n",
       "| 34 | Crohn's Disease            | NK1MB_RNASET2     | 0.5016812 | NK1MB       | RNASET2 | PP.H3.abf | 2707 |\n",
       "| 43 | Inflammatory Bowel Disease | CD8T1MB_RNASET2   | 0.6274067 | CD8T1MB     | RNASET2 | PP.H3.abf | 2704 |\n",
       "| 52 | Inflammatory Bowel Disease | NK1MB_RNASET2     | 0.4851461 | NK1MB       | RNASET2 | PP.H3.abf | 2704 |\n",
       "| 76 | Rheumatoid Arthritis       | CD4T1MB_RNASET2   | 1.0000000 | CD4T1MB     | RNASET2 | PP.H3.abf | 2031 |\n",
       "| 79 | Rheumatoid Arthritis       | CD8T1MB_RNASET2   | 0.9994734 | CD8T1MB     | RNASET2 | PP.H3.abf | 2031 |\n",
       "| 88 | Rheumatoid Arthritis       | NK1MB_RNASET2     | 0.7544265 | NK1MB       | RNASET2 | PP.H3.abf | 2031 |\n",
       "| 92 | Type_1_Diabetes            | B1MB_RPS26        | 0.9998778 | B1MB        | RPS26   | PP.H3.abf | 1341 |\n",
       "| 95 | Type_1_Diabetes            | CD4T1MB_RPS26     | 0.9997676 | CD4T1MB     | RPS26   | PP.H3.abf | 1341 |\n",
       "| 98 | Type_1_Diabetes            | CD8T1MB_RPS26     | 0.9995874 | CD8T1MB     | RPS26   | PP.H3.abf | 1341 |\n",
       "| 101 | Type_1_Diabetes            | DC1MB_RPS26       | 0.9995863 | DC1MB       | RPS26   | PP.H3.abf | 1341 |\n",
       "| 104 | Type_1_Diabetes            | monocyte1MB_RPS26 | 0.9998459 | monocyte1MB | RPS26   | PP.H3.abf | 1341 |\n",
       "| 107 | Type_1_Diabetes            | NK1MB_RPS26       | 0.9996350 | NK1MB       | RPS26   | PP.H3.abf | 1341 |\n",
       "\n"
      ],
      "text/plain": [
       "    trait                      identifier        value     cell_type   gene   \n",
       "34  Crohn's Disease            NK1MB_RNASET2     0.5016812 NK1MB       RNASET2\n",
       "43  Inflammatory Bowel Disease CD8T1MB_RNASET2   0.6274067 CD8T1MB     RNASET2\n",
       "52  Inflammatory Bowel Disease NK1MB_RNASET2     0.4851461 NK1MB       RNASET2\n",
       "76  Rheumatoid Arthritis       CD4T1MB_RNASET2   1.0000000 CD4T1MB     RNASET2\n",
       "79  Rheumatoid Arthritis       CD8T1MB_RNASET2   0.9994734 CD8T1MB     RNASET2\n",
       "88  Rheumatoid Arthritis       NK1MB_RNASET2     0.7544265 NK1MB       RNASET2\n",
       "92  Type_1_Diabetes            B1MB_RPS26        0.9998778 B1MB        RPS26  \n",
       "95  Type_1_Diabetes            CD4T1MB_RPS26     0.9997676 CD4T1MB     RPS26  \n",
       "98  Type_1_Diabetes            CD8T1MB_RPS26     0.9995874 CD8T1MB     RPS26  \n",
       "101 Type_1_Diabetes            DC1MB_RPS26       0.9995863 DC1MB       RPS26  \n",
       "104 Type_1_Diabetes            monocyte1MB_RPS26 0.9998459 monocyte1MB RPS26  \n",
       "107 Type_1_Diabetes            NK1MB_RPS26       0.9996350 NK1MB       RPS26  \n",
       "    parameter overlapping_snps\n",
       "34  PP.H3.abf 2707            \n",
       "43  PP.H3.abf 2704            \n",
       "52  PP.H3.abf 2704            \n",
       "76  PP.H3.abf 2031            \n",
       "79  PP.H3.abf 2031            \n",
       "88  PP.H3.abf 2031            \n",
       "92  PP.H3.abf 1341            \n",
       "95  PP.H3.abf 1341            \n",
       "98  PP.H3.abf 1341            \n",
       "101 PP.H3.abf 1341            \n",
       "104 PP.H3.abf 1341            \n",
       "107 PP.H3.abf 1341            "
      ]
     },
     "metadata": {},
     "output_type": "display_data"
    }
   ],
   "source": [
    "eqtl_summary_filtered[(eqtl_summary_filtered$parameter == parameter_var) ,]"
   ]
  },
  {
   "cell_type": "markdown",
   "id": "b8b5a092-17bc-4e53-b279-4fdf271ee30c",
   "metadata": {
    "tags": []
   },
   "source": [
    "## For Co-EQTLs"
   ]
  },
  {
   "cell_type": "markdown",
   "id": "3bff68b2-5251-4f43-88ef-8dad37dcd0f5",
   "metadata": {},
   "source": [
    "### General summaries"
   ]
  },
  {
   "cell_type": "code",
   "execution_count": 96,
   "id": "14c7f569-6d8d-4286-a74a-4e9b8a2dd6c1",
   "metadata": {},
   "outputs": [
    {
     "data": {
      "text/html": [
       "<table class=\"dataframe\">\n",
       "<caption>A data.frame: 2 × 5</caption>\n",
       "<thead>\n",
       "\t<tr><th></th><th scope=col>parameter</th><th scope=col>value</th><th scope=col>trait</th><th scope=col>identifier</th><th scope=col>egene</th></tr>\n",
       "\t<tr><th></th><th scope=col>&lt;chr&gt;</th><th scope=col>&lt;dbl&gt;</th><th scope=col>&lt;chr&gt;</th><th scope=col>&lt;chr&gt;</th><th scope=col>&lt;chr&gt;</th></tr>\n",
       "</thead>\n",
       "<tbody>\n",
       "\t<tr><th scope=row>1</th><td>nsnps    </td><td>2.560000e+03</td><td>Crohn's Disease</td><td>monocyte_TMEM176A___CAPG__TMEM176A</td><td>monocyte_TMEM176A</td></tr>\n",
       "\t<tr><th scope=row>2</th><td>PP.H0.abf</td><td>2.350241e-02</td><td>Crohn's Disease</td><td>monocyte_TMEM176A___CAPG__TMEM176A</td><td>monocyte_TMEM176A</td></tr>\n",
       "</tbody>\n",
       "</table>\n"
      ],
      "text/latex": [
       "A data.frame: 2 × 5\n",
       "\\begin{tabular}{r|lllll}\n",
       "  & parameter & value & trait & identifier & egene\\\\\n",
       "  & <chr> & <dbl> & <chr> & <chr> & <chr>\\\\\n",
       "\\hline\n",
       "\t1 & nsnps     & 2.560000e+03 & Crohn's Disease & monocyte\\_TMEM176A\\_\\_\\_CAPG\\_\\_TMEM176A & monocyte\\_TMEM176A\\\\\n",
       "\t2 & PP.H0.abf & 2.350241e-02 & Crohn's Disease & monocyte\\_TMEM176A\\_\\_\\_CAPG\\_\\_TMEM176A & monocyte\\_TMEM176A\\\\\n",
       "\\end{tabular}\n"
      ],
      "text/markdown": [
       "\n",
       "A data.frame: 2 × 5\n",
       "\n",
       "| <!--/--> | parameter &lt;chr&gt; | value &lt;dbl&gt; | trait &lt;chr&gt; | identifier &lt;chr&gt; | egene &lt;chr&gt; |\n",
       "|---|---|---|---|---|---|\n",
       "| 1 | nsnps     | 2.560000e+03 | Crohn's Disease | monocyte_TMEM176A___CAPG__TMEM176A | monocyte_TMEM176A |\n",
       "| 2 | PP.H0.abf | 2.350241e-02 | Crohn's Disease | monocyte_TMEM176A___CAPG__TMEM176A | monocyte_TMEM176A |\n",
       "\n"
      ],
      "text/plain": [
       "  parameter value        trait           identifier                        \n",
       "1 nsnps     2.560000e+03 Crohn's Disease monocyte_TMEM176A___CAPG__TMEM176A\n",
       "2 PP.H0.abf 2.350241e-02 Crohn's Disease monocyte_TMEM176A___CAPG__TMEM176A\n",
       "  egene            \n",
       "1 monocyte_TMEM176A\n",
       "2 monocyte_TMEM176A"
      ]
     },
     "metadata": {},
     "output_type": "display_data"
    }
   ],
   "source": [
    "head(coeqtl_summary,2)"
   ]
  },
  {
   "cell_type": "code",
   "execution_count": 97,
   "id": "e3201d61-d405-45c2-ae35-97452c21af24",
   "metadata": {},
   "outputs": [],
   "source": [
    "## extract amount of SNPs info"
   ]
  },
  {
   "cell_type": "code",
   "execution_count": 98,
   "id": "06bb4100-9486-4566-9d1e-b622f04b53f3",
   "metadata": {},
   "outputs": [],
   "source": [
    "n_snps = coeqtl_summary[coeqtl_summary$parameter == 'nsnps',]"
   ]
  },
  {
   "cell_type": "code",
   "execution_count": 99,
   "id": "4a5940e1-a100-4e9f-a90e-a95bddf3d371",
   "metadata": {},
   "outputs": [],
   "source": [
    "n_snps$overlapping_snps = n_snps$value\n",
    "n_snps$parameter = NULL\n",
    "n_snps$value = NULL"
   ]
  },
  {
   "cell_type": "code",
   "execution_count": 100,
   "id": "2e06514d-3f8c-45ab-8ebe-cba6301ba0e9",
   "metadata": {},
   "outputs": [],
   "source": [
    "## Extract relevant columsn"
   ]
  },
  {
   "cell_type": "code",
   "execution_count": 101,
   "id": "c7f7ddde-d16b-42b5-a9b2-b8dd5fd9a615",
   "metadata": {},
   "outputs": [],
   "source": [
    "coeqtl_summary = coeqtl_summary[coeqtl_summary$parameter != 'nsnps',]"
   ]
  },
  {
   "cell_type": "code",
   "execution_count": 102,
   "id": "13dbdd66-9c1b-483e-9307-b5fc88370e57",
   "metadata": {},
   "outputs": [],
   "source": [
    "coeqtl_summary$cell_type = str_replace(coeqtl_summary$identifier, '_.*', '')"
   ]
  },
  {
   "cell_type": "code",
   "execution_count": 103,
   "id": "9baece63-8981-49e2-b3f0-e94e15165618",
   "metadata": {},
   "outputs": [],
   "source": [
    "#tail(coeqtl_summary,2)"
   ]
  },
  {
   "cell_type": "code",
   "execution_count": 104,
   "id": "cee1a263-8956-421f-ad12-6be2337287d3",
   "metadata": {},
   "outputs": [
    {
     "data": {
      "text/html": [
       "<style>\n",
       ".list-inline {list-style: none; margin:0; padding: 0}\n",
       ".list-inline>li {display: inline-block}\n",
       ".list-inline>li:not(:last-child)::after {content: \"\\00b7\"; padding: 0 .5ex}\n",
       "</style>\n",
       "<ol class=list-inline><li>'monocyte'</li><li>'CD8T'</li><li>'CD4T'</li><li>'DC'</li><li>'B'</li><li>'NK'</li></ol>\n"
      ],
      "text/latex": [
       "\\begin{enumerate*}\n",
       "\\item 'monocyte'\n",
       "\\item 'CD8T'\n",
       "\\item 'CD4T'\n",
       "\\item 'DC'\n",
       "\\item 'B'\n",
       "\\item 'NK'\n",
       "\\end{enumerate*}\n"
      ],
      "text/markdown": [
       "1. 'monocyte'\n",
       "2. 'CD8T'\n",
       "3. 'CD4T'\n",
       "4. 'DC'\n",
       "5. 'B'\n",
       "6. 'NK'\n",
       "\n",
       "\n"
      ],
      "text/plain": [
       "[1] \"monocyte\" \"CD8T\"     \"CD4T\"     \"DC\"       \"B\"        \"NK\"      "
      ]
     },
     "metadata": {},
     "output_type": "display_data"
    }
   ],
   "source": [
    "unique(coeqtl_summary$cell_type)"
   ]
  },
  {
   "cell_type": "code",
   "execution_count": 105,
   "id": "e368cc1e-8bbd-49d2-9bb9-c67c52744dc4",
   "metadata": {},
   "outputs": [],
   "source": [
    "coeqtl_summary$gene = str_extract(coeqtl_summary$identifier, '_.*')\n",
    "coeqtl_summary$gene = str_replace(coeqtl_summary$gene, '.*___', '')"
   ]
  },
  {
   "cell_type": "code",
   "execution_count": 106,
   "id": "0953053b-c925-494d-b0e6-de02fa3335f1",
   "metadata": {},
   "outputs": [
    {
     "data": {
      "text/html": [
       "604"
      ],
      "text/latex": [
       "604"
      ],
      "text/markdown": [
       "604"
      ],
      "text/plain": [
       "[1] 604"
      ]
     },
     "metadata": {},
     "output_type": "display_data"
    }
   ],
   "source": [
    "length(unique(coeqtl_summary$gene))"
   ]
  },
  {
   "cell_type": "code",
   "execution_count": 107,
   "id": "c0cfee92-8655-4048-92ec-b416594996a9",
   "metadata": {},
   "outputs": [],
   "source": [
    "### Add number of snps"
   ]
  },
  {
   "cell_type": "code",
   "execution_count": 108,
   "id": "34f0729b-889f-4901-9d7f-e94d4788877f",
   "metadata": {},
   "outputs": [
    {
     "data": {
      "text/html": [
       "<table class=\"dataframe\">\n",
       "<caption>A data.frame: 2 × 4</caption>\n",
       "<thead>\n",
       "\t<tr><th></th><th scope=col>trait</th><th scope=col>identifier</th><th scope=col>egene</th><th scope=col>overlapping_snps</th></tr>\n",
       "\t<tr><th></th><th scope=col>&lt;chr&gt;</th><th scope=col>&lt;chr&gt;</th><th scope=col>&lt;chr&gt;</th><th scope=col>&lt;dbl&gt;</th></tr>\n",
       "</thead>\n",
       "<tbody>\n",
       "\t<tr><th scope=row>1</th><td>Crohn's Disease</td><td>monocyte_TMEM176A___CAPG__TMEM176A </td><td>monocyte_TMEM176A</td><td>2560</td></tr>\n",
       "\t<tr><th scope=row>7</th><td>Crohn's Disease</td><td>monocyte_TMEM176A___PTAFR__TMEM176A</td><td>monocyte_TMEM176A</td><td>2560</td></tr>\n",
       "</tbody>\n",
       "</table>\n"
      ],
      "text/latex": [
       "A data.frame: 2 × 4\n",
       "\\begin{tabular}{r|llll}\n",
       "  & trait & identifier & egene & overlapping\\_snps\\\\\n",
       "  & <chr> & <chr> & <chr> & <dbl>\\\\\n",
       "\\hline\n",
       "\t1 & Crohn's Disease & monocyte\\_TMEM176A\\_\\_\\_CAPG\\_\\_TMEM176A  & monocyte\\_TMEM176A & 2560\\\\\n",
       "\t7 & Crohn's Disease & monocyte\\_TMEM176A\\_\\_\\_PTAFR\\_\\_TMEM176A & monocyte\\_TMEM176A & 2560\\\\\n",
       "\\end{tabular}\n"
      ],
      "text/markdown": [
       "\n",
       "A data.frame: 2 × 4\n",
       "\n",
       "| <!--/--> | trait &lt;chr&gt; | identifier &lt;chr&gt; | egene &lt;chr&gt; | overlapping_snps &lt;dbl&gt; |\n",
       "|---|---|---|---|---|\n",
       "| 1 | Crohn's Disease | monocyte_TMEM176A___CAPG__TMEM176A  | monocyte_TMEM176A | 2560 |\n",
       "| 7 | Crohn's Disease | monocyte_TMEM176A___PTAFR__TMEM176A | monocyte_TMEM176A | 2560 |\n",
       "\n"
      ],
      "text/plain": [
       "  trait           identifier                          egene            \n",
       "1 Crohn's Disease monocyte_TMEM176A___CAPG__TMEM176A  monocyte_TMEM176A\n",
       "7 Crohn's Disease monocyte_TMEM176A___PTAFR__TMEM176A monocyte_TMEM176A\n",
       "  overlapping_snps\n",
       "1 2560            \n",
       "7 2560            "
      ]
     },
     "metadata": {},
     "output_type": "display_data"
    }
   ],
   "source": [
    "head(n_snps,2)"
   ]
  },
  {
   "cell_type": "code",
   "execution_count": 109,
   "id": "e692030d-cd63-4a82-9165-b3e3ffc90c44",
   "metadata": {},
   "outputs": [],
   "source": [
    "coeqtl_summary = merge(coeqtl_summary, n_snps, by.x = c('trait', 'identifier', 'egene'), by.y = c('trait', 'identifier', 'egene'))"
   ]
  },
  {
   "cell_type": "code",
   "execution_count": 110,
   "id": "9eb0ffa6-70a6-45f9-96a3-ee526c66a888",
   "metadata": {},
   "outputs": [],
   "source": [
    "### Check out maximum probabilities"
   ]
  },
  {
   "cell_type": "code",
   "execution_count": 111,
   "id": "52fe9faa-5c7b-4ebc-8917-c7f256ca1d6e",
   "metadata": {},
   "outputs": [
    {
     "name": "stderr",
     "output_type": "stream",
     "text": [
      "\u001b[1m\u001b[22m`summarise()` has grouped output by 'trait', 'identifier', 'cell_type', 'gene',\n",
      "'overlapping_snps'. You can override using the `.groups` argument.\n"
     ]
    }
   ],
   "source": [
    "max_value = coeqtl_summary %>% group_by(trait, identifier, cell_type, gene, overlapping_snps, egene) %>% summarise(value = max(value))"
   ]
  },
  {
   "cell_type": "code",
   "execution_count": 112,
   "id": "98b9eb7f-7dce-4c8d-86bb-5939ba75a195",
   "metadata": {},
   "outputs": [],
   "source": [
    "coeqtl_summary_filtered = merge(coeqtl_summary, max_value)"
   ]
  },
  {
   "cell_type": "code",
   "execution_count": 113,
   "id": "d465a856-bf99-46eb-b6d1-105e08447328",
   "metadata": {},
   "outputs": [
    {
     "data": {
      "text/html": [
       "<table class=\"dataframe\">\n",
       "<caption>A data.frame: 2 × 8</caption>\n",
       "<thead>\n",
       "\t<tr><th></th><th scope=col>trait</th><th scope=col>identifier</th><th scope=col>egene</th><th scope=col>value</th><th scope=col>cell_type</th><th scope=col>gene</th><th scope=col>overlapping_snps</th><th scope=col>parameter</th></tr>\n",
       "\t<tr><th></th><th scope=col>&lt;chr&gt;</th><th scope=col>&lt;chr&gt;</th><th scope=col>&lt;chr&gt;</th><th scope=col>&lt;dbl&gt;</th><th scope=col>&lt;chr&gt;</th><th scope=col>&lt;chr&gt;</th><th scope=col>&lt;dbl&gt;</th><th scope=col>&lt;chr&gt;</th></tr>\n",
       "</thead>\n",
       "<tbody>\n",
       "\t<tr><th scope=row>1</th><td>Asthma</td><td>B_RPS26___EEF1A1__RPS26</td><td>B_RPS26</td><td>0.3734713</td><td>B</td><td>EEF1A1__RPS26</td><td>381</td><td>PP.H0.abf</td></tr>\n",
       "\t<tr><th scope=row>2</th><td>Asthma</td><td>B_RPS26___RPL10__RPS26 </td><td>B_RPS26</td><td>0.6338403</td><td>B</td><td>RPL10__RPS26 </td><td>381</td><td>PP.H4.abf</td></tr>\n",
       "</tbody>\n",
       "</table>\n"
      ],
      "text/latex": [
       "A data.frame: 2 × 8\n",
       "\\begin{tabular}{r|llllllll}\n",
       "  & trait & identifier & egene & value & cell\\_type & gene & overlapping\\_snps & parameter\\\\\n",
       "  & <chr> & <chr> & <chr> & <dbl> & <chr> & <chr> & <dbl> & <chr>\\\\\n",
       "\\hline\n",
       "\t1 & Asthma & B\\_RPS26\\_\\_\\_EEF1A1\\_\\_RPS26 & B\\_RPS26 & 0.3734713 & B & EEF1A1\\_\\_RPS26 & 381 & PP.H0.abf\\\\\n",
       "\t2 & Asthma & B\\_RPS26\\_\\_\\_RPL10\\_\\_RPS26  & B\\_RPS26 & 0.6338403 & B & RPL10\\_\\_RPS26  & 381 & PP.H4.abf\\\\\n",
       "\\end{tabular}\n"
      ],
      "text/markdown": [
       "\n",
       "A data.frame: 2 × 8\n",
       "\n",
       "| <!--/--> | trait &lt;chr&gt; | identifier &lt;chr&gt; | egene &lt;chr&gt; | value &lt;dbl&gt; | cell_type &lt;chr&gt; | gene &lt;chr&gt; | overlapping_snps &lt;dbl&gt; | parameter &lt;chr&gt; |\n",
       "|---|---|---|---|---|---|---|---|---|\n",
       "| 1 | Asthma | B_RPS26___EEF1A1__RPS26 | B_RPS26 | 0.3734713 | B | EEF1A1__RPS26 | 381 | PP.H0.abf |\n",
       "| 2 | Asthma | B_RPS26___RPL10__RPS26  | B_RPS26 | 0.6338403 | B | RPL10__RPS26  | 381 | PP.H4.abf |\n",
       "\n"
      ],
      "text/plain": [
       "  trait  identifier              egene   value     cell_type gene         \n",
       "1 Asthma B_RPS26___EEF1A1__RPS26 B_RPS26 0.3734713 B         EEF1A1__RPS26\n",
       "2 Asthma B_RPS26___RPL10__RPS26  B_RPS26 0.6338403 B         RPL10__RPS26 \n",
       "  overlapping_snps parameter\n",
       "1 381              PP.H0.abf\n",
       "2 381              PP.H4.abf"
      ]
     },
     "metadata": {},
     "output_type": "display_data"
    }
   ],
   "source": [
    "head(coeqtl_summary_filtered,2)"
   ]
  },
  {
   "cell_type": "code",
   "execution_count": 114,
   "id": "c2c75a27-e6cd-453d-a301-94440f25406d",
   "metadata": {},
   "outputs": [
    {
     "name": "stderr",
     "output_type": "stream",
     "text": [
      "\u001b[1m\u001b[22m`summarise()` has grouped output by 'parameter', 'trait'. You can override\n",
      "using the `.groups` argument.\n"
     ]
    }
   ],
   "source": [
    "overview_h_amounts = coeqtl_summary_filtered %>% group_by(parameter, trait, egene ) %>% summarise(n = n(), mean_value = mean(value), amount_greater_0.9 = sum(value > 0.9),  amount_greater_0.75 = sum(value > 0.75),amount_greater_0.5 = sum(value > 0.5),  max_overlap_snps = max(overlapping_snps), min_overlap_snps = min(overlapping_snps), mean_overlap_snps = mean(overlapping_snps))"
   ]
  },
  {
   "cell_type": "code",
   "execution_count": 115,
   "id": "fd026fa0-f255-41a3-aa9a-7d028d97c351",
   "metadata": {},
   "outputs": [],
   "source": [
    "overview_h_amounts = overview_h_amounts[order(overview_h_amounts$trait),]"
   ]
  },
  {
   "cell_type": "code",
   "execution_count": 116,
   "id": "54f14012-d8b9-4463-b114-96e3231963cc",
   "metadata": {},
   "outputs": [
    {
     "name": "stderr",
     "output_type": "stream",
     "text": [
      "\u001b[1m\u001b[22m`summarise()` has grouped output by 'egene'. You can override using the\n",
      "`.groups` argument.\n"
     ]
    }
   ],
   "source": [
    "amount_coegenes_per_e_gene = overview_h_amounts %>% group_by(egene, trait) %>% summarise(total_n = sum(n))"
   ]
  },
  {
   "cell_type": "code",
   "execution_count": 117,
   "id": "8d0b44db-5ef6-4821-be87-ca2740bf2803",
   "metadata": {},
   "outputs": [],
   "source": [
    "overview_h_amounts = merge(overview_h_amounts, amount_coegenes_per_e_gene)"
   ]
  },
  {
   "cell_type": "code",
   "execution_count": 118,
   "id": "1cfdbc1e-9270-4158-a9f3-fac044fdfbe9",
   "metadata": {},
   "outputs": [],
   "source": [
    "#### Inspect the results for eGenes"
   ]
  },
  {
   "cell_type": "code",
   "execution_count": 119,
   "id": "53698756-d176-4716-a5bb-5c46cda6e69e",
   "metadata": {},
   "outputs": [],
   "source": [
    "### All RPS26 - co-egene examples"
   ]
  },
  {
   "cell_type": "code",
   "execution_count": 121,
   "id": "d6bca892-26b6-40fe-8da0-164cf7437ce7",
   "metadata": {},
   "outputs": [
    {
     "data": {
      "text/html": [
       "<table class=\"dataframe\">\n",
       "<caption>A data.frame: 20 × 12</caption>\n",
       "<thead>\n",
       "\t<tr><th></th><th scope=col>trait</th><th scope=col>egene</th><th scope=col>parameter</th><th scope=col>n</th><th scope=col>mean_value</th><th scope=col>amount_greater_0.9</th><th scope=col>amount_greater_0.75</th><th scope=col>amount_greater_0.5</th><th scope=col>max_overlap_snps</th><th scope=col>min_overlap_snps</th><th scope=col>mean_overlap_snps</th><th scope=col>total_n</th></tr>\n",
       "\t<tr><th></th><th scope=col>&lt;chr&gt;</th><th scope=col>&lt;chr&gt;</th><th scope=col>&lt;chr&gt;</th><th scope=col>&lt;int&gt;</th><th scope=col>&lt;dbl&gt;</th><th scope=col>&lt;int&gt;</th><th scope=col>&lt;int&gt;</th><th scope=col>&lt;int&gt;</th><th scope=col>&lt;dbl&gt;</th><th scope=col>&lt;dbl&gt;</th><th scope=col>&lt;dbl&gt;</th><th scope=col>&lt;int&gt;</th></tr>\n",
       "</thead>\n",
       "<tbody>\n",
       "\t<tr><th scope=row>2</th><td>Asthma                          </td><td>B_RPS26       </td><td>PP.H4.abf</td><td> 20</td><td>0.5448488</td><td> 0</td><td>  0</td><td> 16</td><td> 381</td><td> 381</td><td> 381.0000</td><td> 35</td></tr>\n",
       "\t<tr><th scope=row>8</th><td>Asthma                          </td><td>CD4T_RPS26    </td><td>PP.H4.abf</td><td>353</td><td>0.6166249</td><td> 0</td><td> 28</td><td>323</td><td> 381</td><td> 368</td><td> 380.7734</td><td>372</td></tr>\n",
       "\t<tr><th scope=row>14</th><td>Asthma                          </td><td>CD8T_RPS26    </td><td>PP.H4.abf</td><td>241</td><td>0.6293361</td><td> 0</td><td> 31</td><td>212</td><td> 381</td><td> 367</td><td> 380.6307</td><td>293</td></tr>\n",
       "\t<tr><th scope=row>24</th><td>Asthma                          </td><td>monocyte_RPS26</td><td>PP.H4.abf</td><td>127</td><td>0.6724475</td><td> 0</td><td> 40</td><td>114</td><td> 381</td><td> 379</td><td> 380.9685</td><td>132</td></tr>\n",
       "\t<tr><th scope=row>28</th><td>Asthma                          </td><td>NK_RPS26      </td><td>PP.H4.abf</td><td> 84</td><td>0.6149269</td><td> 0</td><td>  7</td><td> 78</td><td> 379</td><td> 379</td><td> 379.0000</td><td> 96</td></tr>\n",
       "\t<tr><th scope=row>105</th><td>Rheumatoid Arthritis            </td><td>B_RPS26       </td><td>PP.H4.abf</td><td> 33</td><td>0.7385906</td><td> 4</td><td> 19</td><td> 31</td><td> 878</td><td> 876</td><td> 877.9394</td><td> 35</td></tr>\n",
       "\t<tr><th scope=row>111</th><td>Rheumatoid Arthritis            </td><td>CD4T_RPS26    </td><td>PP.H4.abf</td><td>370</td><td>0.8044940</td><td>41</td><td>325</td><td>368</td><td> 882</td><td> 835</td><td> 881.1541</td><td>372</td></tr>\n",
       "\t<tr><th scope=row>118</th><td>Rheumatoid Arthritis            </td><td>CD8T_RPS26    </td><td>PP.H4.abf</td><td>289</td><td>0.8303538</td><td>64</td><td>247</td><td>286</td><td> 882</td><td> 831</td><td> 880.4567</td><td>293</td></tr>\n",
       "\t<tr><th scope=row>123</th><td>Rheumatoid Arthritis            </td><td>DC_RPS26      </td><td>PP.H4.abf</td><td>  3</td><td>0.6804751</td><td> 0</td><td>  0</td><td>  3</td><td> 855</td><td> 855</td><td> 855.0000</td><td>  3</td></tr>\n",
       "\t<tr><th scope=row>127</th><td>Rheumatoid Arthritis            </td><td>monocyte_RPS26</td><td>PP.H4.abf</td><td>132</td><td>0.7954287</td><td>15</td><td> 98</td><td>132</td><td> 882</td><td> 879</td><td> 881.9545</td><td>132</td></tr>\n",
       "\t<tr><th scope=row>131</th><td>Rheumatoid Arthritis            </td><td>NK_RPS26      </td><td>PP.H4.abf</td><td> 94</td><td>0.8435984</td><td>28</td><td> 88</td><td> 94</td><td> 879</td><td> 879</td><td> 879.0000</td><td> 96</td></tr>\n",
       "\t<tr><th scope=row>134</th><td>Type_1_Diabetes                 </td><td>B_RPS26       </td><td>PP.H4.abf</td><td>  4</td><td>0.5270015</td><td> 0</td><td>  0</td><td>  2</td><td>1335</td><td>1332</td><td>1334.2500</td><td> 35</td></tr>\n",
       "\t<tr><th scope=row>138</th><td>Type_1_Diabetes                 </td><td>CD4T_RPS26    </td><td>PP.H4.abf</td><td> 34</td><td>0.6080222</td><td> 0</td><td>  6</td><td> 28</td><td>1341</td><td>1273</td><td>1337.0882</td><td>372</td></tr>\n",
       "\t<tr><th scope=row>143</th><td>Type_1_Diabetes                 </td><td>CD8T_RPS26    </td><td>PP.H4.abf</td><td>  2</td><td>0.5419573</td><td> 0</td><td>  0</td><td>  2</td><td>1341</td><td>1341</td><td>1341.0000</td><td>293</td></tr>\n",
       "\t<tr><th scope=row>155</th><td>Type_1_Diabetes                 </td><td>monocyte_RPS26</td><td>PP.H4.abf</td><td>  9</td><td>0.6295441</td><td> 0</td><td>  2</td><td>  9</td><td>1341</td><td>1334</td><td>1340.2222</td><td>132</td></tr>\n",
       "\t<tr><th scope=row>163</th><td>Type_1_Diabetes_SNPs_filtered_RA</td><td>B_RPS26       </td><td>PP.H4.abf</td><td>  6</td><td>0.5682391</td><td> 0</td><td>  1</td><td>  3</td><td> 878</td><td> 876</td><td> 877.6667</td><td> 35</td></tr>\n",
       "\t<tr><th scope=row>167</th><td>Type_1_Diabetes_SNPs_filtered_RA</td><td>CD4T_RPS26    </td><td>PP.H4.abf</td><td> 48</td><td>0.6348339</td><td> 0</td><td> 10</td><td> 43</td><td> 882</td><td> 835</td><td> 879.1042</td><td>372</td></tr>\n",
       "\t<tr><th scope=row>176</th><td>Type_1_Diabetes_SNPs_filtered_RA</td><td>CD8T_RPS26    </td><td>PP.H4.abf</td><td>  6</td><td>0.5173048</td><td> 0</td><td>  0</td><td>  4</td><td> 882</td><td> 882</td><td> 882.0000</td><td>293</td></tr>\n",
       "\t<tr><th scope=row>185</th><td>Type_1_Diabetes_SNPs_filtered_RA</td><td>monocyte_RPS26</td><td>PP.H4.abf</td><td> 14</td><td>0.6148505</td><td> 0</td><td>  3</td><td> 11</td><td> 882</td><td> 879</td><td> 881.5714</td><td>132</td></tr>\n",
       "\t<tr><th scope=row>191</th><td>Type_1_Diabetes_SNPs_filtered_RA</td><td>NK_RPS26      </td><td>PP.H4.abf</td><td>  1</td><td>0.4076718</td><td> 0</td><td>  0</td><td>  0</td><td> 879</td><td> 879</td><td> 879.0000</td><td> 96</td></tr>\n",
       "</tbody>\n",
       "</table>\n"
      ],
      "text/latex": [
       "A data.frame: 20 × 12\n",
       "\\begin{tabular}{r|llllllllllll}\n",
       "  & trait & egene & parameter & n & mean\\_value & amount\\_greater\\_0.9 & amount\\_greater\\_0.75 & amount\\_greater\\_0.5 & max\\_overlap\\_snps & min\\_overlap\\_snps & mean\\_overlap\\_snps & total\\_n\\\\\n",
       "  & <chr> & <chr> & <chr> & <int> & <dbl> & <int> & <int> & <int> & <dbl> & <dbl> & <dbl> & <int>\\\\\n",
       "\\hline\n",
       "\t2 & Asthma                           & B\\_RPS26        & PP.H4.abf &  20 & 0.5448488 &  0 &   0 &  16 &  381 &  381 &  381.0000 &  35\\\\\n",
       "\t8 & Asthma                           & CD4T\\_RPS26     & PP.H4.abf & 353 & 0.6166249 &  0 &  28 & 323 &  381 &  368 &  380.7734 & 372\\\\\n",
       "\t14 & Asthma                           & CD8T\\_RPS26     & PP.H4.abf & 241 & 0.6293361 &  0 &  31 & 212 &  381 &  367 &  380.6307 & 293\\\\\n",
       "\t24 & Asthma                           & monocyte\\_RPS26 & PP.H4.abf & 127 & 0.6724475 &  0 &  40 & 114 &  381 &  379 &  380.9685 & 132\\\\\n",
       "\t28 & Asthma                           & NK\\_RPS26       & PP.H4.abf &  84 & 0.6149269 &  0 &   7 &  78 &  379 &  379 &  379.0000 &  96\\\\\n",
       "\t105 & Rheumatoid Arthritis             & B\\_RPS26        & PP.H4.abf &  33 & 0.7385906 &  4 &  19 &  31 &  878 &  876 &  877.9394 &  35\\\\\n",
       "\t111 & Rheumatoid Arthritis             & CD4T\\_RPS26     & PP.H4.abf & 370 & 0.8044940 & 41 & 325 & 368 &  882 &  835 &  881.1541 & 372\\\\\n",
       "\t118 & Rheumatoid Arthritis             & CD8T\\_RPS26     & PP.H4.abf & 289 & 0.8303538 & 64 & 247 & 286 &  882 &  831 &  880.4567 & 293\\\\\n",
       "\t123 & Rheumatoid Arthritis             & DC\\_RPS26       & PP.H4.abf &   3 & 0.6804751 &  0 &   0 &   3 &  855 &  855 &  855.0000 &   3\\\\\n",
       "\t127 & Rheumatoid Arthritis             & monocyte\\_RPS26 & PP.H4.abf & 132 & 0.7954287 & 15 &  98 & 132 &  882 &  879 &  881.9545 & 132\\\\\n",
       "\t131 & Rheumatoid Arthritis             & NK\\_RPS26       & PP.H4.abf &  94 & 0.8435984 & 28 &  88 &  94 &  879 &  879 &  879.0000 &  96\\\\\n",
       "\t134 & Type\\_1\\_Diabetes                  & B\\_RPS26        & PP.H4.abf &   4 & 0.5270015 &  0 &   0 &   2 & 1335 & 1332 & 1334.2500 &  35\\\\\n",
       "\t138 & Type\\_1\\_Diabetes                  & CD4T\\_RPS26     & PP.H4.abf &  34 & 0.6080222 &  0 &   6 &  28 & 1341 & 1273 & 1337.0882 & 372\\\\\n",
       "\t143 & Type\\_1\\_Diabetes                  & CD8T\\_RPS26     & PP.H4.abf &   2 & 0.5419573 &  0 &   0 &   2 & 1341 & 1341 & 1341.0000 & 293\\\\\n",
       "\t155 & Type\\_1\\_Diabetes                  & monocyte\\_RPS26 & PP.H4.abf &   9 & 0.6295441 &  0 &   2 &   9 & 1341 & 1334 & 1340.2222 & 132\\\\\n",
       "\t163 & Type\\_1\\_Diabetes\\_SNPs\\_filtered\\_RA & B\\_RPS26        & PP.H4.abf &   6 & 0.5682391 &  0 &   1 &   3 &  878 &  876 &  877.6667 &  35\\\\\n",
       "\t167 & Type\\_1\\_Diabetes\\_SNPs\\_filtered\\_RA & CD4T\\_RPS26     & PP.H4.abf &  48 & 0.6348339 &  0 &  10 &  43 &  882 &  835 &  879.1042 & 372\\\\\n",
       "\t176 & Type\\_1\\_Diabetes\\_SNPs\\_filtered\\_RA & CD8T\\_RPS26     & PP.H4.abf &   6 & 0.5173048 &  0 &   0 &   4 &  882 &  882 &  882.0000 & 293\\\\\n",
       "\t185 & Type\\_1\\_Diabetes\\_SNPs\\_filtered\\_RA & monocyte\\_RPS26 & PP.H4.abf &  14 & 0.6148505 &  0 &   3 &  11 &  882 &  879 &  881.5714 & 132\\\\\n",
       "\t191 & Type\\_1\\_Diabetes\\_SNPs\\_filtered\\_RA & NK\\_RPS26       & PP.H4.abf &   1 & 0.4076718 &  0 &   0 &   0 &  879 &  879 &  879.0000 &  96\\\\\n",
       "\\end{tabular}\n"
      ],
      "text/markdown": [
       "\n",
       "A data.frame: 20 × 12\n",
       "\n",
       "| <!--/--> | trait &lt;chr&gt; | egene &lt;chr&gt; | parameter &lt;chr&gt; | n &lt;int&gt; | mean_value &lt;dbl&gt; | amount_greater_0.9 &lt;int&gt; | amount_greater_0.75 &lt;int&gt; | amount_greater_0.5 &lt;int&gt; | max_overlap_snps &lt;dbl&gt; | min_overlap_snps &lt;dbl&gt; | mean_overlap_snps &lt;dbl&gt; | total_n &lt;int&gt; |\n",
       "|---|---|---|---|---|---|---|---|---|---|---|---|---|\n",
       "| 2 | Asthma                           | B_RPS26        | PP.H4.abf |  20 | 0.5448488 |  0 |   0 |  16 |  381 |  381 |  381.0000 |  35 |\n",
       "| 8 | Asthma                           | CD4T_RPS26     | PP.H4.abf | 353 | 0.6166249 |  0 |  28 | 323 |  381 |  368 |  380.7734 | 372 |\n",
       "| 14 | Asthma                           | CD8T_RPS26     | PP.H4.abf | 241 | 0.6293361 |  0 |  31 | 212 |  381 |  367 |  380.6307 | 293 |\n",
       "| 24 | Asthma                           | monocyte_RPS26 | PP.H4.abf | 127 | 0.6724475 |  0 |  40 | 114 |  381 |  379 |  380.9685 | 132 |\n",
       "| 28 | Asthma                           | NK_RPS26       | PP.H4.abf |  84 | 0.6149269 |  0 |   7 |  78 |  379 |  379 |  379.0000 |  96 |\n",
       "| 105 | Rheumatoid Arthritis             | B_RPS26        | PP.H4.abf |  33 | 0.7385906 |  4 |  19 |  31 |  878 |  876 |  877.9394 |  35 |\n",
       "| 111 | Rheumatoid Arthritis             | CD4T_RPS26     | PP.H4.abf | 370 | 0.8044940 | 41 | 325 | 368 |  882 |  835 |  881.1541 | 372 |\n",
       "| 118 | Rheumatoid Arthritis             | CD8T_RPS26     | PP.H4.abf | 289 | 0.8303538 | 64 | 247 | 286 |  882 |  831 |  880.4567 | 293 |\n",
       "| 123 | Rheumatoid Arthritis             | DC_RPS26       | PP.H4.abf |   3 | 0.6804751 |  0 |   0 |   3 |  855 |  855 |  855.0000 |   3 |\n",
       "| 127 | Rheumatoid Arthritis             | monocyte_RPS26 | PP.H4.abf | 132 | 0.7954287 | 15 |  98 | 132 |  882 |  879 |  881.9545 | 132 |\n",
       "| 131 | Rheumatoid Arthritis             | NK_RPS26       | PP.H4.abf |  94 | 0.8435984 | 28 |  88 |  94 |  879 |  879 |  879.0000 |  96 |\n",
       "| 134 | Type_1_Diabetes                  | B_RPS26        | PP.H4.abf |   4 | 0.5270015 |  0 |   0 |   2 | 1335 | 1332 | 1334.2500 |  35 |\n",
       "| 138 | Type_1_Diabetes                  | CD4T_RPS26     | PP.H4.abf |  34 | 0.6080222 |  0 |   6 |  28 | 1341 | 1273 | 1337.0882 | 372 |\n",
       "| 143 | Type_1_Diabetes                  | CD8T_RPS26     | PP.H4.abf |   2 | 0.5419573 |  0 |   0 |   2 | 1341 | 1341 | 1341.0000 | 293 |\n",
       "| 155 | Type_1_Diabetes                  | monocyte_RPS26 | PP.H4.abf |   9 | 0.6295441 |  0 |   2 |   9 | 1341 | 1334 | 1340.2222 | 132 |\n",
       "| 163 | Type_1_Diabetes_SNPs_filtered_RA | B_RPS26        | PP.H4.abf |   6 | 0.5682391 |  0 |   1 |   3 |  878 |  876 |  877.6667 |  35 |\n",
       "| 167 | Type_1_Diabetes_SNPs_filtered_RA | CD4T_RPS26     | PP.H4.abf |  48 | 0.6348339 |  0 |  10 |  43 |  882 |  835 |  879.1042 | 372 |\n",
       "| 176 | Type_1_Diabetes_SNPs_filtered_RA | CD8T_RPS26     | PP.H4.abf |   6 | 0.5173048 |  0 |   0 |   4 |  882 |  882 |  882.0000 | 293 |\n",
       "| 185 | Type_1_Diabetes_SNPs_filtered_RA | monocyte_RPS26 | PP.H4.abf |  14 | 0.6148505 |  0 |   3 |  11 |  882 |  879 |  881.5714 | 132 |\n",
       "| 191 | Type_1_Diabetes_SNPs_filtered_RA | NK_RPS26       | PP.H4.abf |   1 | 0.4076718 |  0 |   0 |   0 |  879 |  879 |  879.0000 |  96 |\n",
       "\n"
      ],
      "text/plain": [
       "    trait                            egene          parameter n   mean_value\n",
       "2   Asthma                           B_RPS26        PP.H4.abf  20 0.5448488 \n",
       "8   Asthma                           CD4T_RPS26     PP.H4.abf 353 0.6166249 \n",
       "14  Asthma                           CD8T_RPS26     PP.H4.abf 241 0.6293361 \n",
       "24  Asthma                           monocyte_RPS26 PP.H4.abf 127 0.6724475 \n",
       "28  Asthma                           NK_RPS26       PP.H4.abf  84 0.6149269 \n",
       "105 Rheumatoid Arthritis             B_RPS26        PP.H4.abf  33 0.7385906 \n",
       "111 Rheumatoid Arthritis             CD4T_RPS26     PP.H4.abf 370 0.8044940 \n",
       "118 Rheumatoid Arthritis             CD8T_RPS26     PP.H4.abf 289 0.8303538 \n",
       "123 Rheumatoid Arthritis             DC_RPS26       PP.H4.abf   3 0.6804751 \n",
       "127 Rheumatoid Arthritis             monocyte_RPS26 PP.H4.abf 132 0.7954287 \n",
       "131 Rheumatoid Arthritis             NK_RPS26       PP.H4.abf  94 0.8435984 \n",
       "134 Type_1_Diabetes                  B_RPS26        PP.H4.abf   4 0.5270015 \n",
       "138 Type_1_Diabetes                  CD4T_RPS26     PP.H4.abf  34 0.6080222 \n",
       "143 Type_1_Diabetes                  CD8T_RPS26     PP.H4.abf   2 0.5419573 \n",
       "155 Type_1_Diabetes                  monocyte_RPS26 PP.H4.abf   9 0.6295441 \n",
       "163 Type_1_Diabetes_SNPs_filtered_RA B_RPS26        PP.H4.abf   6 0.5682391 \n",
       "167 Type_1_Diabetes_SNPs_filtered_RA CD4T_RPS26     PP.H4.abf  48 0.6348339 \n",
       "176 Type_1_Diabetes_SNPs_filtered_RA CD8T_RPS26     PP.H4.abf   6 0.5173048 \n",
       "185 Type_1_Diabetes_SNPs_filtered_RA monocyte_RPS26 PP.H4.abf  14 0.6148505 \n",
       "191 Type_1_Diabetes_SNPs_filtered_RA NK_RPS26       PP.H4.abf   1 0.4076718 \n",
       "    amount_greater_0.9 amount_greater_0.75 amount_greater_0.5 max_overlap_snps\n",
       "2    0                   0                  16                 381            \n",
       "8    0                  28                 323                 381            \n",
       "14   0                  31                 212                 381            \n",
       "24   0                  40                 114                 381            \n",
       "28   0                   7                  78                 379            \n",
       "105  4                  19                  31                 878            \n",
       "111 41                 325                 368                 882            \n",
       "118 64                 247                 286                 882            \n",
       "123  0                   0                   3                 855            \n",
       "127 15                  98                 132                 882            \n",
       "131 28                  88                  94                 879            \n",
       "134  0                   0                   2                1335            \n",
       "138  0                   6                  28                1341            \n",
       "143  0                   0                   2                1341            \n",
       "155  0                   2                   9                1341            \n",
       "163  0                   1                   3                 878            \n",
       "167  0                  10                  43                 882            \n",
       "176  0                   0                   4                 882            \n",
       "185  0                   3                  11                 882            \n",
       "191  0                   0                   0                 879            \n",
       "    min_overlap_snps mean_overlap_snps total_n\n",
       "2    381              381.0000          35    \n",
       "8    368              380.7734         372    \n",
       "14   367              380.6307         293    \n",
       "24   379              380.9685         132    \n",
       "28   379              379.0000          96    \n",
       "105  876              877.9394          35    \n",
       "111  835              881.1541         372    \n",
       "118  831              880.4567         293    \n",
       "123  855              855.0000           3    \n",
       "127  879              881.9545         132    \n",
       "131  879              879.0000          96    \n",
       "134 1332             1334.2500          35    \n",
       "138 1273             1337.0882         372    \n",
       "143 1341             1341.0000         293    \n",
       "155 1334             1340.2222         132    \n",
       "163  876              877.6667          35    \n",
       "167  835              879.1042         372    \n",
       "176  882              882.0000         293    \n",
       "185  879              881.5714         132    \n",
       "191  879              879.0000          96    "
      ]
     },
     "metadata": {},
     "output_type": "display_data"
    }
   ],
   "source": [
    "overview_h_amounts[(overview_h_amounts$egene %in%  c('CD4T_RPS26', 'CD8T_RPS26', 'monocyte_RPS26', 'DC_RPS26', 'NK_RPS26','B_RPS26')) & (overview_h_amounts$parameter %in% c('PP.H4.abf')),]"
   ]
  },
  {
   "cell_type": "code",
   "execution_count": 123,
   "id": "8892fdf4-cb58-4887-847f-cc1aa744ae37",
   "metadata": {},
   "outputs": [
    {
     "data": {
      "text/html": [
       "<table class=\"dataframe\">\n",
       "<caption>A data.frame: 12 × 12</caption>\n",
       "<thead>\n",
       "\t<tr><th></th><th scope=col>trait</th><th scope=col>egene</th><th scope=col>parameter</th><th scope=col>n</th><th scope=col>mean_value</th><th scope=col>amount_greater_0.9</th><th scope=col>amount_greater_0.75</th><th scope=col>amount_greater_0.5</th><th scope=col>max_overlap_snps</th><th scope=col>min_overlap_snps</th><th scope=col>mean_overlap_snps</th><th scope=col>total_n</th></tr>\n",
       "\t<tr><th></th><th scope=col>&lt;chr&gt;</th><th scope=col>&lt;chr&gt;</th><th scope=col>&lt;chr&gt;</th><th scope=col>&lt;int&gt;</th><th scope=col>&lt;dbl&gt;</th><th scope=col>&lt;int&gt;</th><th scope=col>&lt;int&gt;</th><th scope=col>&lt;int&gt;</th><th scope=col>&lt;dbl&gt;</th><th scope=col>&lt;dbl&gt;</th><th scope=col>&lt;dbl&gt;</th><th scope=col>&lt;int&gt;</th></tr>\n",
       "</thead>\n",
       "<tbody>\n",
       "\t<tr><th scope=row>110</th><td>Rheumatoid Arthritis            </td><td>CD4T_RPS26    </td><td>PP.H3.abf</td><td>  2</td><td>0.6476383</td><td>  0</td><td>  0</td><td>  2</td><td> 882</td><td> 882</td><td> 882.0000</td><td>372</td></tr>\n",
       "\t<tr><th scope=row>133</th><td>Type_1_Diabetes                 </td><td>B_RPS26       </td><td>PP.H3.abf</td><td> 24</td><td>0.7354662</td><td>  7</td><td> 12</td><td> 20</td><td>1335</td><td>1335</td><td>1335.0000</td><td> 35</td></tr>\n",
       "\t<tr><th scope=row>139</th><td>Type_1_Diabetes                 </td><td>CD4T_RPS26    </td><td>PP.H3.abf</td><td>336</td><td>0.9025018</td><td>234</td><td>282</td><td>329</td><td>1341</td><td>1274</td><td>1339.9732</td><td>372</td></tr>\n",
       "\t<tr><th scope=row>144</th><td>Type_1_Diabetes                 </td><td>CD8T_RPS26    </td><td>PP.H3.abf</td><td>266</td><td>0.9176685</td><td>204</td><td>223</td><td>258</td><td>1341</td><td>1268</td><td>1339.0113</td><td>293</td></tr>\n",
       "\t<tr><th scope=row>150</th><td>Type_1_Diabetes                 </td><td>DC_RPS26      </td><td>PP.H3.abf</td><td>  1</td><td>0.4908023</td><td>  0</td><td>  0</td><td>  0</td><td>1297</td><td>1297</td><td>1297.0000</td><td>  3</td></tr>\n",
       "\t<tr><th scope=row>154</th><td>Type_1_Diabetes                 </td><td>monocyte_RPS26</td><td>PP.H3.abf</td><td>122</td><td>0.9210668</td><td> 92</td><td>109</td><td>119</td><td>1341</td><td>1334</td><td>1340.9344</td><td>132</td></tr>\n",
       "\t<tr><th scope=row>159</th><td>Type_1_Diabetes                 </td><td>NK_RPS26      </td><td>PP.H3.abf</td><td> 91</td><td>0.9621223</td><td> 81</td><td> 87</td><td> 90</td><td>1334</td><td>1334</td><td>1334.0000</td><td> 96</td></tr>\n",
       "\t<tr><th scope=row>161</th><td>Type_1_Diabetes_SNPs_filtered_RA</td><td>B_RPS26       </td><td>PP.H3.abf</td><td> 17</td><td>0.7609857</td><td>  5</td><td>  9</td><td> 16</td><td> 878</td><td> 878</td><td> 878.0000</td><td> 35</td></tr>\n",
       "\t<tr><th scope=row>168</th><td>Type_1_Diabetes_SNPs_filtered_RA</td><td>CD4T_RPS26    </td><td>PP.H3.abf</td><td>314</td><td>0.8941315</td><td>215</td><td>253</td><td>302</td><td> 882</td><td> 840</td><td> 881.4522</td><td>372</td></tr>\n",
       "\t<tr><th scope=row>175</th><td>Type_1_Diabetes_SNPs_filtered_RA</td><td>CD8T_RPS26    </td><td>PP.H3.abf</td><td>250</td><td>0.9182449</td><td>190</td><td>213</td><td>244</td><td> 882</td><td> 831</td><td> 880.5480</td><td>293</td></tr>\n",
       "\t<tr><th scope=row>186</th><td>Type_1_Diabetes_SNPs_filtered_RA</td><td>monocyte_RPS26</td><td>PP.H3.abf</td><td>113</td><td>0.9293033</td><td> 85</td><td>101</td><td>111</td><td> 882</td><td> 882</td><td> 882.0000</td><td>132</td></tr>\n",
       "\t<tr><th scope=row>190</th><td>Type_1_Diabetes_SNPs_filtered_RA</td><td>NK_RPS26      </td><td>PP.H3.abf</td><td> 89</td><td>0.9585443</td><td> 77</td><td> 85</td><td> 87</td><td> 879</td><td> 879</td><td> 879.0000</td><td> 96</td></tr>\n",
       "</tbody>\n",
       "</table>\n"
      ],
      "text/latex": [
       "A data.frame: 12 × 12\n",
       "\\begin{tabular}{r|llllllllllll}\n",
       "  & trait & egene & parameter & n & mean\\_value & amount\\_greater\\_0.9 & amount\\_greater\\_0.75 & amount\\_greater\\_0.5 & max\\_overlap\\_snps & min\\_overlap\\_snps & mean\\_overlap\\_snps & total\\_n\\\\\n",
       "  & <chr> & <chr> & <chr> & <int> & <dbl> & <int> & <int> & <int> & <dbl> & <dbl> & <dbl> & <int>\\\\\n",
       "\\hline\n",
       "\t110 & Rheumatoid Arthritis             & CD4T\\_RPS26     & PP.H3.abf &   2 & 0.6476383 &   0 &   0 &   2 &  882 &  882 &  882.0000 & 372\\\\\n",
       "\t133 & Type\\_1\\_Diabetes                  & B\\_RPS26        & PP.H3.abf &  24 & 0.7354662 &   7 &  12 &  20 & 1335 & 1335 & 1335.0000 &  35\\\\\n",
       "\t139 & Type\\_1\\_Diabetes                  & CD4T\\_RPS26     & PP.H3.abf & 336 & 0.9025018 & 234 & 282 & 329 & 1341 & 1274 & 1339.9732 & 372\\\\\n",
       "\t144 & Type\\_1\\_Diabetes                  & CD8T\\_RPS26     & PP.H3.abf & 266 & 0.9176685 & 204 & 223 & 258 & 1341 & 1268 & 1339.0113 & 293\\\\\n",
       "\t150 & Type\\_1\\_Diabetes                  & DC\\_RPS26       & PP.H3.abf &   1 & 0.4908023 &   0 &   0 &   0 & 1297 & 1297 & 1297.0000 &   3\\\\\n",
       "\t154 & Type\\_1\\_Diabetes                  & monocyte\\_RPS26 & PP.H3.abf & 122 & 0.9210668 &  92 & 109 & 119 & 1341 & 1334 & 1340.9344 & 132\\\\\n",
       "\t159 & Type\\_1\\_Diabetes                  & NK\\_RPS26       & PP.H3.abf &  91 & 0.9621223 &  81 &  87 &  90 & 1334 & 1334 & 1334.0000 &  96\\\\\n",
       "\t161 & Type\\_1\\_Diabetes\\_SNPs\\_filtered\\_RA & B\\_RPS26        & PP.H3.abf &  17 & 0.7609857 &   5 &   9 &  16 &  878 &  878 &  878.0000 &  35\\\\\n",
       "\t168 & Type\\_1\\_Diabetes\\_SNPs\\_filtered\\_RA & CD4T\\_RPS26     & PP.H3.abf & 314 & 0.8941315 & 215 & 253 & 302 &  882 &  840 &  881.4522 & 372\\\\\n",
       "\t175 & Type\\_1\\_Diabetes\\_SNPs\\_filtered\\_RA & CD8T\\_RPS26     & PP.H3.abf & 250 & 0.9182449 & 190 & 213 & 244 &  882 &  831 &  880.5480 & 293\\\\\n",
       "\t186 & Type\\_1\\_Diabetes\\_SNPs\\_filtered\\_RA & monocyte\\_RPS26 & PP.H3.abf & 113 & 0.9293033 &  85 & 101 & 111 &  882 &  882 &  882.0000 & 132\\\\\n",
       "\t190 & Type\\_1\\_Diabetes\\_SNPs\\_filtered\\_RA & NK\\_RPS26       & PP.H3.abf &  89 & 0.9585443 &  77 &  85 &  87 &  879 &  879 &  879.0000 &  96\\\\\n",
       "\\end{tabular}\n"
      ],
      "text/markdown": [
       "\n",
       "A data.frame: 12 × 12\n",
       "\n",
       "| <!--/--> | trait &lt;chr&gt; | egene &lt;chr&gt; | parameter &lt;chr&gt; | n &lt;int&gt; | mean_value &lt;dbl&gt; | amount_greater_0.9 &lt;int&gt; | amount_greater_0.75 &lt;int&gt; | amount_greater_0.5 &lt;int&gt; | max_overlap_snps &lt;dbl&gt; | min_overlap_snps &lt;dbl&gt; | mean_overlap_snps &lt;dbl&gt; | total_n &lt;int&gt; |\n",
       "|---|---|---|---|---|---|---|---|---|---|---|---|---|\n",
       "| 110 | Rheumatoid Arthritis             | CD4T_RPS26     | PP.H3.abf |   2 | 0.6476383 |   0 |   0 |   2 |  882 |  882 |  882.0000 | 372 |\n",
       "| 133 | Type_1_Diabetes                  | B_RPS26        | PP.H3.abf |  24 | 0.7354662 |   7 |  12 |  20 | 1335 | 1335 | 1335.0000 |  35 |\n",
       "| 139 | Type_1_Diabetes                  | CD4T_RPS26     | PP.H3.abf | 336 | 0.9025018 | 234 | 282 | 329 | 1341 | 1274 | 1339.9732 | 372 |\n",
       "| 144 | Type_1_Diabetes                  | CD8T_RPS26     | PP.H3.abf | 266 | 0.9176685 | 204 | 223 | 258 | 1341 | 1268 | 1339.0113 | 293 |\n",
       "| 150 | Type_1_Diabetes                  | DC_RPS26       | PP.H3.abf |   1 | 0.4908023 |   0 |   0 |   0 | 1297 | 1297 | 1297.0000 |   3 |\n",
       "| 154 | Type_1_Diabetes                  | monocyte_RPS26 | PP.H3.abf | 122 | 0.9210668 |  92 | 109 | 119 | 1341 | 1334 | 1340.9344 | 132 |\n",
       "| 159 | Type_1_Diabetes                  | NK_RPS26       | PP.H3.abf |  91 | 0.9621223 |  81 |  87 |  90 | 1334 | 1334 | 1334.0000 |  96 |\n",
       "| 161 | Type_1_Diabetes_SNPs_filtered_RA | B_RPS26        | PP.H3.abf |  17 | 0.7609857 |   5 |   9 |  16 |  878 |  878 |  878.0000 |  35 |\n",
       "| 168 | Type_1_Diabetes_SNPs_filtered_RA | CD4T_RPS26     | PP.H3.abf | 314 | 0.8941315 | 215 | 253 | 302 |  882 |  840 |  881.4522 | 372 |\n",
       "| 175 | Type_1_Diabetes_SNPs_filtered_RA | CD8T_RPS26     | PP.H3.abf | 250 | 0.9182449 | 190 | 213 | 244 |  882 |  831 |  880.5480 | 293 |\n",
       "| 186 | Type_1_Diabetes_SNPs_filtered_RA | monocyte_RPS26 | PP.H3.abf | 113 | 0.9293033 |  85 | 101 | 111 |  882 |  882 |  882.0000 | 132 |\n",
       "| 190 | Type_1_Diabetes_SNPs_filtered_RA | NK_RPS26       | PP.H3.abf |  89 | 0.9585443 |  77 |  85 |  87 |  879 |  879 |  879.0000 |  96 |\n",
       "\n"
      ],
      "text/plain": [
       "    trait                            egene          parameter n   mean_value\n",
       "110 Rheumatoid Arthritis             CD4T_RPS26     PP.H3.abf   2 0.6476383 \n",
       "133 Type_1_Diabetes                  B_RPS26        PP.H3.abf  24 0.7354662 \n",
       "139 Type_1_Diabetes                  CD4T_RPS26     PP.H3.abf 336 0.9025018 \n",
       "144 Type_1_Diabetes                  CD8T_RPS26     PP.H3.abf 266 0.9176685 \n",
       "150 Type_1_Diabetes                  DC_RPS26       PP.H3.abf   1 0.4908023 \n",
       "154 Type_1_Diabetes                  monocyte_RPS26 PP.H3.abf 122 0.9210668 \n",
       "159 Type_1_Diabetes                  NK_RPS26       PP.H3.abf  91 0.9621223 \n",
       "161 Type_1_Diabetes_SNPs_filtered_RA B_RPS26        PP.H3.abf  17 0.7609857 \n",
       "168 Type_1_Diabetes_SNPs_filtered_RA CD4T_RPS26     PP.H3.abf 314 0.8941315 \n",
       "175 Type_1_Diabetes_SNPs_filtered_RA CD8T_RPS26     PP.H3.abf 250 0.9182449 \n",
       "186 Type_1_Diabetes_SNPs_filtered_RA monocyte_RPS26 PP.H3.abf 113 0.9293033 \n",
       "190 Type_1_Diabetes_SNPs_filtered_RA NK_RPS26       PP.H3.abf  89 0.9585443 \n",
       "    amount_greater_0.9 amount_greater_0.75 amount_greater_0.5 max_overlap_snps\n",
       "110   0                  0                   2                 882            \n",
       "133   7                 12                  20                1335            \n",
       "139 234                282                 329                1341            \n",
       "144 204                223                 258                1341            \n",
       "150   0                  0                   0                1297            \n",
       "154  92                109                 119                1341            \n",
       "159  81                 87                  90                1334            \n",
       "161   5                  9                  16                 878            \n",
       "168 215                253                 302                 882            \n",
       "175 190                213                 244                 882            \n",
       "186  85                101                 111                 882            \n",
       "190  77                 85                  87                 879            \n",
       "    min_overlap_snps mean_overlap_snps total_n\n",
       "110  882              882.0000         372    \n",
       "133 1335             1335.0000          35    \n",
       "139 1274             1339.9732         372    \n",
       "144 1268             1339.0113         293    \n",
       "150 1297             1297.0000           3    \n",
       "154 1334             1340.9344         132    \n",
       "159 1334             1334.0000          96    \n",
       "161  878              878.0000          35    \n",
       "168  840              881.4522         372    \n",
       "175  831              880.5480         293    \n",
       "186  882              882.0000         132    \n",
       "190  879              879.0000          96    "
      ]
     },
     "metadata": {},
     "output_type": "display_data"
    }
   ],
   "source": [
    "overview_h_amounts[(overview_h_amounts$egene %in%  c('CD4T_RPS26', 'CD8T_RPS26', 'monocyte_RPS26', 'DC_RPS26', 'NK_RPS26','B_RPS26')) & (overview_h_amounts$parameter %in% c( 'PP.H3.abf')),]"
   ]
  },
  {
   "cell_type": "code",
   "execution_count": 124,
   "id": "c484189b-0860-452d-a2c8-0b3fd0e92493",
   "metadata": {},
   "outputs": [],
   "source": [
    "### All HLA-DQA2  - co-egene examples"
   ]
  },
  {
   "cell_type": "code",
   "execution_count": 125,
   "id": "1b9cd94a-04fd-4e2d-abb8-9bb3fffcc2f9",
   "metadata": {},
   "outputs": [],
   "source": [
    "#unique(overview_h_amounts$egene )"
   ]
  },
  {
   "cell_type": "code",
   "execution_count": 126,
   "id": "efef7428-1374-453c-a65d-9c68313bde68",
   "metadata": {},
   "outputs": [
    {
     "data": {
      "text/html": [
       "<table class=\"dataframe\">\n",
       "<caption>A data.frame: 27 × 12</caption>\n",
       "<thead>\n",
       "\t<tr><th></th><th scope=col>trait</th><th scope=col>egene</th><th scope=col>parameter</th><th scope=col>n</th><th scope=col>mean_value</th><th scope=col>amount_greater_0.9</th><th scope=col>amount_greater_0.75</th><th scope=col>amount_greater_0.5</th><th scope=col>max_overlap_snps</th><th scope=col>min_overlap_snps</th><th scope=col>mean_overlap_snps</th><th scope=col>total_n</th></tr>\n",
       "\t<tr><th></th><th scope=col>&lt;chr&gt;</th><th scope=col>&lt;chr&gt;</th><th scope=col>&lt;chr&gt;</th><th scope=col>&lt;int&gt;</th><th scope=col>&lt;dbl&gt;</th><th scope=col>&lt;int&gt;</th><th scope=col>&lt;int&gt;</th><th scope=col>&lt;int&gt;</th><th scope=col>&lt;dbl&gt;</th><th scope=col>&lt;dbl&gt;</th><th scope=col>&lt;dbl&gt;</th><th scope=col>&lt;int&gt;</th></tr>\n",
       "</thead>\n",
       "<tbody>\n",
       "\t<tr><th scope=row>3</th><td>Asthma                          </td><td>CD4T_HLA-DQA2    </td><td>PP.H4.abf</td><td>13</td><td>0.8605121</td><td> 5</td><td>11</td><td>13</td><td> 387</td><td> 387</td><td> 387.0000</td><td>16</td></tr>\n",
       "\t<tr><th scope=row>11</th><td>Asthma                          </td><td>CD8T_HLA-DQA2    </td><td>PP.H4.abf</td><td> 7</td><td>0.8719882</td><td> 5</td><td> 5</td><td> 7</td><td> 386</td><td> 386</td><td> 386.0000</td><td> 7</td></tr>\n",
       "\t<tr><th scope=row>18</th><td>Asthma                          </td><td>DC_HLA-DQA2      </td><td>PP.H4.abf</td><td> 5</td><td>0.6734167</td><td> 0</td><td> 1</td><td> 5</td><td> 358</td><td> 348</td><td> 351.8000</td><td>13</td></tr>\n",
       "\t<tr><th scope=row>20</th><td>Asthma                          </td><td>monocyte_HLA-DQA2</td><td>PP.H4.abf</td><td> 4</td><td>0.7193509</td><td> 1</td><td> 2</td><td> 4</td><td> 388</td><td> 388</td><td> 388.0000</td><td>17</td></tr>\n",
       "\t<tr><th scope=row>32</th><td>Crohn's Disease                 </td><td>CD4T_HLA-DQA2    </td><td>PP.H3.abf</td><td>16</td><td>0.8674851</td><td> 8</td><td>14</td><td>16</td><td>4525</td><td>4525</td><td>4525.0000</td><td>16</td></tr>\n",
       "\t<tr><th scope=row>39</th><td>Crohn's Disease                 </td><td>CD8T_HLA-DQA2    </td><td>PP.H3.abf</td><td> 7</td><td>0.8685034</td><td> 2</td><td> 6</td><td> 7</td><td>4491</td><td>4383</td><td>4475.5714</td><td> 7</td></tr>\n",
       "\t<tr><th scope=row>45</th><td>Crohn's Disease                 </td><td>DC_HLA-DQA2      </td><td>PP.H3.abf</td><td> 9</td><td>0.6909695</td><td> 0</td><td> 3</td><td> 9</td><td>3930</td><td>3758</td><td>3810.6667</td><td>13</td></tr>\n",
       "\t<tr><th scope=row>47</th><td>Crohn's Disease                 </td><td>monocyte_HLA-DQA2</td><td>PP.H3.abf</td><td>17</td><td>0.9558094</td><td>14</td><td>17</td><td>17</td><td>4436</td><td>4331</td><td>4363.8235</td><td>17</td></tr>\n",
       "\t<tr><th scope=row>57</th><td>Inflammatory Bowel Disease      </td><td>CD4T_HLA-DQA2    </td><td>PP.H3.abf</td><td>16</td><td>0.7763020</td><td> 1</td><td> 9</td><td>16</td><td>4527</td><td>4527</td><td>4527.0000</td><td>16</td></tr>\n",
       "\t<tr><th scope=row>63</th><td>Inflammatory Bowel Disease      </td><td>CD8T_HLA-DQA2    </td><td>PP.H3.abf</td><td> 7</td><td>0.8173129</td><td> 1</td><td> 5</td><td> 7</td><td>4493</td><td>4385</td><td>4477.5714</td><td> 7</td></tr>\n",
       "\t<tr><th scope=row>69</th><td>Inflammatory Bowel Disease      </td><td>DC_HLA-DQA2      </td><td>PP.H3.abf</td><td> 9</td><td>0.6542293</td><td> 0</td><td> 3</td><td> 9</td><td>3932</td><td>3760</td><td>3812.4444</td><td>13</td></tr>\n",
       "\t<tr><th scope=row>71</th><td>Inflammatory Bowel Disease      </td><td>monocyte_HLA-DQA2</td><td>PP.H3.abf</td><td>17</td><td>0.8218316</td><td> 4</td><td>12</td><td>17</td><td>4438</td><td>4333</td><td>4365.8235</td><td>17</td></tr>\n",
       "\t<tr><th scope=row>82</th><td>Multiple Sclerosis              </td><td>CD4T_HLA-DQA2    </td><td>PP.H4.abf</td><td> 1</td><td>0.9211400</td><td> 1</td><td> 1</td><td> 1</td><td>  50</td><td>  50</td><td>  50.0000</td><td>16</td></tr>\n",
       "\t<tr><th scope=row>96</th><td>Multiple Sclerosis              </td><td>monocyte_HLA-DQA2</td><td>PP.H4.abf</td><td> 1</td><td>0.7952340</td><td> 0</td><td> 1</td><td> 1</td><td>  50</td><td>  50</td><td>  50.0000</td><td>17</td></tr>\n",
       "\t<tr><th scope=row>106</th><td>Rheumatoid Arthritis            </td><td>CD4T_HLA-DQA2    </td><td>PP.H4.abf</td><td>10</td><td>0.5554058</td><td> 0</td><td> 0</td><td> 7</td><td> 819</td><td> 819</td><td> 819.0000</td><td>16</td></tr>\n",
       "\t<tr><th scope=row>108</th><td>Rheumatoid Arthritis            </td><td>CD4T_HLA-DQA2    </td><td>PP.H3.abf</td><td> 5</td><td>0.6100632</td><td> 0</td><td> 1</td><td> 4</td><td> 819</td><td> 819</td><td> 819.0000</td><td>16</td></tr>\n",
       "\t<tr><th scope=row>114</th><td>Rheumatoid Arthritis            </td><td>CD8T_HLA-DQA2    </td><td>PP.H4.abf</td><td> 1</td><td>0.4211959</td><td> 0</td><td> 0</td><td> 0</td><td> 801</td><td> 801</td><td> 801.0000</td><td> 7</td></tr>\n",
       "\t<tr><th scope=row>115</th><td>Rheumatoid Arthritis            </td><td>CD8T_HLA-DQA2    </td><td>PP.H3.abf</td><td> 5</td><td>0.5385873</td><td> 0</td><td> 1</td><td> 3</td><td> 817</td><td> 817</td><td> 817.0000</td><td> 7</td></tr>\n",
       "\t<tr><th scope=row>122</th><td>Rheumatoid Arthritis            </td><td>DC_HLA-DQA2      </td><td>PP.H4.abf</td><td> 1</td><td>0.4800992</td><td> 0</td><td> 0</td><td> 0</td><td> 706</td><td> 706</td><td> 706.0000</td><td>13</td></tr>\n",
       "\t<tr><th scope=row>125</th><td>Rheumatoid Arthritis            </td><td>monocyte_HLA-DQA2</td><td>PP.H4.abf</td><td>16</td><td>0.6159706</td><td> 0</td><td> 0</td><td>14</td><td> 817</td><td> 815</td><td> 815.8125</td><td>17</td></tr>\n",
       "\t<tr><th scope=row>135</th><td>Type_1_Diabetes                 </td><td>CD4T_HLA-DQA2    </td><td>PP.H3.abf</td><td>16</td><td>0.7585537</td><td> 2</td><td> 9</td><td>16</td><td>1319</td><td>1319</td><td>1319.0000</td><td>16</td></tr>\n",
       "\t<tr><th scope=row>142</th><td>Type_1_Diabetes                 </td><td>CD8T_HLA-DQA2    </td><td>PP.H3.abf</td><td> 7</td><td>0.7726785</td><td> 2</td><td> 4</td><td> 6</td><td>1317</td><td>1282</td><td>1312.0000</td><td> 7</td></tr>\n",
       "\t<tr><th scope=row>148</th><td>Type_1_Diabetes                 </td><td>DC_HLA-DQA2      </td><td>PP.H3.abf</td><td> 3</td><td>0.5865191</td><td> 0</td><td> 0</td><td> 3</td><td>1115</td><td>1115</td><td>1115.0000</td><td>13</td></tr>\n",
       "\t<tr><th scope=row>152</th><td>Type_1_Diabetes                 </td><td>monocyte_HLA-DQA2</td><td>PP.H3.abf</td><td>17</td><td>0.9371937</td><td>13</td><td>16</td><td>17</td><td>1300</td><td>1289</td><td>1292.4706</td><td>17</td></tr>\n",
       "\t<tr><th scope=row>164</th><td>Type_1_Diabetes_SNPs_filtered_RA</td><td>CD4T_HLA-DQA2    </td><td>PP.H3.abf</td><td>12</td><td>0.6706927</td><td> 0</td><td> 3</td><td>11</td><td> 813</td><td> 813</td><td> 813.0000</td><td>16</td></tr>\n",
       "\t<tr><th scope=row>172</th><td>Type_1_Diabetes_SNPs_filtered_RA</td><td>CD8T_HLA-DQA2    </td><td>PP.H3.abf</td><td> 5</td><td>0.7057876</td><td> 0</td><td> 2</td><td> 5</td><td> 811</td><td> 811</td><td> 811.0000</td><td> 7</td></tr>\n",
       "\t<tr><th scope=row>181</th><td>Type_1_Diabetes_SNPs_filtered_RA</td><td>monocyte_HLA-DQA2</td><td>PP.H3.abf</td><td>14</td><td>0.8868140</td><td> 9</td><td>12</td><td>14</td><td> 812</td><td> 810</td><td> 810.7857</td><td>17</td></tr>\n",
       "</tbody>\n",
       "</table>\n"
      ],
      "text/latex": [
       "A data.frame: 27 × 12\n",
       "\\begin{tabular}{r|llllllllllll}\n",
       "  & trait & egene & parameter & n & mean\\_value & amount\\_greater\\_0.9 & amount\\_greater\\_0.75 & amount\\_greater\\_0.5 & max\\_overlap\\_snps & min\\_overlap\\_snps & mean\\_overlap\\_snps & total\\_n\\\\\n",
       "  & <chr> & <chr> & <chr> & <int> & <dbl> & <int> & <int> & <int> & <dbl> & <dbl> & <dbl> & <int>\\\\\n",
       "\\hline\n",
       "\t3 & Asthma                           & CD4T\\_HLA-DQA2     & PP.H4.abf & 13 & 0.8605121 &  5 & 11 & 13 &  387 &  387 &  387.0000 & 16\\\\\n",
       "\t11 & Asthma                           & CD8T\\_HLA-DQA2     & PP.H4.abf &  7 & 0.8719882 &  5 &  5 &  7 &  386 &  386 &  386.0000 &  7\\\\\n",
       "\t18 & Asthma                           & DC\\_HLA-DQA2       & PP.H4.abf &  5 & 0.6734167 &  0 &  1 &  5 &  358 &  348 &  351.8000 & 13\\\\\n",
       "\t20 & Asthma                           & monocyte\\_HLA-DQA2 & PP.H4.abf &  4 & 0.7193509 &  1 &  2 &  4 &  388 &  388 &  388.0000 & 17\\\\\n",
       "\t32 & Crohn's Disease                  & CD4T\\_HLA-DQA2     & PP.H3.abf & 16 & 0.8674851 &  8 & 14 & 16 & 4525 & 4525 & 4525.0000 & 16\\\\\n",
       "\t39 & Crohn's Disease                  & CD8T\\_HLA-DQA2     & PP.H3.abf &  7 & 0.8685034 &  2 &  6 &  7 & 4491 & 4383 & 4475.5714 &  7\\\\\n",
       "\t45 & Crohn's Disease                  & DC\\_HLA-DQA2       & PP.H3.abf &  9 & 0.6909695 &  0 &  3 &  9 & 3930 & 3758 & 3810.6667 & 13\\\\\n",
       "\t47 & Crohn's Disease                  & monocyte\\_HLA-DQA2 & PP.H3.abf & 17 & 0.9558094 & 14 & 17 & 17 & 4436 & 4331 & 4363.8235 & 17\\\\\n",
       "\t57 & Inflammatory Bowel Disease       & CD4T\\_HLA-DQA2     & PP.H3.abf & 16 & 0.7763020 &  1 &  9 & 16 & 4527 & 4527 & 4527.0000 & 16\\\\\n",
       "\t63 & Inflammatory Bowel Disease       & CD8T\\_HLA-DQA2     & PP.H3.abf &  7 & 0.8173129 &  1 &  5 &  7 & 4493 & 4385 & 4477.5714 &  7\\\\\n",
       "\t69 & Inflammatory Bowel Disease       & DC\\_HLA-DQA2       & PP.H3.abf &  9 & 0.6542293 &  0 &  3 &  9 & 3932 & 3760 & 3812.4444 & 13\\\\\n",
       "\t71 & Inflammatory Bowel Disease       & monocyte\\_HLA-DQA2 & PP.H3.abf & 17 & 0.8218316 &  4 & 12 & 17 & 4438 & 4333 & 4365.8235 & 17\\\\\n",
       "\t82 & Multiple Sclerosis               & CD4T\\_HLA-DQA2     & PP.H4.abf &  1 & 0.9211400 &  1 &  1 &  1 &   50 &   50 &   50.0000 & 16\\\\\n",
       "\t96 & Multiple Sclerosis               & monocyte\\_HLA-DQA2 & PP.H4.abf &  1 & 0.7952340 &  0 &  1 &  1 &   50 &   50 &   50.0000 & 17\\\\\n",
       "\t106 & Rheumatoid Arthritis             & CD4T\\_HLA-DQA2     & PP.H4.abf & 10 & 0.5554058 &  0 &  0 &  7 &  819 &  819 &  819.0000 & 16\\\\\n",
       "\t108 & Rheumatoid Arthritis             & CD4T\\_HLA-DQA2     & PP.H3.abf &  5 & 0.6100632 &  0 &  1 &  4 &  819 &  819 &  819.0000 & 16\\\\\n",
       "\t114 & Rheumatoid Arthritis             & CD8T\\_HLA-DQA2     & PP.H4.abf &  1 & 0.4211959 &  0 &  0 &  0 &  801 &  801 &  801.0000 &  7\\\\\n",
       "\t115 & Rheumatoid Arthritis             & CD8T\\_HLA-DQA2     & PP.H3.abf &  5 & 0.5385873 &  0 &  1 &  3 &  817 &  817 &  817.0000 &  7\\\\\n",
       "\t122 & Rheumatoid Arthritis             & DC\\_HLA-DQA2       & PP.H4.abf &  1 & 0.4800992 &  0 &  0 &  0 &  706 &  706 &  706.0000 & 13\\\\\n",
       "\t125 & Rheumatoid Arthritis             & monocyte\\_HLA-DQA2 & PP.H4.abf & 16 & 0.6159706 &  0 &  0 & 14 &  817 &  815 &  815.8125 & 17\\\\\n",
       "\t135 & Type\\_1\\_Diabetes                  & CD4T\\_HLA-DQA2     & PP.H3.abf & 16 & 0.7585537 &  2 &  9 & 16 & 1319 & 1319 & 1319.0000 & 16\\\\\n",
       "\t142 & Type\\_1\\_Diabetes                  & CD8T\\_HLA-DQA2     & PP.H3.abf &  7 & 0.7726785 &  2 &  4 &  6 & 1317 & 1282 & 1312.0000 &  7\\\\\n",
       "\t148 & Type\\_1\\_Diabetes                  & DC\\_HLA-DQA2       & PP.H3.abf &  3 & 0.5865191 &  0 &  0 &  3 & 1115 & 1115 & 1115.0000 & 13\\\\\n",
       "\t152 & Type\\_1\\_Diabetes                  & monocyte\\_HLA-DQA2 & PP.H3.abf & 17 & 0.9371937 & 13 & 16 & 17 & 1300 & 1289 & 1292.4706 & 17\\\\\n",
       "\t164 & Type\\_1\\_Diabetes\\_SNPs\\_filtered\\_RA & CD4T\\_HLA-DQA2     & PP.H3.abf & 12 & 0.6706927 &  0 &  3 & 11 &  813 &  813 &  813.0000 & 16\\\\\n",
       "\t172 & Type\\_1\\_Diabetes\\_SNPs\\_filtered\\_RA & CD8T\\_HLA-DQA2     & PP.H3.abf &  5 & 0.7057876 &  0 &  2 &  5 &  811 &  811 &  811.0000 &  7\\\\\n",
       "\t181 & Type\\_1\\_Diabetes\\_SNPs\\_filtered\\_RA & monocyte\\_HLA-DQA2 & PP.H3.abf & 14 & 0.8868140 &  9 & 12 & 14 &  812 &  810 &  810.7857 & 17\\\\\n",
       "\\end{tabular}\n"
      ],
      "text/markdown": [
       "\n",
       "A data.frame: 27 × 12\n",
       "\n",
       "| <!--/--> | trait &lt;chr&gt; | egene &lt;chr&gt; | parameter &lt;chr&gt; | n &lt;int&gt; | mean_value &lt;dbl&gt; | amount_greater_0.9 &lt;int&gt; | amount_greater_0.75 &lt;int&gt; | amount_greater_0.5 &lt;int&gt; | max_overlap_snps &lt;dbl&gt; | min_overlap_snps &lt;dbl&gt; | mean_overlap_snps &lt;dbl&gt; | total_n &lt;int&gt; |\n",
       "|---|---|---|---|---|---|---|---|---|---|---|---|---|\n",
       "| 3 | Asthma                           | CD4T_HLA-DQA2     | PP.H4.abf | 13 | 0.8605121 |  5 | 11 | 13 |  387 |  387 |  387.0000 | 16 |\n",
       "| 11 | Asthma                           | CD8T_HLA-DQA2     | PP.H4.abf |  7 | 0.8719882 |  5 |  5 |  7 |  386 |  386 |  386.0000 |  7 |\n",
       "| 18 | Asthma                           | DC_HLA-DQA2       | PP.H4.abf |  5 | 0.6734167 |  0 |  1 |  5 |  358 |  348 |  351.8000 | 13 |\n",
       "| 20 | Asthma                           | monocyte_HLA-DQA2 | PP.H4.abf |  4 | 0.7193509 |  1 |  2 |  4 |  388 |  388 |  388.0000 | 17 |\n",
       "| 32 | Crohn's Disease                  | CD4T_HLA-DQA2     | PP.H3.abf | 16 | 0.8674851 |  8 | 14 | 16 | 4525 | 4525 | 4525.0000 | 16 |\n",
       "| 39 | Crohn's Disease                  | CD8T_HLA-DQA2     | PP.H3.abf |  7 | 0.8685034 |  2 |  6 |  7 | 4491 | 4383 | 4475.5714 |  7 |\n",
       "| 45 | Crohn's Disease                  | DC_HLA-DQA2       | PP.H3.abf |  9 | 0.6909695 |  0 |  3 |  9 | 3930 | 3758 | 3810.6667 | 13 |\n",
       "| 47 | Crohn's Disease                  | monocyte_HLA-DQA2 | PP.H3.abf | 17 | 0.9558094 | 14 | 17 | 17 | 4436 | 4331 | 4363.8235 | 17 |\n",
       "| 57 | Inflammatory Bowel Disease       | CD4T_HLA-DQA2     | PP.H3.abf | 16 | 0.7763020 |  1 |  9 | 16 | 4527 | 4527 | 4527.0000 | 16 |\n",
       "| 63 | Inflammatory Bowel Disease       | CD8T_HLA-DQA2     | PP.H3.abf |  7 | 0.8173129 |  1 |  5 |  7 | 4493 | 4385 | 4477.5714 |  7 |\n",
       "| 69 | Inflammatory Bowel Disease       | DC_HLA-DQA2       | PP.H3.abf |  9 | 0.6542293 |  0 |  3 |  9 | 3932 | 3760 | 3812.4444 | 13 |\n",
       "| 71 | Inflammatory Bowel Disease       | monocyte_HLA-DQA2 | PP.H3.abf | 17 | 0.8218316 |  4 | 12 | 17 | 4438 | 4333 | 4365.8235 | 17 |\n",
       "| 82 | Multiple Sclerosis               | CD4T_HLA-DQA2     | PP.H4.abf |  1 | 0.9211400 |  1 |  1 |  1 |   50 |   50 |   50.0000 | 16 |\n",
       "| 96 | Multiple Sclerosis               | monocyte_HLA-DQA2 | PP.H4.abf |  1 | 0.7952340 |  0 |  1 |  1 |   50 |   50 |   50.0000 | 17 |\n",
       "| 106 | Rheumatoid Arthritis             | CD4T_HLA-DQA2     | PP.H4.abf | 10 | 0.5554058 |  0 |  0 |  7 |  819 |  819 |  819.0000 | 16 |\n",
       "| 108 | Rheumatoid Arthritis             | CD4T_HLA-DQA2     | PP.H3.abf |  5 | 0.6100632 |  0 |  1 |  4 |  819 |  819 |  819.0000 | 16 |\n",
       "| 114 | Rheumatoid Arthritis             | CD8T_HLA-DQA2     | PP.H4.abf |  1 | 0.4211959 |  0 |  0 |  0 |  801 |  801 |  801.0000 |  7 |\n",
       "| 115 | Rheumatoid Arthritis             | CD8T_HLA-DQA2     | PP.H3.abf |  5 | 0.5385873 |  0 |  1 |  3 |  817 |  817 |  817.0000 |  7 |\n",
       "| 122 | Rheumatoid Arthritis             | DC_HLA-DQA2       | PP.H4.abf |  1 | 0.4800992 |  0 |  0 |  0 |  706 |  706 |  706.0000 | 13 |\n",
       "| 125 | Rheumatoid Arthritis             | monocyte_HLA-DQA2 | PP.H4.abf | 16 | 0.6159706 |  0 |  0 | 14 |  817 |  815 |  815.8125 | 17 |\n",
       "| 135 | Type_1_Diabetes                  | CD4T_HLA-DQA2     | PP.H3.abf | 16 | 0.7585537 |  2 |  9 | 16 | 1319 | 1319 | 1319.0000 | 16 |\n",
       "| 142 | Type_1_Diabetes                  | CD8T_HLA-DQA2     | PP.H3.abf |  7 | 0.7726785 |  2 |  4 |  6 | 1317 | 1282 | 1312.0000 |  7 |\n",
       "| 148 | Type_1_Diabetes                  | DC_HLA-DQA2       | PP.H3.abf |  3 | 0.5865191 |  0 |  0 |  3 | 1115 | 1115 | 1115.0000 | 13 |\n",
       "| 152 | Type_1_Diabetes                  | monocyte_HLA-DQA2 | PP.H3.abf | 17 | 0.9371937 | 13 | 16 | 17 | 1300 | 1289 | 1292.4706 | 17 |\n",
       "| 164 | Type_1_Diabetes_SNPs_filtered_RA | CD4T_HLA-DQA2     | PP.H3.abf | 12 | 0.6706927 |  0 |  3 | 11 |  813 |  813 |  813.0000 | 16 |\n",
       "| 172 | Type_1_Diabetes_SNPs_filtered_RA | CD8T_HLA-DQA2     | PP.H3.abf |  5 | 0.7057876 |  0 |  2 |  5 |  811 |  811 |  811.0000 |  7 |\n",
       "| 181 | Type_1_Diabetes_SNPs_filtered_RA | monocyte_HLA-DQA2 | PP.H3.abf | 14 | 0.8868140 |  9 | 12 | 14 |  812 |  810 |  810.7857 | 17 |\n",
       "\n"
      ],
      "text/plain": [
       "    trait                            egene             parameter n  mean_value\n",
       "3   Asthma                           CD4T_HLA-DQA2     PP.H4.abf 13 0.8605121 \n",
       "11  Asthma                           CD8T_HLA-DQA2     PP.H4.abf  7 0.8719882 \n",
       "18  Asthma                           DC_HLA-DQA2       PP.H4.abf  5 0.6734167 \n",
       "20  Asthma                           monocyte_HLA-DQA2 PP.H4.abf  4 0.7193509 \n",
       "32  Crohn's Disease                  CD4T_HLA-DQA2     PP.H3.abf 16 0.8674851 \n",
       "39  Crohn's Disease                  CD8T_HLA-DQA2     PP.H3.abf  7 0.8685034 \n",
       "45  Crohn's Disease                  DC_HLA-DQA2       PP.H3.abf  9 0.6909695 \n",
       "47  Crohn's Disease                  monocyte_HLA-DQA2 PP.H3.abf 17 0.9558094 \n",
       "57  Inflammatory Bowel Disease       CD4T_HLA-DQA2     PP.H3.abf 16 0.7763020 \n",
       "63  Inflammatory Bowel Disease       CD8T_HLA-DQA2     PP.H3.abf  7 0.8173129 \n",
       "69  Inflammatory Bowel Disease       DC_HLA-DQA2       PP.H3.abf  9 0.6542293 \n",
       "71  Inflammatory Bowel Disease       monocyte_HLA-DQA2 PP.H3.abf 17 0.8218316 \n",
       "82  Multiple Sclerosis               CD4T_HLA-DQA2     PP.H4.abf  1 0.9211400 \n",
       "96  Multiple Sclerosis               monocyte_HLA-DQA2 PP.H4.abf  1 0.7952340 \n",
       "106 Rheumatoid Arthritis             CD4T_HLA-DQA2     PP.H4.abf 10 0.5554058 \n",
       "108 Rheumatoid Arthritis             CD4T_HLA-DQA2     PP.H3.abf  5 0.6100632 \n",
       "114 Rheumatoid Arthritis             CD8T_HLA-DQA2     PP.H4.abf  1 0.4211959 \n",
       "115 Rheumatoid Arthritis             CD8T_HLA-DQA2     PP.H3.abf  5 0.5385873 \n",
       "122 Rheumatoid Arthritis             DC_HLA-DQA2       PP.H4.abf  1 0.4800992 \n",
       "125 Rheumatoid Arthritis             monocyte_HLA-DQA2 PP.H4.abf 16 0.6159706 \n",
       "135 Type_1_Diabetes                  CD4T_HLA-DQA2     PP.H3.abf 16 0.7585537 \n",
       "142 Type_1_Diabetes                  CD8T_HLA-DQA2     PP.H3.abf  7 0.7726785 \n",
       "148 Type_1_Diabetes                  DC_HLA-DQA2       PP.H3.abf  3 0.5865191 \n",
       "152 Type_1_Diabetes                  monocyte_HLA-DQA2 PP.H3.abf 17 0.9371937 \n",
       "164 Type_1_Diabetes_SNPs_filtered_RA CD4T_HLA-DQA2     PP.H3.abf 12 0.6706927 \n",
       "172 Type_1_Diabetes_SNPs_filtered_RA CD8T_HLA-DQA2     PP.H3.abf  5 0.7057876 \n",
       "181 Type_1_Diabetes_SNPs_filtered_RA monocyte_HLA-DQA2 PP.H3.abf 14 0.8868140 \n",
       "    amount_greater_0.9 amount_greater_0.75 amount_greater_0.5 max_overlap_snps\n",
       "3    5                 11                  13                  387            \n",
       "11   5                  5                   7                  386            \n",
       "18   0                  1                   5                  358            \n",
       "20   1                  2                   4                  388            \n",
       "32   8                 14                  16                 4525            \n",
       "39   2                  6                   7                 4491            \n",
       "45   0                  3                   9                 3930            \n",
       "47  14                 17                  17                 4436            \n",
       "57   1                  9                  16                 4527            \n",
       "63   1                  5                   7                 4493            \n",
       "69   0                  3                   9                 3932            \n",
       "71   4                 12                  17                 4438            \n",
       "82   1                  1                   1                   50            \n",
       "96   0                  1                   1                   50            \n",
       "106  0                  0                   7                  819            \n",
       "108  0                  1                   4                  819            \n",
       "114  0                  0                   0                  801            \n",
       "115  0                  1                   3                  817            \n",
       "122  0                  0                   0                  706            \n",
       "125  0                  0                  14                  817            \n",
       "135  2                  9                  16                 1319            \n",
       "142  2                  4                   6                 1317            \n",
       "148  0                  0                   3                 1115            \n",
       "152 13                 16                  17                 1300            \n",
       "164  0                  3                  11                  813            \n",
       "172  0                  2                   5                  811            \n",
       "181  9                 12                  14                  812            \n",
       "    min_overlap_snps mean_overlap_snps total_n\n",
       "3    387              387.0000         16     \n",
       "11   386              386.0000          7     \n",
       "18   348              351.8000         13     \n",
       "20   388              388.0000         17     \n",
       "32  4525             4525.0000         16     \n",
       "39  4383             4475.5714          7     \n",
       "45  3758             3810.6667         13     \n",
       "47  4331             4363.8235         17     \n",
       "57  4527             4527.0000         16     \n",
       "63  4385             4477.5714          7     \n",
       "69  3760             3812.4444         13     \n",
       "71  4333             4365.8235         17     \n",
       "82    50               50.0000         16     \n",
       "96    50               50.0000         17     \n",
       "106  819              819.0000         16     \n",
       "108  819              819.0000         16     \n",
       "114  801              801.0000          7     \n",
       "115  817              817.0000          7     \n",
       "122  706              706.0000         13     \n",
       "125  815              815.8125         17     \n",
       "135 1319             1319.0000         16     \n",
       "142 1282             1312.0000          7     \n",
       "148 1115             1115.0000         13     \n",
       "152 1289             1292.4706         17     \n",
       "164  813              813.0000         16     \n",
       "172  811              811.0000          7     \n",
       "181  810              810.7857         17     "
      ]
     },
     "metadata": {},
     "output_type": "display_data"
    }
   ],
   "source": [
    "overview_h_amounts[(overview_h_amounts$egene %in% c('CD4T_HLA-DQA2' , 'CD8T_HLA-DQA2', 'monocyte_HLA-DQA2', 'DC_HLA-DQA2'))  & (overview_h_amounts$parameter %in% c('PP.H4.abf', 'PP.H3.abf')),]"
   ]
  },
  {
   "cell_type": "code",
   "execution_count": 127,
   "id": "553b946a-6572-4f74-873b-fc2638551e85",
   "metadata": {},
   "outputs": [],
   "source": [
    "### All SMDT1  - co-egene examples"
   ]
  },
  {
   "cell_type": "code",
   "execution_count": 129,
   "id": "e575afe8-2da1-4b46-ac20-6a8fd81b0c49",
   "metadata": {},
   "outputs": [
    {
     "data": {
      "text/html": [
       "<table class=\"dataframe\">\n",
       "<caption>A data.frame: 0 × 12</caption>\n",
       "<thead>\n",
       "\t<tr><th scope=col>trait</th><th scope=col>egene</th><th scope=col>parameter</th><th scope=col>n</th><th scope=col>mean_value</th><th scope=col>amount_greater_0.9</th><th scope=col>amount_greater_0.75</th><th scope=col>amount_greater_0.5</th><th scope=col>max_overlap_snps</th><th scope=col>min_overlap_snps</th><th scope=col>mean_overlap_snps</th><th scope=col>total_n</th></tr>\n",
       "\t<tr><th scope=col>&lt;chr&gt;</th><th scope=col>&lt;chr&gt;</th><th scope=col>&lt;chr&gt;</th><th scope=col>&lt;int&gt;</th><th scope=col>&lt;dbl&gt;</th><th scope=col>&lt;int&gt;</th><th scope=col>&lt;int&gt;</th><th scope=col>&lt;int&gt;</th><th scope=col>&lt;dbl&gt;</th><th scope=col>&lt;dbl&gt;</th><th scope=col>&lt;dbl&gt;</th><th scope=col>&lt;int&gt;</th></tr>\n",
       "</thead>\n",
       "<tbody>\n",
       "</tbody>\n",
       "</table>\n"
      ],
      "text/latex": [
       "A data.frame: 0 × 12\n",
       "\\begin{tabular}{llllllllllll}\n",
       " trait & egene & parameter & n & mean\\_value & amount\\_greater\\_0.9 & amount\\_greater\\_0.75 & amount\\_greater\\_0.5 & max\\_overlap\\_snps & min\\_overlap\\_snps & mean\\_overlap\\_snps & total\\_n\\\\\n",
       " <chr> & <chr> & <chr> & <int> & <dbl> & <int> & <int> & <int> & <dbl> & <dbl> & <dbl> & <int>\\\\\n",
       "\\hline\n",
       "\\end{tabular}\n"
      ],
      "text/markdown": [
       "\n",
       "A data.frame: 0 × 12\n",
       "\n",
       "| trait &lt;chr&gt; | egene &lt;chr&gt; | parameter &lt;chr&gt; | n &lt;int&gt; | mean_value &lt;dbl&gt; | amount_greater_0.9 &lt;int&gt; | amount_greater_0.75 &lt;int&gt; | amount_greater_0.5 &lt;int&gt; | max_overlap_snps &lt;dbl&gt; | min_overlap_snps &lt;dbl&gt; | mean_overlap_snps &lt;dbl&gt; | total_n &lt;int&gt; |\n",
       "|---|---|---|---|---|---|---|---|---|---|---|---|\n",
       "\n"
      ],
      "text/plain": [
       "     trait egene parameter n mean_value amount_greater_0.9 amount_greater_0.75\n",
       "     amount_greater_0.5 max_overlap_snps min_overlap_snps mean_overlap_snps\n",
       "     total_n"
      ]
     },
     "metadata": {},
     "output_type": "display_data"
    }
   ],
   "source": [
    "overview_h_amounts[(overview_h_amounts$egene %in%  c('CD4T_SMDT1', 'CD8T_SMDT1')) & (overview_h_amounts$parameter %in% c('PP.H4.abf', 'PP.H3.abf')),]"
   ]
  },
  {
   "cell_type": "code",
   "execution_count": 131,
   "id": "3ce6e5c0-f029-4051-b125-af8d6047ccf9",
   "metadata": {},
   "outputs": [],
   "source": [
    "### All TMEM176A  - co-egene examples"
   ]
  },
  {
   "cell_type": "code",
   "execution_count": 132,
   "id": "4f8fac25-b1a9-4daa-80d4-a7a36464bcbc",
   "metadata": {},
   "outputs": [
    {
     "data": {
      "text/html": [
       "<table class=\"dataframe\">\n",
       "<caption>A data.frame: 0 × 12</caption>\n",
       "<thead>\n",
       "\t<tr><th scope=col>trait</th><th scope=col>egene</th><th scope=col>parameter</th><th scope=col>n</th><th scope=col>mean_value</th><th scope=col>amount_greater_0.9</th><th scope=col>amount_greater_0.75</th><th scope=col>amount_greater_0.5</th><th scope=col>max_overlap_snps</th><th scope=col>min_overlap_snps</th><th scope=col>mean_overlap_snps</th><th scope=col>total_n</th></tr>\n",
       "\t<tr><th scope=col>&lt;chr&gt;</th><th scope=col>&lt;chr&gt;</th><th scope=col>&lt;chr&gt;</th><th scope=col>&lt;int&gt;</th><th scope=col>&lt;dbl&gt;</th><th scope=col>&lt;int&gt;</th><th scope=col>&lt;int&gt;</th><th scope=col>&lt;int&gt;</th><th scope=col>&lt;dbl&gt;</th><th scope=col>&lt;dbl&gt;</th><th scope=col>&lt;dbl&gt;</th><th scope=col>&lt;int&gt;</th></tr>\n",
       "</thead>\n",
       "<tbody>\n",
       "</tbody>\n",
       "</table>\n"
      ],
      "text/latex": [
       "A data.frame: 0 × 12\n",
       "\\begin{tabular}{llllllllllll}\n",
       " trait & egene & parameter & n & mean\\_value & amount\\_greater\\_0.9 & amount\\_greater\\_0.75 & amount\\_greater\\_0.5 & max\\_overlap\\_snps & min\\_overlap\\_snps & mean\\_overlap\\_snps & total\\_n\\\\\n",
       " <chr> & <chr> & <chr> & <int> & <dbl> & <int> & <int> & <int> & <dbl> & <dbl> & <dbl> & <int>\\\\\n",
       "\\hline\n",
       "\\end{tabular}\n"
      ],
      "text/markdown": [
       "\n",
       "A data.frame: 0 × 12\n",
       "\n",
       "| trait &lt;chr&gt; | egene &lt;chr&gt; | parameter &lt;chr&gt; | n &lt;int&gt; | mean_value &lt;dbl&gt; | amount_greater_0.9 &lt;int&gt; | amount_greater_0.75 &lt;int&gt; | amount_greater_0.5 &lt;int&gt; | max_overlap_snps &lt;dbl&gt; | min_overlap_snps &lt;dbl&gt; | mean_overlap_snps &lt;dbl&gt; | total_n &lt;int&gt; |\n",
       "|---|---|---|---|---|---|---|---|---|---|---|---|\n",
       "\n"
      ],
      "text/plain": [
       "     trait egene parameter n mean_value amount_greater_0.9 amount_greater_0.75\n",
       "     amount_greater_0.5 max_overlap_snps min_overlap_snps mean_overlap_snps\n",
       "     total_n"
      ]
     },
     "metadata": {},
     "output_type": "display_data"
    }
   ],
   "source": [
    "overview_h_amounts[(overview_h_amounts$egene %in%  c('monocyte_TMEM176A'))  & (overview_h_amounts$parameter %in% c('PP.H4.abf', 'PP.H3.abf')),]"
   ]
  },
  {
   "cell_type": "code",
   "execution_count": 133,
   "id": "0fc7ba1c-6fb4-4def-b2e5-206deaa3a101",
   "metadata": {},
   "outputs": [],
   "source": [
    "### All RNASET2 - co-egene examples"
   ]
  },
  {
   "cell_type": "code",
   "execution_count": 134,
   "id": "78c7efed-46e2-4e17-a2f6-970497c695c9",
   "metadata": {},
   "outputs": [
    {
     "data": {
      "text/html": [
       "<table class=\"dataframe\">\n",
       "<caption>A data.frame: 6 × 12</caption>\n",
       "<thead>\n",
       "\t<tr><th></th><th scope=col>trait</th><th scope=col>egene</th><th scope=col>parameter</th><th scope=col>n</th><th scope=col>mean_value</th><th scope=col>amount_greater_0.9</th><th scope=col>amount_greater_0.75</th><th scope=col>amount_greater_0.5</th><th scope=col>max_overlap_snps</th><th scope=col>min_overlap_snps</th><th scope=col>mean_overlap_snps</th><th scope=col>total_n</th></tr>\n",
       "\t<tr><th></th><th scope=col>&lt;chr&gt;</th><th scope=col>&lt;chr&gt;</th><th scope=col>&lt;chr&gt;</th><th scope=col>&lt;int&gt;</th><th scope=col>&lt;dbl&gt;</th><th scope=col>&lt;int&gt;</th><th scope=col>&lt;int&gt;</th><th scope=col>&lt;int&gt;</th><th scope=col>&lt;dbl&gt;</th><th scope=col>&lt;dbl&gt;</th><th scope=col>&lt;dbl&gt;</th><th scope=col>&lt;int&gt;</th></tr>\n",
       "</thead>\n",
       "<tbody>\n",
       "\t<tr><th scope=row>33</th><td>Crohn's Disease           </td><td>CD4T_RNASET2    </td><td>PP.H3.abf</td><td>2</td><td>0.5193770</td><td>0</td><td>0</td><td>1</td><td>2707</td><td>2707</td><td>2707</td><td>4</td></tr>\n",
       "\t<tr><th scope=row>34</th><td>Crohn's Disease           </td><td>CD4T_RNASET2    </td><td>PP.H4.abf</td><td>2</td><td>0.5193536</td><td>0</td><td>0</td><td>2</td><td>2707</td><td>2707</td><td>2707</td><td>4</td></tr>\n",
       "\t<tr><th scope=row>48</th><td>Crohn's Disease           </td><td>monocyte_RNASET2</td><td>PP.H3.abf</td><td>1</td><td>0.8485668</td><td>0</td><td>1</td><td>1</td><td>4390</td><td>4390</td><td>4390</td><td>1</td></tr>\n",
       "\t<tr><th scope=row>58</th><td>Inflammatory Bowel Disease</td><td>CD4T_RNASET2    </td><td>PP.H3.abf</td><td>4</td><td>0.5968840</td><td>0</td><td>0</td><td>4</td><td>2704</td><td>2704</td><td>2704</td><td>4</td></tr>\n",
       "\t<tr><th scope=row>72</th><td>Inflammatory Bowel Disease</td><td>monocyte_RNASET2</td><td>PP.H3.abf</td><td>1</td><td>0.8485287</td><td>0</td><td>1</td><td>1</td><td>4391</td><td>4391</td><td>4391</td><td>1</td></tr>\n",
       "\t<tr><th scope=row>109</th><td>Rheumatoid Arthritis      </td><td>CD4T_RNASET2    </td><td>PP.H3.abf</td><td>4</td><td>0.9369664</td><td>3</td><td>4</td><td>4</td><td>2031</td><td>2031</td><td>2031</td><td>4</td></tr>\n",
       "</tbody>\n",
       "</table>\n"
      ],
      "text/latex": [
       "A data.frame: 6 × 12\n",
       "\\begin{tabular}{r|llllllllllll}\n",
       "  & trait & egene & parameter & n & mean\\_value & amount\\_greater\\_0.9 & amount\\_greater\\_0.75 & amount\\_greater\\_0.5 & max\\_overlap\\_snps & min\\_overlap\\_snps & mean\\_overlap\\_snps & total\\_n\\\\\n",
       "  & <chr> & <chr> & <chr> & <int> & <dbl> & <int> & <int> & <int> & <dbl> & <dbl> & <dbl> & <int>\\\\\n",
       "\\hline\n",
       "\t33 & Crohn's Disease            & CD4T\\_RNASET2     & PP.H3.abf & 2 & 0.5193770 & 0 & 0 & 1 & 2707 & 2707 & 2707 & 4\\\\\n",
       "\t34 & Crohn's Disease            & CD4T\\_RNASET2     & PP.H4.abf & 2 & 0.5193536 & 0 & 0 & 2 & 2707 & 2707 & 2707 & 4\\\\\n",
       "\t48 & Crohn's Disease            & monocyte\\_RNASET2 & PP.H3.abf & 1 & 0.8485668 & 0 & 1 & 1 & 4390 & 4390 & 4390 & 1\\\\\n",
       "\t58 & Inflammatory Bowel Disease & CD4T\\_RNASET2     & PP.H3.abf & 4 & 0.5968840 & 0 & 0 & 4 & 2704 & 2704 & 2704 & 4\\\\\n",
       "\t72 & Inflammatory Bowel Disease & monocyte\\_RNASET2 & PP.H3.abf & 1 & 0.8485287 & 0 & 1 & 1 & 4391 & 4391 & 4391 & 1\\\\\n",
       "\t109 & Rheumatoid Arthritis       & CD4T\\_RNASET2     & PP.H3.abf & 4 & 0.9369664 & 3 & 4 & 4 & 2031 & 2031 & 2031 & 4\\\\\n",
       "\\end{tabular}\n"
      ],
      "text/markdown": [
       "\n",
       "A data.frame: 6 × 12\n",
       "\n",
       "| <!--/--> | trait &lt;chr&gt; | egene &lt;chr&gt; | parameter &lt;chr&gt; | n &lt;int&gt; | mean_value &lt;dbl&gt; | amount_greater_0.9 &lt;int&gt; | amount_greater_0.75 &lt;int&gt; | amount_greater_0.5 &lt;int&gt; | max_overlap_snps &lt;dbl&gt; | min_overlap_snps &lt;dbl&gt; | mean_overlap_snps &lt;dbl&gt; | total_n &lt;int&gt; |\n",
       "|---|---|---|---|---|---|---|---|---|---|---|---|---|\n",
       "| 33 | Crohn's Disease            | CD4T_RNASET2     | PP.H3.abf | 2 | 0.5193770 | 0 | 0 | 1 | 2707 | 2707 | 2707 | 4 |\n",
       "| 34 | Crohn's Disease            | CD4T_RNASET2     | PP.H4.abf | 2 | 0.5193536 | 0 | 0 | 2 | 2707 | 2707 | 2707 | 4 |\n",
       "| 48 | Crohn's Disease            | monocyte_RNASET2 | PP.H3.abf | 1 | 0.8485668 | 0 | 1 | 1 | 4390 | 4390 | 4390 | 1 |\n",
       "| 58 | Inflammatory Bowel Disease | CD4T_RNASET2     | PP.H3.abf | 4 | 0.5968840 | 0 | 0 | 4 | 2704 | 2704 | 2704 | 4 |\n",
       "| 72 | Inflammatory Bowel Disease | monocyte_RNASET2 | PP.H3.abf | 1 | 0.8485287 | 0 | 1 | 1 | 4391 | 4391 | 4391 | 1 |\n",
       "| 109 | Rheumatoid Arthritis       | CD4T_RNASET2     | PP.H3.abf | 4 | 0.9369664 | 3 | 4 | 4 | 2031 | 2031 | 2031 | 4 |\n",
       "\n"
      ],
      "text/plain": [
       "    trait                      egene            parameter n mean_value\n",
       "33  Crohn's Disease            CD4T_RNASET2     PP.H3.abf 2 0.5193770 \n",
       "34  Crohn's Disease            CD4T_RNASET2     PP.H4.abf 2 0.5193536 \n",
       "48  Crohn's Disease            monocyte_RNASET2 PP.H3.abf 1 0.8485668 \n",
       "58  Inflammatory Bowel Disease CD4T_RNASET2     PP.H3.abf 4 0.5968840 \n",
       "72  Inflammatory Bowel Disease monocyte_RNASET2 PP.H3.abf 1 0.8485287 \n",
       "109 Rheumatoid Arthritis       CD4T_RNASET2     PP.H3.abf 4 0.9369664 \n",
       "    amount_greater_0.9 amount_greater_0.75 amount_greater_0.5 max_overlap_snps\n",
       "33  0                  0                   1                  2707            \n",
       "34  0                  0                   2                  2707            \n",
       "48  0                  1                   1                  4390            \n",
       "58  0                  0                   4                  2704            \n",
       "72  0                  1                   1                  4391            \n",
       "109 3                  4                   4                  2031            \n",
       "    min_overlap_snps mean_overlap_snps total_n\n",
       "33  2707             2707              4      \n",
       "34  2707             2707              4      \n",
       "48  4390             4390              1      \n",
       "58  2704             2704              4      \n",
       "72  4391             4391              1      \n",
       "109 2031             2031              4      "
      ]
     },
     "metadata": {},
     "output_type": "display_data"
    }
   ],
   "source": [
    "overview_h_amounts[(overview_h_amounts$egene %in%  c('CD4T_RNASET2', 'monocyte_RNASET2')) & (overview_h_amounts$parameter %in% c('PP.H4.abf', 'PP.H3.abf')),]"
   ]
  },
  {
   "cell_type": "code",
   "execution_count": 135,
   "id": "fab6e933-d042-4133-af29-44c80e4ce21b",
   "metadata": {},
   "outputs": [],
   "source": [
    "#overview_h_amounts[order(overview_h_amounts$trait),]"
   ]
  },
  {
   "cell_type": "markdown",
   "id": "bc7c75df-5623-4f72-825b-c13e25887317",
   "metadata": {},
   "source": [
    "### Get certain co-eqtl examples (RA - RPS26 H4 coegenes)"
   ]
  },
  {
   "cell_type": "code",
   "execution_count": 136,
   "id": "730e0957-f42d-4007-aa35-08d3b568cda4",
   "metadata": {},
   "outputs": [],
   "source": [
    "## 41 co-eGenes for Rheumatoid Arthritis with strong colocalization signal"
   ]
  },
  {
   "cell_type": "code",
   "execution_count": 137,
   "id": "0c725133-2476-4726-8b6a-1628bbe02929",
   "metadata": {},
   "outputs": [],
   "source": [
    "coeqtl_summary_filtered$gene = str_replace(coeqtl_summary_filtered$gene, '_', '')"
   ]
  },
  {
   "cell_type": "code",
   "execution_count": 138,
   "id": "da16bf8c-95d2-4e10-8c62-21dc3580c04d",
   "metadata": {},
   "outputs": [
    {
     "data": {
      "text/html": [
       "152"
      ],
      "text/latex": [
       "152"
      ],
      "text/markdown": [
       "152"
      ],
      "text/plain": [
       "[1] 152"
      ]
     },
     "metadata": {},
     "output_type": "display_data"
    }
   ],
   "source": [
    "nrow(coeqtl_summary_filtered[(coeqtl_summary_filtered$trait == 'Rheumatoid Arthritis' ) & (coeqtl_summary_filtered$value > 0.9 )& (coeqtl_summary_filtered$parameter == 'PP.H4.abf' ),])"
   ]
  },
  {
   "cell_type": "code",
   "execution_count": 139,
   "id": "7cd4a65c-a3a2-4d98-8d09-c0a89072db99",
   "metadata": {},
   "outputs": [],
   "source": [
    "coloc_examples_rheomatoid_arthritis = coeqtl_summary_filtered[(coeqtl_summary_filtered$trait == 'Rheumatoid Arthritis' ) & (coeqtl_summary_filtered$value > 0.9 )& (coeqtl_summary_filtered$parameter == 'PP.H4.abf' ) & (coeqtl_summary_filtered$egene == 'CD4T_RPS26' ),]"
   ]
  },
  {
   "cell_type": "code",
   "execution_count": 140,
   "id": "a0327199-e95c-4ddd-9cbb-32935629a723",
   "metadata": {},
   "outputs": [
    {
     "data": {
      "text/html": [
       "<table class=\"dataframe\">\n",
       "<caption>A data.frame: 6 × 8</caption>\n",
       "<thead>\n",
       "\t<tr><th></th><th scope=col>trait</th><th scope=col>identifier</th><th scope=col>egene</th><th scope=col>value</th><th scope=col>cell_type</th><th scope=col>gene</th><th scope=col>overlapping_snps</th><th scope=col>parameter</th></tr>\n",
       "\t<tr><th></th><th scope=col>&lt;chr&gt;</th><th scope=col>&lt;chr&gt;</th><th scope=col>&lt;chr&gt;</th><th scope=col>&lt;dbl&gt;</th><th scope=col>&lt;chr&gt;</th><th scope=col>&lt;chr&gt;</th><th scope=col>&lt;dbl&gt;</th><th scope=col>&lt;chr&gt;</th></tr>\n",
       "</thead>\n",
       "<tbody>\n",
       "\t<tr><th scope=row>4428</th><td>Rheumatoid Arthritis</td><td>CD4T_RPS26___FOXP3__RPS26      </td><td>CD4T_RPS26</td><td>0.9669022</td><td>CD4T</td><td>FOXP3_RPS26      </td><td>870</td><td>PP.H4.abf</td></tr>\n",
       "\t<tr><th scope=row>4451</th><td>Rheumatoid Arthritis</td><td>CD4T_RPS26___HLA-DRA__RPS26    </td><td>CD4T_RPS26</td><td>0.9651487</td><td>CD4T</td><td>HLA-DRA_RPS26    </td><td>882</td><td>PP.H4.abf</td></tr>\n",
       "\t<tr><th scope=row>4382</th><td>Rheumatoid Arthritis</td><td>CD4T_RPS26___COX7C__RPS26      </td><td>CD4T_RPS26</td><td>0.9617738</td><td>CD4T</td><td>COX7C_RPS26      </td><td>882</td><td>PP.H4.abf</td></tr>\n",
       "\t<tr><th scope=row>4312</th><td>Rheumatoid Arthritis</td><td>CD4T_RPS26___ABHD14B__RPS26    </td><td>CD4T_RPS26</td><td>0.9584893</td><td>CD4T</td><td>ABHD14B_RPS26    </td><td>882</td><td>PP.H4.abf</td></tr>\n",
       "\t<tr><th scope=row>4321</th><td>Rheumatoid Arthritis</td><td>CD4T_RPS26___AKAP13__RPS26     </td><td>CD4T_RPS26</td><td>0.9574507</td><td>CD4T</td><td>AKAP13_RPS26     </td><td>882</td><td>PP.H4.abf</td></tr>\n",
       "\t<tr><th scope=row>4486</th><td>Rheumatoid Arthritis</td><td>CD4T_RPS26___MIR4435-1HG__RPS26</td><td>CD4T_RPS26</td><td>0.9515798</td><td>CD4T</td><td>MIR4435-1HG_RPS26</td><td>882</td><td>PP.H4.abf</td></tr>\n",
       "</tbody>\n",
       "</table>\n"
      ],
      "text/latex": [
       "A data.frame: 6 × 8\n",
       "\\begin{tabular}{r|llllllll}\n",
       "  & trait & identifier & egene & value & cell\\_type & gene & overlapping\\_snps & parameter\\\\\n",
       "  & <chr> & <chr> & <chr> & <dbl> & <chr> & <chr> & <dbl> & <chr>\\\\\n",
       "\\hline\n",
       "\t4428 & Rheumatoid Arthritis & CD4T\\_RPS26\\_\\_\\_FOXP3\\_\\_RPS26       & CD4T\\_RPS26 & 0.9669022 & CD4T & FOXP3\\_RPS26       & 870 & PP.H4.abf\\\\\n",
       "\t4451 & Rheumatoid Arthritis & CD4T\\_RPS26\\_\\_\\_HLA-DRA\\_\\_RPS26     & CD4T\\_RPS26 & 0.9651487 & CD4T & HLA-DRA\\_RPS26     & 882 & PP.H4.abf\\\\\n",
       "\t4382 & Rheumatoid Arthritis & CD4T\\_RPS26\\_\\_\\_COX7C\\_\\_RPS26       & CD4T\\_RPS26 & 0.9617738 & CD4T & COX7C\\_RPS26       & 882 & PP.H4.abf\\\\\n",
       "\t4312 & Rheumatoid Arthritis & CD4T\\_RPS26\\_\\_\\_ABHD14B\\_\\_RPS26     & CD4T\\_RPS26 & 0.9584893 & CD4T & ABHD14B\\_RPS26     & 882 & PP.H4.abf\\\\\n",
       "\t4321 & Rheumatoid Arthritis & CD4T\\_RPS26\\_\\_\\_AKAP13\\_\\_RPS26      & CD4T\\_RPS26 & 0.9574507 & CD4T & AKAP13\\_RPS26      & 882 & PP.H4.abf\\\\\n",
       "\t4486 & Rheumatoid Arthritis & CD4T\\_RPS26\\_\\_\\_MIR4435-1HG\\_\\_RPS26 & CD4T\\_RPS26 & 0.9515798 & CD4T & MIR4435-1HG\\_RPS26 & 882 & PP.H4.abf\\\\\n",
       "\\end{tabular}\n"
      ],
      "text/markdown": [
       "\n",
       "A data.frame: 6 × 8\n",
       "\n",
       "| <!--/--> | trait &lt;chr&gt; | identifier &lt;chr&gt; | egene &lt;chr&gt; | value &lt;dbl&gt; | cell_type &lt;chr&gt; | gene &lt;chr&gt; | overlapping_snps &lt;dbl&gt; | parameter &lt;chr&gt; |\n",
       "|---|---|---|---|---|---|---|---|---|\n",
       "| 4428 | Rheumatoid Arthritis | CD4T_RPS26___FOXP3__RPS26       | CD4T_RPS26 | 0.9669022 | CD4T | FOXP3_RPS26       | 870 | PP.H4.abf |\n",
       "| 4451 | Rheumatoid Arthritis | CD4T_RPS26___HLA-DRA__RPS26     | CD4T_RPS26 | 0.9651487 | CD4T | HLA-DRA_RPS26     | 882 | PP.H4.abf |\n",
       "| 4382 | Rheumatoid Arthritis | CD4T_RPS26___COX7C__RPS26       | CD4T_RPS26 | 0.9617738 | CD4T | COX7C_RPS26       | 882 | PP.H4.abf |\n",
       "| 4312 | Rheumatoid Arthritis | CD4T_RPS26___ABHD14B__RPS26     | CD4T_RPS26 | 0.9584893 | CD4T | ABHD14B_RPS26     | 882 | PP.H4.abf |\n",
       "| 4321 | Rheumatoid Arthritis | CD4T_RPS26___AKAP13__RPS26      | CD4T_RPS26 | 0.9574507 | CD4T | AKAP13_RPS26      | 882 | PP.H4.abf |\n",
       "| 4486 | Rheumatoid Arthritis | CD4T_RPS26___MIR4435-1HG__RPS26 | CD4T_RPS26 | 0.9515798 | CD4T | MIR4435-1HG_RPS26 | 882 | PP.H4.abf |\n",
       "\n"
      ],
      "text/plain": [
       "     trait                identifier                      egene      value    \n",
       "4428 Rheumatoid Arthritis CD4T_RPS26___FOXP3__RPS26       CD4T_RPS26 0.9669022\n",
       "4451 Rheumatoid Arthritis CD4T_RPS26___HLA-DRA__RPS26     CD4T_RPS26 0.9651487\n",
       "4382 Rheumatoid Arthritis CD4T_RPS26___COX7C__RPS26       CD4T_RPS26 0.9617738\n",
       "4312 Rheumatoid Arthritis CD4T_RPS26___ABHD14B__RPS26     CD4T_RPS26 0.9584893\n",
       "4321 Rheumatoid Arthritis CD4T_RPS26___AKAP13__RPS26      CD4T_RPS26 0.9574507\n",
       "4486 Rheumatoid Arthritis CD4T_RPS26___MIR4435-1HG__RPS26 CD4T_RPS26 0.9515798\n",
       "     cell_type gene              overlapping_snps parameter\n",
       "4428 CD4T      FOXP3_RPS26       870              PP.H4.abf\n",
       "4451 CD4T      HLA-DRA_RPS26     882              PP.H4.abf\n",
       "4382 CD4T      COX7C_RPS26       882              PP.H4.abf\n",
       "4312 CD4T      ABHD14B_RPS26     882              PP.H4.abf\n",
       "4321 CD4T      AKAP13_RPS26      882              PP.H4.abf\n",
       "4486 CD4T      MIR4435-1HG_RPS26 882              PP.H4.abf"
      ]
     },
     "metadata": {},
     "output_type": "display_data"
    }
   ],
   "source": [
    "head(coloc_examples_rheomatoid_arthritis[order(coloc_examples_rheomatoid_arthritis$value, decreasing = TRUE),],6)"
   ]
  },
  {
   "cell_type": "code",
   "execution_count": 141,
   "id": "65a31f3a-08d3-49b7-b722-cf610b6c8639",
   "metadata": {},
   "outputs": [
    {
     "data": {
      "text/html": [
       "<table class=\"dataframe\">\n",
       "<caption>A grouped_df: 1 × 2</caption>\n",
       "<thead>\n",
       "\t<tr><th scope=col>egene</th><th scope=col>n</th></tr>\n",
       "\t<tr><th scope=col>&lt;chr&gt;</th><th scope=col>&lt;int&gt;</th></tr>\n",
       "</thead>\n",
       "<tbody>\n",
       "\t<tr><td>CD4T_RPS26</td><td>41</td></tr>\n",
       "</tbody>\n",
       "</table>\n"
      ],
      "text/latex": [
       "A grouped\\_df: 1 × 2\n",
       "\\begin{tabular}{ll}\n",
       " egene & n\\\\\n",
       " <chr> & <int>\\\\\n",
       "\\hline\n",
       "\t CD4T\\_RPS26 & 41\\\\\n",
       "\\end{tabular}\n"
      ],
      "text/markdown": [
       "\n",
       "A grouped_df: 1 × 2\n",
       "\n",
       "| egene &lt;chr&gt; | n &lt;int&gt; |\n",
       "|---|---|\n",
       "| CD4T_RPS26 | 41 |\n",
       "\n"
      ],
      "text/plain": [
       "  egene      n \n",
       "1 CD4T_RPS26 41"
      ]
     },
     "metadata": {},
     "output_type": "display_data"
    }
   ],
   "source": [
    "coloc_examples_rheomatoid_arthritis %>% group_by(egene) %>% count()"
   ]
  },
  {
   "cell_type": "code",
   "execution_count": 142,
   "id": "ec24cb29-579b-4e4f-b17b-4a2035091438",
   "metadata": {},
   "outputs": [
    {
     "data": {
      "text/html": [
       "41"
      ],
      "text/latex": [
       "41"
      ],
      "text/markdown": [
       "41"
      ],
      "text/plain": [
       "[1] 41"
      ]
     },
     "metadata": {},
     "output_type": "display_data"
    }
   ],
   "source": [
    "nrow(coloc_examples_rheomatoid_arthritis)"
   ]
  },
  {
   "cell_type": "code",
   "execution_count": 143,
   "id": "30b932e7-cbb0-423d-b183-ce4e04d4e7bb",
   "metadata": {},
   "outputs": [],
   "source": [
    "### Mapp positions for coegenes"
   ]
  },
  {
   "cell_type": "code",
   "execution_count": 144,
   "id": "5ce1bbeb-d244-44f4-870d-ab98915db9b5",
   "metadata": {},
   "outputs": [],
   "source": [
    "coloc_examples_rheomatoid_arthritis$cogene = str_replace(coloc_examples_rheomatoid_arthritis$gene, 'RPS26', '')"
   ]
  },
  {
   "cell_type": "code",
   "execution_count": 145,
   "id": "c2f1cb78-40a2-47da-8987-920eef2b7774",
   "metadata": {},
   "outputs": [],
   "source": [
    "coloc_examples_rheomatoid_arthritis$cogene = str_replace(coloc_examples_rheomatoid_arthritis$cogene, '__', '')"
   ]
  },
  {
   "cell_type": "code",
   "execution_count": 146,
   "id": "746db8c7-a868-474c-900c-c93c75701808",
   "metadata": {},
   "outputs": [],
   "source": [
    "coloc_examples_rheomatoid_arthritis$cogene = str_replace(coloc_examples_rheomatoid_arthritis$cogene, '_', '')"
   ]
  },
  {
   "cell_type": "code",
   "execution_count": 147,
   "id": "0e0962a6-9bf5-4bfa-a04e-c723e96e39be",
   "metadata": {},
   "outputs": [
    {
     "data": {
      "text/html": [
       "<style>\n",
       ".list-inline {list-style: none; margin:0; padding: 0}\n",
       ".list-inline>li {display: inline-block}\n",
       ".list-inline>li:not(:last-child)::after {content: \"\\00b7\"; padding: 0 .5ex}\n",
       "</style>\n",
       "<ol class=list-inline><li>'ABHD14B'</li><li>'ADAM19'</li><li>'AIF1'</li><li>'AKAP13'</li><li>'ATP2B1'</li><li>'ATP2B4'</li><li>'C12orf75'</li><li>'CD58'</li><li>'CHCHD2'</li><li>'COX7C'</li><li>'CST7'</li><li>'CYBA'</li><li>'EML4'</li><li>'ENTPD1'</li><li>'FOXP3'</li><li>'FTH1'</li><li>'GALM'</li><li>'GK'</li><li>'H3F3A'</li><li>'HLA-DPB1'</li><li>'HLA-DRA'</li><li>'IGBP1'</li><li>'ISG20'</li><li>'LINC00493'</li><li>'LSM5'</li><li>'MIAT'</li><li>'MIR4435-1HG'</li><li>'MT2A'</li><li>'PRMT2'</li><li>'RGS1'</li><li>'RNF19A'</li><li>'SBDS'</li><li>'SERF2'</li><li>'TCF7'</li><li>'TIGIT'</li><li>'TMA7'</li><li>'TMSB10'</li><li>'TNFRSF1B'</li><li>'UBB'</li><li>'YBX1'</li><li>'YWHAB'</li></ol>\n"
      ],
      "text/latex": [
       "\\begin{enumerate*}\n",
       "\\item 'ABHD14B'\n",
       "\\item 'ADAM19'\n",
       "\\item 'AIF1'\n",
       "\\item 'AKAP13'\n",
       "\\item 'ATP2B1'\n",
       "\\item 'ATP2B4'\n",
       "\\item 'C12orf75'\n",
       "\\item 'CD58'\n",
       "\\item 'CHCHD2'\n",
       "\\item 'COX7C'\n",
       "\\item 'CST7'\n",
       "\\item 'CYBA'\n",
       "\\item 'EML4'\n",
       "\\item 'ENTPD1'\n",
       "\\item 'FOXP3'\n",
       "\\item 'FTH1'\n",
       "\\item 'GALM'\n",
       "\\item 'GK'\n",
       "\\item 'H3F3A'\n",
       "\\item 'HLA-DPB1'\n",
       "\\item 'HLA-DRA'\n",
       "\\item 'IGBP1'\n",
       "\\item 'ISG20'\n",
       "\\item 'LINC00493'\n",
       "\\item 'LSM5'\n",
       "\\item 'MIAT'\n",
       "\\item 'MIR4435-1HG'\n",
       "\\item 'MT2A'\n",
       "\\item 'PRMT2'\n",
       "\\item 'RGS1'\n",
       "\\item 'RNF19A'\n",
       "\\item 'SBDS'\n",
       "\\item 'SERF2'\n",
       "\\item 'TCF7'\n",
       "\\item 'TIGIT'\n",
       "\\item 'TMA7'\n",
       "\\item 'TMSB10'\n",
       "\\item 'TNFRSF1B'\n",
       "\\item 'UBB'\n",
       "\\item 'YBX1'\n",
       "\\item 'YWHAB'\n",
       "\\end{enumerate*}\n"
      ],
      "text/markdown": [
       "1. 'ABHD14B'\n",
       "2. 'ADAM19'\n",
       "3. 'AIF1'\n",
       "4. 'AKAP13'\n",
       "5. 'ATP2B1'\n",
       "6. 'ATP2B4'\n",
       "7. 'C12orf75'\n",
       "8. 'CD58'\n",
       "9. 'CHCHD2'\n",
       "10. 'COX7C'\n",
       "11. 'CST7'\n",
       "12. 'CYBA'\n",
       "13. 'EML4'\n",
       "14. 'ENTPD1'\n",
       "15. 'FOXP3'\n",
       "16. 'FTH1'\n",
       "17. 'GALM'\n",
       "18. 'GK'\n",
       "19. 'H3F3A'\n",
       "20. 'HLA-DPB1'\n",
       "21. 'HLA-DRA'\n",
       "22. 'IGBP1'\n",
       "23. 'ISG20'\n",
       "24. 'LINC00493'\n",
       "25. 'LSM5'\n",
       "26. 'MIAT'\n",
       "27. 'MIR4435-1HG'\n",
       "28. 'MT2A'\n",
       "29. 'PRMT2'\n",
       "30. 'RGS1'\n",
       "31. 'RNF19A'\n",
       "32. 'SBDS'\n",
       "33. 'SERF2'\n",
       "34. 'TCF7'\n",
       "35. 'TIGIT'\n",
       "36. 'TMA7'\n",
       "37. 'TMSB10'\n",
       "38. 'TNFRSF1B'\n",
       "39. 'UBB'\n",
       "40. 'YBX1'\n",
       "41. 'YWHAB'\n",
       "\n",
       "\n"
      ],
      "text/plain": [
       " [1] \"ABHD14B\"     \"ADAM19\"      \"AIF1\"        \"AKAP13\"      \"ATP2B1\"     \n",
       " [6] \"ATP2B4\"      \"C12orf75\"    \"CD58\"        \"CHCHD2\"      \"COX7C\"      \n",
       "[11] \"CST7\"        \"CYBA\"        \"EML4\"        \"ENTPD1\"      \"FOXP3\"      \n",
       "[16] \"FTH1\"        \"GALM\"        \"GK\"          \"H3F3A\"       \"HLA-DPB1\"   \n",
       "[21] \"HLA-DRA\"     \"IGBP1\"       \"ISG20\"       \"LINC00493\"   \"LSM5\"       \n",
       "[26] \"MIAT\"        \"MIR4435-1HG\" \"MT2A\"        \"PRMT2\"       \"RGS1\"       \n",
       "[31] \"RNF19A\"      \"SBDS\"        \"SERF2\"       \"TCF7\"        \"TIGIT\"      \n",
       "[36] \"TMA7\"        \"TMSB10\"      \"TNFRSF1B\"    \"UBB\"         \"YBX1\"       \n",
       "[41] \"YWHAB\"      "
      ]
     },
     "metadata": {},
     "output_type": "display_data"
    }
   ],
   "source": [
    "unique(coloc_examples_rheomatoid_arthritis$cogene)"
   ]
  },
  {
   "cell_type": "code",
   "execution_count": 148,
   "id": "2d8a881d-640d-4d98-8b42-2aa34b9c4d2d",
   "metadata": {},
   "outputs": [],
   "source": [
    "### Retrieve gene positions an map to the data"
   ]
  },
  {
   "cell_type": "code",
   "execution_count": 149,
   "id": "3fbadfc4-a9cf-40b7-956a-ebc825d536f4",
   "metadata": {},
   "outputs": [],
   "source": [
    "mart = useEnsembl(biomart = \"genes\", dataset = \"hsapiens_gene_ensembl\")"
   ]
  },
  {
   "cell_type": "code",
   "execution_count": 150,
   "id": "3b843643-ee9d-43e1-97f6-6c8aab485c7f",
   "metadata": {},
   "outputs": [],
   "source": [
    "geneSet =  unique(coloc_examples_rheomatoid_arthritis$cogene)"
   ]
  },
  {
   "cell_type": "code",
   "execution_count": 151,
   "id": "0f5db24f-2b50-4f0a-a46a-0d3ef60fc4c5",
   "metadata": {},
   "outputs": [],
   "source": [
    "resultTable = biomaRt::getBM(attributes = c(\"start_position\",\"end_position\",\"description\", 'hgnc_symbol', 'chromosome_name'),       \n",
    "                  filters    = \"hgnc_symbol\",       \n",
    "                  values     = geneSet,         \n",
    "                  mart       = mart)     "
   ]
  },
  {
   "cell_type": "code",
   "execution_count": 152,
   "id": "87c93488-8c93-4e9f-ba07-0ef60310fe2e",
   "metadata": {},
   "outputs": [
    {
     "data": {
      "text/html": [
       "57"
      ],
      "text/latex": [
       "57"
      ],
      "text/markdown": [
       "57"
      ],
      "text/plain": [
       "[1] 57"
      ]
     },
     "metadata": {},
     "output_type": "display_data"
    }
   ],
   "source": [
    "nrow(resultTable)"
   ]
  },
  {
   "cell_type": "code",
   "execution_count": 153,
   "id": "a3029f51-434b-4993-bc58-fa412e6ae2fa",
   "metadata": {},
   "outputs": [
    {
     "data": {
      "text/html": [
       "38"
      ],
      "text/latex": [
       "38"
      ],
      "text/markdown": [
       "38"
      ],
      "text/plain": [
       "[1] 38"
      ]
     },
     "metadata": {},
     "output_type": "display_data"
    }
   ],
   "source": [
    "length(unique(resultTable$hgnc_symbol))"
   ]
  },
  {
   "cell_type": "code",
   "execution_count": 154,
   "id": "1e7dae2b-02e8-4209-8c0c-b38baec966c5",
   "metadata": {},
   "outputs": [],
   "source": [
    "### Filter out duplicate mappings"
   ]
  },
  {
   "cell_type": "code",
   "execution_count": 155,
   "id": "18effb38-a5c8-4001-a1eb-6c9d0805b6bb",
   "metadata": {},
   "outputs": [],
   "source": [
    "filter = resultTable %>% group_by(hgnc_symbol) %>% count() %>% filter(n >= 2)"
   ]
  },
  {
   "cell_type": "code",
   "execution_count": 156,
   "id": "f49e9ca8-6519-4952-9263-4369e56540d8",
   "metadata": {},
   "outputs": [],
   "source": [
    "filter = filter$hgnc_symbol"
   ]
  },
  {
   "cell_type": "code",
   "execution_count": 157,
   "id": "90076d21-ce15-4c7e-baa6-7a1b8165331f",
   "metadata": {},
   "outputs": [],
   "source": [
    "resultTable = resultTable[!resultTable$hgnc_symbol %in% filter,]"
   ]
  },
  {
   "cell_type": "code",
   "execution_count": 158,
   "id": "db8d7392-bf41-4d9c-b44f-d102e0f571b8",
   "metadata": {},
   "outputs": [
    {
     "data": {
      "text/html": [
       "<style>\n",
       ".list-inline {list-style: none; margin:0; padding: 0}\n",
       ".list-inline>li {display: inline-block}\n",
       ".list-inline>li:not(:last-child)::after {content: \"\\00b7\"; padding: 0 .5ex}\n",
       "</style>\n",
       "<ol class=list-inline><li>'3'</li><li>'5'</li><li>'15'</li><li>'12'</li><li>'1'</li><li>'7'</li><li>'20'</li><li>'16'</li><li>'2'</li><li>'10'</li><li>'X'</li><li>'11'</li><li>'22'</li><li>'21'</li><li>'8'</li><li>'17'</li></ol>\n"
      ],
      "text/latex": [
       "\\begin{enumerate*}\n",
       "\\item '3'\n",
       "\\item '5'\n",
       "\\item '15'\n",
       "\\item '12'\n",
       "\\item '1'\n",
       "\\item '7'\n",
       "\\item '20'\n",
       "\\item '16'\n",
       "\\item '2'\n",
       "\\item '10'\n",
       "\\item 'X'\n",
       "\\item '11'\n",
       "\\item '22'\n",
       "\\item '21'\n",
       "\\item '8'\n",
       "\\item '17'\n",
       "\\end{enumerate*}\n"
      ],
      "text/markdown": [
       "1. '3'\n",
       "2. '5'\n",
       "3. '15'\n",
       "4. '12'\n",
       "5. '1'\n",
       "6. '7'\n",
       "7. '20'\n",
       "8. '16'\n",
       "9. '2'\n",
       "10. '10'\n",
       "11. 'X'\n",
       "12. '11'\n",
       "13. '22'\n",
       "14. '21'\n",
       "15. '8'\n",
       "16. '17'\n",
       "\n",
       "\n"
      ],
      "text/plain": [
       " [1] \"3\"  \"5\"  \"15\" \"12\" \"1\"  \"7\"  \"20\" \"16\" \"2\"  \"10\" \"X\"  \"11\" \"22\" \"21\" \"8\" \n",
       "[16] \"17\""
      ]
     },
     "metadata": {},
     "output_type": "display_data"
    }
   ],
   "source": [
    "unique(resultTable$chromosome_name)"
   ]
  },
  {
   "cell_type": "code",
   "execution_count": 159,
   "id": "5cd66cd4-be5b-4aee-b318-94482723a064",
   "metadata": {},
   "outputs": [
    {
     "data": {
      "text/html": [
       "<table class=\"dataframe\">\n",
       "<caption>A data.frame: 2 × 5</caption>\n",
       "<thead>\n",
       "\t<tr><th></th><th scope=col>start_position</th><th scope=col>end_position</th><th scope=col>description</th><th scope=col>hgnc_symbol</th><th scope=col>chromosome_name</th></tr>\n",
       "\t<tr><th></th><th scope=col>&lt;int&gt;</th><th scope=col>&lt;int&gt;</th><th scope=col>&lt;chr&gt;</th><th scope=col>&lt;chr&gt;</th><th scope=col>&lt;chr&gt;</th></tr>\n",
       "</thead>\n",
       "<tbody>\n",
       "\t<tr><th scope=row>1</th><td> 51968510</td><td> 51983409</td><td>abhydrolase domain containing 14B [Source:HGNC Symbol;Acc:HGNC:28235]</td><td>ABHD14B</td><td>3</td></tr>\n",
       "\t<tr><th scope=row>2</th><td>157395534</td><td>157575775</td><td>ADAM metallopeptidase domain 19 [Source:HGNC Symbol;Acc:HGNC:197]    </td><td>ADAM19 </td><td>5</td></tr>\n",
       "</tbody>\n",
       "</table>\n"
      ],
      "text/latex": [
       "A data.frame: 2 × 5\n",
       "\\begin{tabular}{r|lllll}\n",
       "  & start\\_position & end\\_position & description & hgnc\\_symbol & chromosome\\_name\\\\\n",
       "  & <int> & <int> & <chr> & <chr> & <chr>\\\\\n",
       "\\hline\n",
       "\t1 &  51968510 &  51983409 & abhydrolase domain containing 14B {[}Source:HGNC Symbol;Acc:HGNC:28235{]} & ABHD14B & 3\\\\\n",
       "\t2 & 157395534 & 157575775 & ADAM metallopeptidase domain 19 {[}Source:HGNC Symbol;Acc:HGNC:197{]}     & ADAM19  & 5\\\\\n",
       "\\end{tabular}\n"
      ],
      "text/markdown": [
       "\n",
       "A data.frame: 2 × 5\n",
       "\n",
       "| <!--/--> | start_position &lt;int&gt; | end_position &lt;int&gt; | description &lt;chr&gt; | hgnc_symbol &lt;chr&gt; | chromosome_name &lt;chr&gt; |\n",
       "|---|---|---|---|---|---|\n",
       "| 1 |  51968510 |  51983409 | abhydrolase domain containing 14B [Source:HGNC Symbol;Acc:HGNC:28235] | ABHD14B | 3 |\n",
       "| 2 | 157395534 | 157575775 | ADAM metallopeptidase domain 19 [Source:HGNC Symbol;Acc:HGNC:197]     | ADAM19  | 5 |\n",
       "\n"
      ],
      "text/plain": [
       "  start_position end_position\n",
       "1  51968510       51983409   \n",
       "2 157395534      157575775   \n",
       "  description                                                          \n",
       "1 abhydrolase domain containing 14B [Source:HGNC Symbol;Acc:HGNC:28235]\n",
       "2 ADAM metallopeptidase domain 19 [Source:HGNC Symbol;Acc:HGNC:197]    \n",
       "  hgnc_symbol chromosome_name\n",
       "1 ABHD14B     3              \n",
       "2 ADAM19      5              "
      ]
     },
     "metadata": {},
     "output_type": "display_data"
    }
   ],
   "source": [
    "head(resultTable,2)"
   ]
  },
  {
   "cell_type": "code",
   "execution_count": 160,
   "id": "c507579c-c4a1-4b4a-9e3c-edeabfca3da3",
   "metadata": {},
   "outputs": [
    {
     "data": {
      "text/html": [
       "<table class=\"dataframe\">\n",
       "<caption>A data.frame: 2 × 9</caption>\n",
       "<thead>\n",
       "\t<tr><th></th><th scope=col>trait</th><th scope=col>identifier</th><th scope=col>egene</th><th scope=col>value</th><th scope=col>cell_type</th><th scope=col>gene</th><th scope=col>overlapping_snps</th><th scope=col>parameter</th><th scope=col>cogene</th></tr>\n",
       "\t<tr><th></th><th scope=col>&lt;chr&gt;</th><th scope=col>&lt;chr&gt;</th><th scope=col>&lt;chr&gt;</th><th scope=col>&lt;dbl&gt;</th><th scope=col>&lt;chr&gt;</th><th scope=col>&lt;chr&gt;</th><th scope=col>&lt;dbl&gt;</th><th scope=col>&lt;chr&gt;</th><th scope=col>&lt;chr&gt;</th></tr>\n",
       "</thead>\n",
       "<tbody>\n",
       "\t<tr><th scope=row>4312</th><td>Rheumatoid Arthritis</td><td>CD4T_RPS26___ABHD14B__RPS26</td><td>CD4T_RPS26</td><td>0.9584893</td><td>CD4T</td><td>ABHD14B_RPS26</td><td>882</td><td>PP.H4.abf</td><td>ABHD14B</td></tr>\n",
       "\t<tr><th scope=row>4316</th><td>Rheumatoid Arthritis</td><td>CD4T_RPS26___ADAM19__RPS26 </td><td>CD4T_RPS26</td><td>0.9157420</td><td>CD4T</td><td>ADAM19_RPS26 </td><td>882</td><td>PP.H4.abf</td><td>ADAM19 </td></tr>\n",
       "</tbody>\n",
       "</table>\n"
      ],
      "text/latex": [
       "A data.frame: 2 × 9\n",
       "\\begin{tabular}{r|lllllllll}\n",
       "  & trait & identifier & egene & value & cell\\_type & gene & overlapping\\_snps & parameter & cogene\\\\\n",
       "  & <chr> & <chr> & <chr> & <dbl> & <chr> & <chr> & <dbl> & <chr> & <chr>\\\\\n",
       "\\hline\n",
       "\t4312 & Rheumatoid Arthritis & CD4T\\_RPS26\\_\\_\\_ABHD14B\\_\\_RPS26 & CD4T\\_RPS26 & 0.9584893 & CD4T & ABHD14B\\_RPS26 & 882 & PP.H4.abf & ABHD14B\\\\\n",
       "\t4316 & Rheumatoid Arthritis & CD4T\\_RPS26\\_\\_\\_ADAM19\\_\\_RPS26  & CD4T\\_RPS26 & 0.9157420 & CD4T & ADAM19\\_RPS26  & 882 & PP.H4.abf & ADAM19 \\\\\n",
       "\\end{tabular}\n"
      ],
      "text/markdown": [
       "\n",
       "A data.frame: 2 × 9\n",
       "\n",
       "| <!--/--> | trait &lt;chr&gt; | identifier &lt;chr&gt; | egene &lt;chr&gt; | value &lt;dbl&gt; | cell_type &lt;chr&gt; | gene &lt;chr&gt; | overlapping_snps &lt;dbl&gt; | parameter &lt;chr&gt; | cogene &lt;chr&gt; |\n",
       "|---|---|---|---|---|---|---|---|---|---|\n",
       "| 4312 | Rheumatoid Arthritis | CD4T_RPS26___ABHD14B__RPS26 | CD4T_RPS26 | 0.9584893 | CD4T | ABHD14B_RPS26 | 882 | PP.H4.abf | ABHD14B |\n",
       "| 4316 | Rheumatoid Arthritis | CD4T_RPS26___ADAM19__RPS26  | CD4T_RPS26 | 0.9157420 | CD4T | ADAM19_RPS26  | 882 | PP.H4.abf | ADAM19  |\n",
       "\n"
      ],
      "text/plain": [
       "     trait                identifier                  egene      value    \n",
       "4312 Rheumatoid Arthritis CD4T_RPS26___ABHD14B__RPS26 CD4T_RPS26 0.9584893\n",
       "4316 Rheumatoid Arthritis CD4T_RPS26___ADAM19__RPS26  CD4T_RPS26 0.9157420\n",
       "     cell_type gene          overlapping_snps parameter cogene \n",
       "4312 CD4T      ABHD14B_RPS26 882              PP.H4.abf ABHD14B\n",
       "4316 CD4T      ADAM19_RPS26  882              PP.H4.abf ADAM19 "
      ]
     },
     "metadata": {},
     "output_type": "display_data"
    }
   ],
   "source": [
    "head(coloc_examples_rheomatoid_arthritis,2)"
   ]
  },
  {
   "cell_type": "code",
   "execution_count": 161,
   "id": "5fbdf162-b458-4ec4-91a0-630ddebe2724",
   "metadata": {},
   "outputs": [],
   "source": [
    "coloc_examples_rheomatoid_arthritis = merge(coloc_examples_rheomatoid_arthritis, resultTable, by.x = 'cogene', by.y = 'hgnc_symbol', all.x = TRUE)"
   ]
  },
  {
   "cell_type": "code",
   "execution_count": 162,
   "id": "56c5705e-36df-4c78-8f2b-cb3b74de65f7",
   "metadata": {},
   "outputs": [
    {
     "data": {
      "text/html": [
       "<table class=\"dataframe\">\n",
       "<caption>A data.frame: 6 × 13</caption>\n",
       "<thead>\n",
       "\t<tr><th></th><th scope=col>cogene</th><th scope=col>trait</th><th scope=col>identifier</th><th scope=col>egene</th><th scope=col>value</th><th scope=col>cell_type</th><th scope=col>gene</th><th scope=col>overlapping_snps</th><th scope=col>parameter</th><th scope=col>start_position</th><th scope=col>end_position</th><th scope=col>description</th><th scope=col>chromosome_name</th></tr>\n",
       "\t<tr><th></th><th scope=col>&lt;chr&gt;</th><th scope=col>&lt;chr&gt;</th><th scope=col>&lt;chr&gt;</th><th scope=col>&lt;chr&gt;</th><th scope=col>&lt;dbl&gt;</th><th scope=col>&lt;chr&gt;</th><th scope=col>&lt;chr&gt;</th><th scope=col>&lt;dbl&gt;</th><th scope=col>&lt;chr&gt;</th><th scope=col>&lt;int&gt;</th><th scope=col>&lt;int&gt;</th><th scope=col>&lt;chr&gt;</th><th scope=col>&lt;chr&gt;</th></tr>\n",
       "</thead>\n",
       "<tbody>\n",
       "\t<tr><th scope=row>3</th><td>AIF1       </td><td>Rheumatoid Arthritis</td><td>CD4T_RPS26___AIF1__RPS26       </td><td>CD4T_RPS26</td><td>0.9269214</td><td>CD4T</td><td>AIF1_RPS26       </td><td>882</td><td>PP.H4.abf</td><td>NA</td><td>NA</td><td>NA</td><td>NA</td></tr>\n",
       "\t<tr><th scope=row>19</th><td>H3F3A      </td><td>Rheumatoid Arthritis</td><td>CD4T_RPS26___H3F3A__RPS26      </td><td>CD4T_RPS26</td><td>0.9313711</td><td>CD4T</td><td>H3F3A_RPS26      </td><td>882</td><td>PP.H4.abf</td><td>NA</td><td>NA</td><td>NA</td><td>NA</td></tr>\n",
       "\t<tr><th scope=row>20</th><td>HLA-DPB1   </td><td>Rheumatoid Arthritis</td><td>CD4T_RPS26___HLA-DPB1__RPS26   </td><td>CD4T_RPS26</td><td>0.9147419</td><td>CD4T</td><td>HLA-DPB1_RPS26   </td><td>882</td><td>PP.H4.abf</td><td>NA</td><td>NA</td><td>NA</td><td>NA</td></tr>\n",
       "\t<tr><th scope=row>21</th><td>HLA-DRA    </td><td>Rheumatoid Arthritis</td><td>CD4T_RPS26___HLA-DRA__RPS26    </td><td>CD4T_RPS26</td><td>0.9651487</td><td>CD4T</td><td>HLA-DRA_RPS26    </td><td>882</td><td>PP.H4.abf</td><td>NA</td><td>NA</td><td>NA</td><td>NA</td></tr>\n",
       "\t<tr><th scope=row>24</th><td>LINC00493  </td><td>Rheumatoid Arthritis</td><td>CD4T_RPS26___LINC00493__RPS26  </td><td>CD4T_RPS26</td><td>0.9276682</td><td>CD4T</td><td>LINC00493_RPS26  </td><td>882</td><td>PP.H4.abf</td><td>NA</td><td>NA</td><td>NA</td><td>NA</td></tr>\n",
       "\t<tr><th scope=row>27</th><td>MIR4435-1HG</td><td>Rheumatoid Arthritis</td><td>CD4T_RPS26___MIR4435-1HG__RPS26</td><td>CD4T_RPS26</td><td>0.9515798</td><td>CD4T</td><td>MIR4435-1HG_RPS26</td><td>882</td><td>PP.H4.abf</td><td>NA</td><td>NA</td><td>NA</td><td>NA</td></tr>\n",
       "</tbody>\n",
       "</table>\n"
      ],
      "text/latex": [
       "A data.frame: 6 × 13\n",
       "\\begin{tabular}{r|lllllllllllll}\n",
       "  & cogene & trait & identifier & egene & value & cell\\_type & gene & overlapping\\_snps & parameter & start\\_position & end\\_position & description & chromosome\\_name\\\\\n",
       "  & <chr> & <chr> & <chr> & <chr> & <dbl> & <chr> & <chr> & <dbl> & <chr> & <int> & <int> & <chr> & <chr>\\\\\n",
       "\\hline\n",
       "\t3 & AIF1        & Rheumatoid Arthritis & CD4T\\_RPS26\\_\\_\\_AIF1\\_\\_RPS26        & CD4T\\_RPS26 & 0.9269214 & CD4T & AIF1\\_RPS26        & 882 & PP.H4.abf & NA & NA & NA & NA\\\\\n",
       "\t19 & H3F3A       & Rheumatoid Arthritis & CD4T\\_RPS26\\_\\_\\_H3F3A\\_\\_RPS26       & CD4T\\_RPS26 & 0.9313711 & CD4T & H3F3A\\_RPS26       & 882 & PP.H4.abf & NA & NA & NA & NA\\\\\n",
       "\t20 & HLA-DPB1    & Rheumatoid Arthritis & CD4T\\_RPS26\\_\\_\\_HLA-DPB1\\_\\_RPS26    & CD4T\\_RPS26 & 0.9147419 & CD4T & HLA-DPB1\\_RPS26    & 882 & PP.H4.abf & NA & NA & NA & NA\\\\\n",
       "\t21 & HLA-DRA     & Rheumatoid Arthritis & CD4T\\_RPS26\\_\\_\\_HLA-DRA\\_\\_RPS26     & CD4T\\_RPS26 & 0.9651487 & CD4T & HLA-DRA\\_RPS26     & 882 & PP.H4.abf & NA & NA & NA & NA\\\\\n",
       "\t24 & LINC00493   & Rheumatoid Arthritis & CD4T\\_RPS26\\_\\_\\_LINC00493\\_\\_RPS26   & CD4T\\_RPS26 & 0.9276682 & CD4T & LINC00493\\_RPS26   & 882 & PP.H4.abf & NA & NA & NA & NA\\\\\n",
       "\t27 & MIR4435-1HG & Rheumatoid Arthritis & CD4T\\_RPS26\\_\\_\\_MIR4435-1HG\\_\\_RPS26 & CD4T\\_RPS26 & 0.9515798 & CD4T & MIR4435-1HG\\_RPS26 & 882 & PP.H4.abf & NA & NA & NA & NA\\\\\n",
       "\\end{tabular}\n"
      ],
      "text/markdown": [
       "\n",
       "A data.frame: 6 × 13\n",
       "\n",
       "| <!--/--> | cogene &lt;chr&gt; | trait &lt;chr&gt; | identifier &lt;chr&gt; | egene &lt;chr&gt; | value &lt;dbl&gt; | cell_type &lt;chr&gt; | gene &lt;chr&gt; | overlapping_snps &lt;dbl&gt; | parameter &lt;chr&gt; | start_position &lt;int&gt; | end_position &lt;int&gt; | description &lt;chr&gt; | chromosome_name &lt;chr&gt; |\n",
       "|---|---|---|---|---|---|---|---|---|---|---|---|---|---|\n",
       "| 3 | AIF1        | Rheumatoid Arthritis | CD4T_RPS26___AIF1__RPS26        | CD4T_RPS26 | 0.9269214 | CD4T | AIF1_RPS26        | 882 | PP.H4.abf | NA | NA | NA | NA |\n",
       "| 19 | H3F3A       | Rheumatoid Arthritis | CD4T_RPS26___H3F3A__RPS26       | CD4T_RPS26 | 0.9313711 | CD4T | H3F3A_RPS26       | 882 | PP.H4.abf | NA | NA | NA | NA |\n",
       "| 20 | HLA-DPB1    | Rheumatoid Arthritis | CD4T_RPS26___HLA-DPB1__RPS26    | CD4T_RPS26 | 0.9147419 | CD4T | HLA-DPB1_RPS26    | 882 | PP.H4.abf | NA | NA | NA | NA |\n",
       "| 21 | HLA-DRA     | Rheumatoid Arthritis | CD4T_RPS26___HLA-DRA__RPS26     | CD4T_RPS26 | 0.9651487 | CD4T | HLA-DRA_RPS26     | 882 | PP.H4.abf | NA | NA | NA | NA |\n",
       "| 24 | LINC00493   | Rheumatoid Arthritis | CD4T_RPS26___LINC00493__RPS26   | CD4T_RPS26 | 0.9276682 | CD4T | LINC00493_RPS26   | 882 | PP.H4.abf | NA | NA | NA | NA |\n",
       "| 27 | MIR4435-1HG | Rheumatoid Arthritis | CD4T_RPS26___MIR4435-1HG__RPS26 | CD4T_RPS26 | 0.9515798 | CD4T | MIR4435-1HG_RPS26 | 882 | PP.H4.abf | NA | NA | NA | NA |\n",
       "\n"
      ],
      "text/plain": [
       "   cogene      trait                identifier                      egene     \n",
       "3  AIF1        Rheumatoid Arthritis CD4T_RPS26___AIF1__RPS26        CD4T_RPS26\n",
       "19 H3F3A       Rheumatoid Arthritis CD4T_RPS26___H3F3A__RPS26       CD4T_RPS26\n",
       "20 HLA-DPB1    Rheumatoid Arthritis CD4T_RPS26___HLA-DPB1__RPS26    CD4T_RPS26\n",
       "21 HLA-DRA     Rheumatoid Arthritis CD4T_RPS26___HLA-DRA__RPS26     CD4T_RPS26\n",
       "24 LINC00493   Rheumatoid Arthritis CD4T_RPS26___LINC00493__RPS26   CD4T_RPS26\n",
       "27 MIR4435-1HG Rheumatoid Arthritis CD4T_RPS26___MIR4435-1HG__RPS26 CD4T_RPS26\n",
       "   value     cell_type gene              overlapping_snps parameter\n",
       "3  0.9269214 CD4T      AIF1_RPS26        882              PP.H4.abf\n",
       "19 0.9313711 CD4T      H3F3A_RPS26       882              PP.H4.abf\n",
       "20 0.9147419 CD4T      HLA-DPB1_RPS26    882              PP.H4.abf\n",
       "21 0.9651487 CD4T      HLA-DRA_RPS26     882              PP.H4.abf\n",
       "24 0.9276682 CD4T      LINC00493_RPS26   882              PP.H4.abf\n",
       "27 0.9515798 CD4T      MIR4435-1HG_RPS26 882              PP.H4.abf\n",
       "   start_position end_position description chromosome_name\n",
       "3  NA             NA           NA          NA             \n",
       "19 NA             NA           NA          NA             \n",
       "20 NA             NA           NA          NA             \n",
       "21 NA             NA           NA          NA             \n",
       "24 NA             NA           NA          NA             \n",
       "27 NA             NA           NA          NA             "
      ]
     },
     "metadata": {},
     "output_type": "display_data"
    }
   ],
   "source": [
    "head(coloc_examples_rheomatoid_arthritis[is.na(coloc_examples_rheomatoid_arthritis$chromosome_name),])"
   ]
  },
  {
   "cell_type": "code",
   "execution_count": 163,
   "id": "5ff8f920-e5f3-4a88-8658-380368b1ee69",
   "metadata": {},
   "outputs": [],
   "source": [
    "#head(coloc_examples_rheomatoid_arthritis,4)"
   ]
  },
  {
   "cell_type": "code",
   "execution_count": null,
   "id": "71e571e3-a131-4ff4-b10b-ca361e795c60",
   "metadata": {},
   "outputs": [],
   "source": []
  },
  {
   "cell_type": "code",
   "execution_count": 164,
   "id": "7f584316-cf94-4cf6-8480-1fd1dc05cc53",
   "metadata": {},
   "outputs": [
    {
     "data": {
      "text/html": [
       "41"
      ],
      "text/latex": [
       "41"
      ],
      "text/markdown": [
       "41"
      ],
      "text/plain": [
       "[1] 41"
      ]
     },
     "metadata": {},
     "output_type": "display_data"
    }
   ],
   "source": [
    "nrow(coloc_examples_rheomatoid_arthritis)"
   ]
  },
  {
   "cell_type": "code",
   "execution_count": 165,
   "id": "095b56c8-4aee-4d32-9c52-75c0d363877e",
   "metadata": {},
   "outputs": [],
   "source": [
    "write.table(coloc_examples_rheomatoid_arthritis, file = paste0(path, \"/colocalization_results/\", \"CD4T_RPS26_Rheomatoid_Arthritis_Colocalization_CoeGenes.csv\"), append =FALSE, sep = \",\", row.names = FALSE, col.names =TRUE)"
   ]
  }
 ],
 "metadata": {
  "kernelspec": {
   "display_name": "R",
   "language": "R",
   "name": "ir"
  },
  "language_info": {
   "codemirror_mode": "r",
   "file_extension": ".r",
   "mimetype": "text/x-r-source",
   "name": "R",
   "pygments_lexer": "r",
   "version": "4.1.1"
  }
 },
 "nbformat": 4,
 "nbformat_minor": 5
}
